{
  "nbformat": 4,
  "nbformat_minor": 0,
  "metadata": {
    "colab": {
      "provenance": []
    },
    "kernelspec": {
      "name": "python3",
      "display_name": "Python 3"
    },
    "language_info": {
      "name": "python"
    }
  },
  "cells": [
    {
      "cell_type": "markdown",
      "source": [
        "# Operator:\n",
        "- operators are used to perform operations on variables and values\n",
        "- operators are special symbols that carry out logical or arithmatic computation\n",
        "- the value that the operator operates on is called the operand\n",
        "- 2+3=5, here 2 and 3 are values/variables or operand ,5 is output and + is addition operator"
      ],
      "metadata": {
        "id": "8lpp-T_873VT"
      }
    },
    {
      "cell_type": "markdown",
      "source": [
        "# Operators in Python:\n",
        "1. Arithmatic\n",
        "2. Assignment\n",
        "3. Comparision\n",
        "4. Logical\n",
        "5. Identity\n",
        "6. Membership\n",
        "7. Bitwise"
      ],
      "metadata": {
        "id": "o8lS_f-t8gYj"
      }
    },
    {
      "cell_type": "code",
      "execution_count": null,
      "metadata": {
        "colab": {
          "base_uri": "https://localhost:8080/"
        },
        "id": "xx6Txn9A697C",
        "outputId": "82c6e457-bfc8-462d-a95c-c17e53212f3e"
      },
      "outputs": [
        {
          "output_type": "stream",
          "name": "stdout",
          "text": [
            "15\n",
            "5\n",
            "50\n",
            "2.0\n",
            "0\n"
          ]
        }
      ],
      "source": [
        "# arithmatic\n",
        "\n",
        "x = 10\n",
        "y = 5\n",
        "print(x+y) # 15\n",
        "print(x-y)  # 5\n",
        "print(x*y)  # 50\n",
        "print(x/y) # 2\n",
        "print(x%y) # 0"
      ]
    },
    {
      "cell_type": "code",
      "source": [
        "string = \"Hello\"\n",
        "string[0]='h'\n",
        "print(string)"
      ],
      "metadata": {
        "colab": {
          "base_uri": "https://localhost:8080/",
          "height": 176
        },
        "id": "gpuYOyA1A9Q7",
        "outputId": "a5931579-c2d4-480a-e336-69b0e51bd948"
      },
      "execution_count": null,
      "outputs": [
        {
          "output_type": "error",
          "ename": "TypeError",
          "evalue": "'str' object does not support item assignment",
          "traceback": [
            "\u001b[0;31m---------------------------------------------------------------------------\u001b[0m",
            "\u001b[0;31mTypeError\u001b[0m                                 Traceback (most recent call last)",
            "\u001b[0;32m<ipython-input-1-c2ee688aa6a8>\u001b[0m in \u001b[0;36m<cell line: 0>\u001b[0;34m()\u001b[0m\n\u001b[1;32m      1\u001b[0m \u001b[0mstring\u001b[0m \u001b[0;34m=\u001b[0m \u001b[0;34m\"Hello\"\u001b[0m\u001b[0;34m\u001b[0m\u001b[0;34m\u001b[0m\u001b[0m\n\u001b[0;32m----> 2\u001b[0;31m \u001b[0mstring\u001b[0m\u001b[0;34m[\u001b[0m\u001b[0;36m0\u001b[0m\u001b[0;34m]\u001b[0m\u001b[0;34m=\u001b[0m\u001b[0;34m'h'\u001b[0m\u001b[0;34m\u001b[0m\u001b[0;34m\u001b[0m\u001b[0m\n\u001b[0m\u001b[1;32m      3\u001b[0m \u001b[0mprint\u001b[0m\u001b[0;34m(\u001b[0m\u001b[0mstring\u001b[0m\u001b[0;34m)\u001b[0m\u001b[0;34m\u001b[0m\u001b[0;34m\u001b[0m\u001b[0m\n",
            "\u001b[0;31mTypeError\u001b[0m: 'str' object does not support item assignment"
          ]
        }
      ]
    },
    {
      "cell_type": "code",
      "source": [
        "2 ** 3 ** 2"
      ],
      "metadata": {
        "colab": {
          "base_uri": "https://localhost:8080/"
        },
        "id": "_Qy89jY1wfz5",
        "outputId": "b043e839-3a5e-477c-da40-323ad2e6ee01"
      },
      "execution_count": null,
      "outputs": [
        {
          "output_type": "execute_result",
          "data": {
            "text/plain": [
              "512"
            ]
          },
          "metadata": {},
          "execution_count": 1
        }
      ]
    },
    {
      "cell_type": "code",
      "source": [
        "# exponent: leftoperand raise to the power of right\n",
        "# x**y\n",
        "# 10**5\n",
        "\n",
        "print(x**y)\n",
        "\n"
      ],
      "metadata": {
        "colab": {
          "base_uri": "https://localhost:8080/"
        },
        "id": "0sBkrV_v9BKq",
        "outputId": "f550f525-8061-45c1-cc87-dcf02e2f76b0"
      },
      "execution_count": null,
      "outputs": [
        {
          "output_type": "stream",
          "name": "stdout",
          "text": [
            "100000\n"
          ]
        }
      ]
    },
    {
      "cell_type": "code",
      "source": [
        "print(2**3)"
      ],
      "metadata": {
        "colab": {
          "base_uri": "https://localhost:8080/"
        },
        "id": "ukQ26Msw9Uhd",
        "outputId": "659d70b8-52b3-4fdc-db6f-920f9fc12f31"
      },
      "execution_count": null,
      "outputs": [
        {
          "output_type": "stream",
          "name": "stdout",
          "text": [
            "8\n"
          ]
        }
      ]
    },
    {
      "cell_type": "code",
      "source": [
        "# floor division: division that results into whole number adjusted to the left in the number line\n",
        "# x//y\n",
        "\n",
        "print(x//y)"
      ],
      "metadata": {
        "colab": {
          "base_uri": "https://localhost:8080/"
        },
        "id": "JClfHNgN9YGK",
        "outputId": "497adc16-bc1f-4306-af77-7ba3bcd51f96"
      },
      "execution_count": null,
      "outputs": [
        {
          "output_type": "stream",
          "name": "stdout",
          "text": [
            "2\n"
          ]
        }
      ]
    },
    {
      "cell_type": "code",
      "source": [
        "print(3//2)\n",
        "print(3/2)"
      ],
      "metadata": {
        "colab": {
          "base_uri": "https://localhost:8080/"
        },
        "id": "l6sOSeIq9oYz",
        "outputId": "baa3d941-9bd8-42f5-d6ca-a67e3bc05256"
      },
      "execution_count": null,
      "outputs": [
        {
          "output_type": "stream",
          "name": "stdout",
          "text": [
            "1\n",
            "1.5\n"
          ]
        }
      ]
    },
    {
      "cell_type": "code",
      "source": [
        "# comparision operator: These are used to compare values. it returns true/false according to the condition\n",
        "# ==,!=,>,<,>=,<=\n",
        "\n",
        "print(x)\n",
        "print(y)\n",
        "print(\"x > y\",x > y)\n",
        "print(\"x < y\",x < y)\n",
        "print(\"x >= y\",x >= y)\n",
        "print(\"x <= y\",x <= y)\n",
        "print(\"x != y\",x != y)\n",
        "print(\"x == y\",x == y)"
      ],
      "metadata": {
        "colab": {
          "base_uri": "https://localhost:8080/"
        },
        "id": "BZfYK1p-92aZ",
        "outputId": "64595db4-de96-4f95-a0ef-d9e57bda5a66"
      },
      "execution_count": null,
      "outputs": [
        {
          "output_type": "stream",
          "name": "stdout",
          "text": [
            "10\n",
            "5\n",
            "x > y True\n",
            "x < y False\n",
            "x >= y True\n",
            "x <= y False\n",
            "x != y True\n",
            "x == y False\n"
          ]
        }
      ]
    },
    {
      "cell_type": "code",
      "source": [
        "# logical operators\n",
        "# and,or,not\n",
        "\n",
        "x = True\n",
        "y = False\n",
        "print(x and y)  # and - true if both operands are true\n",
        "print(x or y)   # or - true if either one of the operands is true\n",
        "print(not x)\n",
        "print(not y)  # not - true if operand is false,"
      ],
      "metadata": {
        "colab": {
          "base_uri": "https://localhost:8080/"
        },
        "id": "hh3sd19V-HFz",
        "outputId": "d042e81c-b34b-4052-fd2f-06a628bca6ff"
      },
      "execution_count": null,
      "outputs": [
        {
          "output_type": "stream",
          "name": "stdout",
          "text": [
            "False\n",
            "True\n",
            "False\n",
            "True\n"
          ]
        }
      ]
    },
    {
      "cell_type": "code",
      "source": [
        "a = 10\n",
        "b =7\n",
        "print(a and b)  # if first value is true then output it depends on second value"
      ],
      "metadata": {
        "colab": {
          "base_uri": "https://localhost:8080/"
        },
        "id": "Ac_OAgEY-e1T",
        "outputId": "34b23313-ca1a-4079-e7c0-961d69377851"
      },
      "execution_count": null,
      "outputs": [
        {
          "output_type": "stream",
          "name": "stdout",
          "text": [
            "7\n"
          ]
        }
      ]
    },
    {
      "cell_type": "code",
      "source": [
        "a1 = 4\n",
        "b1=17\n",
        "print(a1 and b1)"
      ],
      "metadata": {
        "colab": {
          "base_uri": "https://localhost:8080/"
        },
        "id": "ppDWhY7u-r7u",
        "outputId": "8a46e8ce-35cd-4222-85b4-8398b1baef7c"
      },
      "execution_count": null,
      "outputs": [
        {
          "output_type": "stream",
          "name": "stdout",
          "text": [
            "17\n"
          ]
        }
      ]
    },
    {
      "cell_type": "code",
      "source": [
        "a2 = 0\n",
        "b2=3\n",
        "print(a2 and b2)"
      ],
      "metadata": {
        "colab": {
          "base_uri": "https://localhost:8080/"
        },
        "id": "OnuJUUvD-vqS",
        "outputId": "8a49982a-6c5b-40cc-ed28-dedc6a567829"
      },
      "execution_count": null,
      "outputs": [
        {
          "output_type": "stream",
          "name": "stdout",
          "text": [
            "0\n"
          ]
        }
      ]
    },
    {
      "cell_type": "code",
      "source": [
        "a3 = 5\n",
        "b3=0\n",
        "print(a3 and b3)"
      ],
      "metadata": {
        "colab": {
          "base_uri": "https://localhost:8080/"
        },
        "id": "PC0aYAkc-yhK",
        "outputId": "d5a52650-f524-4435-84c8-24c619960ece"
      },
      "execution_count": null,
      "outputs": [
        {
          "output_type": "stream",
          "name": "stdout",
          "text": [
            "0\n"
          ]
        }
      ]
    },
    {
      "cell_type": "code",
      "source": [
        "# 0 means false, except 0 all the values are true\n",
        "a4 = -1   # true value\n",
        "b4 = -2  # true\n",
        "print(a4 and b4)"
      ],
      "metadata": {
        "colab": {
          "base_uri": "https://localhost:8080/"
        },
        "id": "qQIyDNBh-3JW",
        "outputId": "1311c43a-c7c9-49c2-ec00-f7efd65315af"
      },
      "execution_count": null,
      "outputs": [
        {
          "output_type": "stream",
          "name": "stdout",
          "text": [
            "-2\n"
          ]
        }
      ]
    },
    {
      "cell_type": "code",
      "source": [
        "a5 = -1   # true value\n",
        "b5 = 0  # false\n",
        "print(a5 and b5)"
      ],
      "metadata": {
        "colab": {
          "base_uri": "https://localhost:8080/"
        },
        "id": "Yuk4WJbR_GpP",
        "outputId": "a0150a70-873b-4bf8-a05a-35a5f41711fa"
      },
      "execution_count": null,
      "outputs": [
        {
          "output_type": "stream",
          "name": "stdout",
          "text": [
            "0\n"
          ]
        }
      ]
    },
    {
      "cell_type": "code",
      "source": [
        "# OR: if first value is true it will not focus on second value\n",
        "# AND: if first value is true, still it will check second value\n",
        "# That means AND focus on second value and OR focus on first value\n",
        "\n",
        "a6 =5\n",
        "b6 = 3\n",
        "print(a6 or b6)\n"
      ],
      "metadata": {
        "colab": {
          "base_uri": "https://localhost:8080/"
        },
        "id": "G5MBsuyd_PHi",
        "outputId": "32a58600-fb96-44aa-e276-e38666e8be19"
      },
      "execution_count": null,
      "outputs": [
        {
          "output_type": "stream",
          "name": "stdout",
          "text": [
            "5\n"
          ]
        }
      ]
    },
    {
      "cell_type": "code",
      "source": [
        "a7 = 7\n",
        "b7 = -1\n",
        "print(a7 or b7)"
      ],
      "metadata": {
        "colab": {
          "base_uri": "https://localhost:8080/"
        },
        "id": "SA29I2om_YVZ",
        "outputId": "5f0c9329-3208-46e4-cd86-449b75df2527"
      },
      "execution_count": null,
      "outputs": [
        {
          "output_type": "stream",
          "name": "stdout",
          "text": [
            "7\n"
          ]
        }
      ]
    },
    {
      "cell_type": "code",
      "source": [
        "a8 = 0\n",
        "b8 = 1\n",
        "print(a8 or b8)"
      ],
      "metadata": {
        "colab": {
          "base_uri": "https://localhost:8080/"
        },
        "id": "Cca1bUJ1_b2e",
        "outputId": "1b9b5a5f-5bb0-468e-a66b-fa87252c24bf"
      },
      "execution_count": null,
      "outputs": [
        {
          "output_type": "stream",
          "name": "stdout",
          "text": [
            "1\n"
          ]
        }
      ]
    },
    {
      "cell_type": "code",
      "source": [
        "# not\n",
        "\n",
        "a9 = True\n",
        "print(\"not a9 is: \", not a9)"
      ],
      "metadata": {
        "colab": {
          "base_uri": "https://localhost:8080/"
        },
        "id": "MySJm_FI_fe0",
        "outputId": "e15d4841-2f96-4cae-9a3a-f96904eb2b29"
      },
      "execution_count": null,
      "outputs": [
        {
          "output_type": "stream",
          "name": "stdout",
          "text": [
            "not a9 is:  False\n"
          ]
        }
      ]
    },
    {
      "cell_type": "code",
      "source": [
        "print(not(5<3 and 5<33))"
      ],
      "metadata": {
        "colab": {
          "base_uri": "https://localhost:8080/"
        },
        "id": "MbbKPINq_maf",
        "outputId": "649896ab-9e77-43b8-b024-42db23ddb97b"
      },
      "execution_count": null,
      "outputs": [
        {
          "output_type": "stream",
          "name": "stdout",
          "text": [
            "True\n"
          ]
        }
      ]
    },
    {
      "cell_type": "code",
      "source": [
        "print(not(5>3 and 5<33))"
      ],
      "metadata": {
        "colab": {
          "base_uri": "https://localhost:8080/"
        },
        "id": "KRqZeZ7qANkO",
        "outputId": "169f4b0c-beac-406e-92e1-551bce945d23"
      },
      "execution_count": null,
      "outputs": [
        {
          "output_type": "stream",
          "name": "stdout",
          "text": [
            "False\n"
          ]
        }
      ]
    },
    {
      "cell_type": "code",
      "source": [
        "# bitwise operator: act on operands as if they were strings of binary digits, operates bit by bit\n",
        "x = 10  # 1010 is binary for 10\n",
        "y =4   #0100 is binary for 4"
      ],
      "metadata": {
        "id": "jBR031nOAP5k"
      },
      "execution_count": null,
      "outputs": []
    },
    {
      "cell_type": "code",
      "source": [
        "# & -> bitwise AND\n",
        "# 1010 & 0100 =  0000\n",
        "print(x & y)"
      ],
      "metadata": {
        "colab": {
          "base_uri": "https://localhost:8080/"
        },
        "id": "6pIxVeRSAiLt",
        "outputId": "9a517bf6-f04c-4e07-cd49-bd2cfcf7fe13"
      },
      "execution_count": null,
      "outputs": [
        {
          "output_type": "stream",
          "name": "stdout",
          "text": [
            "0\n"
          ]
        }
      ]
    },
    {
      "cell_type": "code",
      "source": [
        "# | -> bitwise OR\n",
        "# 1010 | 0100 = 1110  ->14\n",
        "print(x|y)"
      ],
      "metadata": {
        "colab": {
          "base_uri": "https://localhost:8080/"
        },
        "id": "VU_urmb0A1Wm",
        "outputId": "b5edd66b-1b5a-4cd1-eb6a-f2e8170f866c"
      },
      "execution_count": null,
      "outputs": [
        {
          "output_type": "stream",
          "name": "stdout",
          "text": [
            "14\n"
          ]
        }
      ]
    },
    {
      "cell_type": "code",
      "source": [
        "# ~ -> bitwise NOT\n",
        "# ~1010 = ~0101 -> 1010 + 1 -> 11 (add the minus sign) -> -11\n",
        "print(x)\n",
        "print(~x)"
      ],
      "metadata": {
        "colab": {
          "base_uri": "https://localhost:8080/"
        },
        "id": "DUoM750GZZyF",
        "outputId": "ea55bcda-9bf4-484e-9107-dffe929f48a8"
      },
      "execution_count": null,
      "outputs": [
        {
          "output_type": "stream",
          "name": "stdout",
          "text": [
            "10\n",
            "-11\n"
          ]
        }
      ]
    },
    {
      "cell_type": "code",
      "source": [
        "print(y)\n",
        "print(~y)"
      ],
      "metadata": {
        "colab": {
          "base_uri": "https://localhost:8080/"
        },
        "id": "d6beYXdaZvsB",
        "outputId": "3ccd4ac2-bb76-4c12-c826-df3c71a87c47"
      },
      "execution_count": null,
      "outputs": [
        {
          "output_type": "stream",
          "name": "stdout",
          "text": [
            "4\n",
            "-5\n"
          ]
        }
      ]
    },
    {
      "cell_type": "code",
      "source": [
        "# biwise XOR using ^  - returns 1 only if bits are different\n",
        "# 1010 ^ 0100 = 1110 =14\n",
        "print(x^y)"
      ],
      "metadata": {
        "colab": {
          "base_uri": "https://localhost:8080/"
        },
        "id": "b6sI7WbTZ6yE",
        "outputId": "c89690e3-2fcc-43f2-a726-59e361d4f9f7"
      },
      "execution_count": null,
      "outputs": [
        {
          "output_type": "stream",
          "name": "stdout",
          "text": [
            "14\n"
          ]
        }
      ]
    },
    {
      "cell_type": "code",
      "source": [
        "# bitwise right shift using >>\n",
        "# 00001010 -> 00000010 =2\n",
        "\n",
        "print(x>>2)"
      ],
      "metadata": {
        "colab": {
          "base_uri": "https://localhost:8080/"
        },
        "id": "zkG-Prg5bE-P",
        "outputId": "0cbe879c-9904-4f9e-93fc-3afd449f4749"
      },
      "execution_count": null,
      "outputs": [
        {
          "output_type": "stream",
          "name": "stdout",
          "text": [
            "2\n"
          ]
        }
      ]
    },
    {
      "cell_type": "code",
      "source": [
        "#00000100 -> 00000001 =1\n",
        "print(y>>2)"
      ],
      "metadata": {
        "colab": {
          "base_uri": "https://localhost:8080/"
        },
        "id": "_py_2p_3bVfa",
        "outputId": "8b174116-ba6c-42fe-b29e-db895ff719b8"
      },
      "execution_count": null,
      "outputs": [
        {
          "output_type": "stream",
          "name": "stdout",
          "text": [
            "1\n"
          ]
        }
      ]
    },
    {
      "cell_type": "code",
      "source": [
        "# bitwise leftshift using <<\n",
        "# 00001010 -> 00101000 =40\n",
        "print(x<<2)"
      ],
      "metadata": {
        "colab": {
          "base_uri": "https://localhost:8080/"
        },
        "id": "MG-tb0kPbbz7",
        "outputId": "9f2f15ea-3655-4040-c33e-d8319e209bbb"
      },
      "execution_count": null,
      "outputs": [
        {
          "output_type": "stream",
          "name": "stdout",
          "text": [
            "40\n"
          ]
        }
      ]
    },
    {
      "cell_type": "code",
      "source": [
        "#00000100  -> 00010000 =16\n",
        "print(y<<2)"
      ],
      "metadata": {
        "colab": {
          "base_uri": "https://localhost:8080/"
        },
        "id": "UlAaHuOHbw67",
        "outputId": "7eed86e6-baf2-4a6d-d52d-c9f3bbe05d96"
      },
      "execution_count": null,
      "outputs": [
        {
          "output_type": "stream",
          "name": "stdout",
          "text": [
            "16\n"
          ]
        }
      ]
    },
    {
      "cell_type": "markdown",
      "source": [
        "#Assignment oprator\n",
        "- To assign value to the variables\n",
        "- a = 5\n",
        "- assign the value of right to left variable\n"
      ],
      "metadata": {
        "id": "x7HOvs1Kt_Mm"
      }
    },
    {
      "cell_type": "code",
      "source": [
        "a = 5"
      ],
      "metadata": {
        "id": "aLfLJROtthFc"
      },
      "execution_count": null,
      "outputs": []
    },
    {
      "cell_type": "code",
      "source": [
        "print(a)"
      ],
      "metadata": {
        "colab": {
          "base_uri": "https://localhost:8080/"
        },
        "id": "252-hKO2tnkR",
        "outputId": "428af83c-638e-418e-8cbb-bafd5602a034"
      },
      "execution_count": null,
      "outputs": [
        {
          "output_type": "stream",
          "name": "stdout",
          "text": [
            "5\n"
          ]
        }
      ]
    },
    {
      "cell_type": "code",
      "source": [
        "a += 5\n",
        "print(a)\n",
        "# a += 5 is same as a = a+5\n"
      ],
      "metadata": {
        "colab": {
          "base_uri": "https://localhost:8080/"
        },
        "id": "CcaePgQVtpBg",
        "outputId": "f901e39e-4c14-4918-f39d-5ab9f060802f"
      },
      "execution_count": null,
      "outputs": [
        {
          "output_type": "stream",
          "name": "stdout",
          "text": [
            "10\n"
          ]
        }
      ]
    },
    {
      "cell_type": "code",
      "source": [
        "a -= 5\n",
        "print(a)\n"
      ],
      "metadata": {
        "colab": {
          "base_uri": "https://localhost:8080/"
        },
        "id": "TbVxivN2uJoW",
        "outputId": "20d68084-d1f0-49f5-e1ef-63846293e9e4"
      },
      "execution_count": null,
      "outputs": [
        {
          "output_type": "stream",
          "name": "stdout",
          "text": [
            "5\n"
          ]
        }
      ]
    },
    {
      "cell_type": "code",
      "source": [
        "a *= 5\n",
        "print(a)\n",
        "a /= 5\n",
        "print(a)"
      ],
      "metadata": {
        "colab": {
          "base_uri": "https://localhost:8080/"
        },
        "id": "tJ1UJUVcub2k",
        "outputId": "866e6a91-8a7d-4e40-d18c-a0d93f38c41b"
      },
      "execution_count": null,
      "outputs": [
        {
          "output_type": "stream",
          "name": "stdout",
          "text": [
            "25\n",
            "5.0\n"
          ]
        }
      ]
    },
    {
      "cell_type": "code",
      "source": [
        "a %= 5\n",
        "print(a)"
      ],
      "metadata": {
        "colab": {
          "base_uri": "https://localhost:8080/"
        },
        "id": "_Qeq5pVhukYH",
        "outputId": "f99eecbc-eaf2-48ec-857a-fbfc8bce02bf"
      },
      "execution_count": null,
      "outputs": [
        {
          "output_type": "stream",
          "name": "stdout",
          "text": [
            "0.0\n"
          ]
        }
      ]
    },
    {
      "cell_type": "code",
      "source": [
        "x = 5\n",
        "x &= 5\n",
        "print(x)\n",
        "# &: perform bitwise and operation on int values.\n",
        "# and: perform logical and operators in boolean expresion"
      ],
      "metadata": {
        "colab": {
          "base_uri": "https://localhost:8080/"
        },
        "id": "EkAW0jUOuvIS",
        "outputId": "349a17de-d815-467f-a066-7b0e7d76853d"
      },
      "execution_count": null,
      "outputs": [
        {
          "output_type": "stream",
          "name": "stdout",
          "text": [
            "5\n"
          ]
        }
      ]
    },
    {
      "cell_type": "code",
      "source": [
        "x |= 5\n",
        "print(x)"
      ],
      "metadata": {
        "colab": {
          "base_uri": "https://localhost:8080/"
        },
        "id": "tmW07ZZdvEUK",
        "outputId": "e00bb2be-446d-4262-86a0-712cc3aa3078"
      },
      "execution_count": null,
      "outputs": [
        {
          "output_type": "stream",
          "name": "stdout",
          "text": [
            "5\n"
          ]
        }
      ]
    },
    {
      "cell_type": "code",
      "source": [
        "x != 5\n",
        "print(x)"
      ],
      "metadata": {
        "colab": {
          "base_uri": "https://localhost:8080/"
        },
        "id": "eDj8nJKRwOUn",
        "outputId": "31152a8e-d7b1-4aec-a2e2-d93e58a37d98"
      },
      "execution_count": null,
      "outputs": [
        {
          "output_type": "stream",
          "name": "stdout",
          "text": [
            "5\n"
          ]
        }
      ]
    },
    {
      "cell_type": "code",
      "source": [
        "a = 6\n",
        "b = 5\n",
        "print(a == b)"
      ],
      "metadata": {
        "colab": {
          "base_uri": "https://localhost:8080/"
        },
        "id": "SteBWdGVwcAZ",
        "outputId": "edcffc7c-37e6-4eee-cf05-158a3199a0a9"
      },
      "execution_count": null,
      "outputs": [
        {
          "output_type": "stream",
          "name": "stdout",
          "text": [
            "False\n"
          ]
        }
      ]
    },
    {
      "cell_type": "markdown",
      "source": [
        "# Notes:\n",
        "- '==' use for comparision\n",
        "- '=' use for assigement"
      ],
      "metadata": {
        "id": "gCkM6_128XZK"
      }
    },
    {
      "cell_type": "markdown",
      "source": [
        "# Special operators\n",
        "1. Identity operators : it compair the memory location for two variables or values\n",
        "  - is: return TRUE if operand are identical\n",
        "  - is not: return TRUE if operand are not identical\n",
        "2. Membership operators: They are use to test value or variable is find in a sequence\n",
        "  - in: return TRUE if value and variable are in sequence\n",
        "  - not in: return TRUE if value and variable are not in sequence\n"
      ],
      "metadata": {
        "id": "1nM308B2w48q"
      }
    },
    {
      "cell_type": "code",
      "source": [
        "x = 5\n",
        "y = 5\n",
        "print(x is y)"
      ],
      "metadata": {
        "colab": {
          "base_uri": "https://localhost:8080/"
        },
        "id": "ya10e3d6wso0",
        "outputId": "42e0abe6-3c0d-444a-d28e-97bfbf603ec0"
      },
      "execution_count": null,
      "outputs": [
        {
          "output_type": "stream",
          "name": "stdout",
          "text": [
            "True\n"
          ]
        }
      ]
    },
    {
      "cell_type": "code",
      "source": [
        "s1 = 'Python'\n",
        "s2 = 'Python'\n",
        "print(s1 is s2)"
      ],
      "metadata": {
        "colab": {
          "base_uri": "https://localhost:8080/"
        },
        "id": "td0fznZ_x_Rx",
        "outputId": "4fdc1494-2c4c-4769-9fd5-db4573fb3c35"
      },
      "execution_count": null,
      "outputs": [
        {
          "output_type": "stream",
          "name": "stdout",
          "text": [
            "True\n"
          ]
        }
      ]
    },
    {
      "cell_type": "code",
      "source": [
        "s3 = 'Java'\n",
        "print(s2 is not s3)\n",
        "print(s2 is s3)"
      ],
      "metadata": {
        "colab": {
          "base_uri": "https://localhost:8080/"
        },
        "id": "2KobPzSWyKNi",
        "outputId": "37474a76-e1f5-40d6-bc5b-a8646ab4b462"
      },
      "execution_count": null,
      "outputs": [
        {
          "output_type": "stream",
          "name": "stdout",
          "text": [
            "True\n",
            "False\n"
          ]
        }
      ]
    },
    {
      "cell_type": "code",
      "source": [
        "L1 = [1,2,3]\n",
        "L2 = [1,2,3]\n",
        "print(L1 is L2)\n",
        "print(id(L1))\n",
        "print(id(L2))"
      ],
      "metadata": {
        "colab": {
          "base_uri": "https://localhost:8080/"
        },
        "id": "EPjK9iXuyQal",
        "outputId": "59499ea9-be20-4732-836b-f63e9a739078"
      },
      "execution_count": null,
      "outputs": [
        {
          "output_type": "stream",
          "name": "stdout",
          "text": [
            "False\n",
            "136834988610624\n",
            "136835008800448\n"
          ]
        }
      ]
    },
    {
      "cell_type": "code",
      "source": [
        "print(L1 == L2)"
      ],
      "metadata": {
        "colab": {
          "base_uri": "https://localhost:8080/"
        },
        "id": "DftyyuHYyuL6",
        "outputId": "c03d04d9-14bd-4c8b-8219-c590d3347e10"
      },
      "execution_count": null,
      "outputs": [
        {
          "output_type": "stream",
          "name": "stdout",
          "text": [
            "True\n"
          ]
        }
      ]
    },
    {
      "cell_type": "code",
      "source": [
        "T1 = (1,2,3)\n",
        "T2 = (1,2,3)\n",
        "print(id(T1))\n",
        "print(id(T2))\n",
        "print(T1 is T2)\n",
        "print(T1 == T2)"
      ],
      "metadata": {
        "colab": {
          "base_uri": "https://localhost:8080/"
        },
        "id": "CPt5WCQby2b4",
        "outputId": "b686aab4-d17e-41fa-8403-3588fee34f9c"
      },
      "execution_count": null,
      "outputs": [
        {
          "output_type": "stream",
          "name": "stdout",
          "text": [
            "136834986568064\n",
            "136834986384512\n",
            "False\n",
            "True\n"
          ]
        }
      ]
    },
    {
      "cell_type": "code",
      "source": [
        "str1 = 'Hello, wolrd'\n",
        "print('h' in str1)"
      ],
      "metadata": {
        "colab": {
          "base_uri": "https://localhost:8080/"
        },
        "id": "LzfspOTnzb97",
        "outputId": "a3f86130-6735-4f06-e842-66c9e4e2b2ff"
      },
      "execution_count": null,
      "outputs": [
        {
          "output_type": "stream",
          "name": "stdout",
          "text": [
            "False\n"
          ]
        }
      ]
    },
    {
      "cell_type": "code",
      "source": [
        "print('w' in str1)"
      ],
      "metadata": {
        "colab": {
          "base_uri": "https://localhost:8080/"
        },
        "id": "CIkt2v271nek",
        "outputId": "b6deea16-9102-452f-a8e0-d3333b779f4f"
      },
      "execution_count": null,
      "outputs": [
        {
          "output_type": "stream",
          "name": "stdout",
          "text": [
            "True\n"
          ]
        }
      ]
    },
    {
      "cell_type": "code",
      "source": [
        "print('rd' in str1)"
      ],
      "metadata": {
        "colab": {
          "base_uri": "https://localhost:8080/"
        },
        "id": "VY9nXozS1xbj",
        "outputId": "71d03c93-c7ed-4869-b592-9eef19ed6b00"
      },
      "execution_count": null,
      "outputs": [
        {
          "output_type": "stream",
          "name": "stdout",
          "text": [
            "True\n"
          ]
        }
      ]
    },
    {
      "cell_type": "code",
      "source": [
        "print('L' not in str1 )"
      ],
      "metadata": {
        "colab": {
          "base_uri": "https://localhost:8080/"
        },
        "id": "9RVdycB913zd",
        "outputId": "1bd73b55-f163-45c7-b786-c625bb657328"
      },
      "execution_count": null,
      "outputs": [
        {
          "output_type": "stream",
          "name": "stdout",
          "text": [
            "True\n"
          ]
        }
      ]
    },
    {
      "cell_type": "code",
      "source": [
        "dic1 = {1:'a',2:'b'}\n",
        "print(1 in dic1)\n",
        "print('a' in dic1) # we can't check value without key"
      ],
      "metadata": {
        "colab": {
          "base_uri": "https://localhost:8080/"
        },
        "id": "eFO8QwlM2JCE",
        "outputId": "9a9ac8bd-3b7c-4bd6-a12d-54e3d1362888"
      },
      "execution_count": null,
      "outputs": [
        {
          "output_type": "stream",
          "name": "stdout",
          "text": [
            "True\n",
            "False\n"
          ]
        }
      ]
    },
    {
      "cell_type": "code",
      "source": [],
      "metadata": {
        "id": "o9k5-iaP2sR9"
      },
      "execution_count": null,
      "outputs": []
    }
  ]
}