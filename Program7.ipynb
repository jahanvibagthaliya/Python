{
  "nbformat": 4,
  "nbformat_minor": 0,
  "metadata": {
    "colab": {
      "provenance": []
    },
    "kernelspec": {
      "name": "python3",
      "display_name": "Python 3"
    },
    "language_info": {
      "name": "python"
    }
  },
  "cells": [
    {
      "cell_type": "markdown",
      "source": [
        "# Print function:\n",
        "- print the message to the screen or any other output device\n",
        "- print(value,sep,end,file,flush)\n",
        "- By default sep(seprator) is ' '\n",
        "- By default end in '\\n'\n",
        "- By default file is system.stdout\n",
        "- By default flush is boolean(false). flush is optional"
      ],
      "metadata": {
        "id": "hU9Xt6VSIdiS"
      }
    },
    {
      "cell_type": "code",
      "execution_count": null,
      "metadata": {
        "colab": {
          "base_uri": "https://localhost:8080/"
        },
        "id": "A5fhM_cjIQcO",
        "outputId": "bbf7426b-cd36-4177-9297-eae442dfd690"
      },
      "outputs": [
        {
          "output_type": "stream",
          "name": "stdout",
          "text": [
            "18 June 2025\n"
          ]
        }
      ],
      "source": [
        "day = 18\n",
        "mm = 'June'\n",
        "yy = 2025\n",
        "#18-'June'-2025\n",
        "# 18/June/2025\n",
        "print(day,mm,yy)\n"
      ]
    },
    {
      "cell_type": "code",
      "source": [
        "print(day,mm,yy,sep='/')"
      ],
      "metadata": {
        "colab": {
          "base_uri": "https://localhost:8080/"
        },
        "id": "jfzsRLACJ5_-",
        "outputId": "67336897-acf4-44a5-a604-3817caddff15"
      },
      "execution_count": null,
      "outputs": [
        {
          "output_type": "stream",
          "name": "stdout",
          "text": [
            "18/June/2025\n"
          ]
        }
      ]
    },
    {
      "cell_type": "code",
      "source": [
        "print(day,mm,yy,sep='-')"
      ],
      "metadata": {
        "colab": {
          "base_uri": "https://localhost:8080/"
        },
        "id": "kvcUR4dYKGwb",
        "outputId": "8e58471d-8fb7-4460-d556-09be7a576024"
      },
      "execution_count": null,
      "outputs": [
        {
          "output_type": "stream",
          "name": "stdout",
          "text": [
            "18-June-2025\n"
          ]
        }
      ]
    },
    {
      "cell_type": "code",
      "source": [
        "for i in range(1,11):\n",
        "  print(i)"
      ],
      "metadata": {
        "colab": {
          "base_uri": "https://localhost:8080/"
        },
        "id": "cclUCp32KLp8",
        "outputId": "4dafc077-090b-42a9-f231-2264c43f9de6"
      },
      "execution_count": null,
      "outputs": [
        {
          "output_type": "stream",
          "name": "stdout",
          "text": [
            "1\n",
            "2\n",
            "3\n",
            "4\n",
            "5\n",
            "6\n",
            "7\n",
            "8\n",
            "9\n",
            "10\n"
          ]
        }
      ]
    },
    {
      "cell_type": "code",
      "source": [
        "for i in range(1,11):\n",
        "  print(i,end=' ')"
      ],
      "metadata": {
        "colab": {
          "base_uri": "https://localhost:8080/"
        },
        "id": "kgYCvExXKfMC",
        "outputId": "bf36fa12-be16-42e7-a75d-50b0dfb710a6"
      },
      "execution_count": null,
      "outputs": [
        {
          "output_type": "stream",
          "name": "stdout",
          "text": [
            "1 2 3 4 5 6 7 8 9 10 "
          ]
        }
      ]
    },
    {
      "cell_type": "code",
      "source": [
        "for i in range(1,11):\n",
        "  print(i,end=',')"
      ],
      "metadata": {
        "colab": {
          "base_uri": "https://localhost:8080/"
        },
        "id": "jBWHs0VRKk3i",
        "outputId": "3a35a508-15de-4820-c758-0627b3f5a615"
      },
      "execution_count": null,
      "outputs": [
        {
          "output_type": "stream",
          "name": "stdout",
          "text": [
            "1,2,3,4,5,6,7,8,9,10,"
          ]
        }
      ]
    },
    {
      "cell_type": "markdown",
      "source": [
        "# Input method\n",
        "- input function allow user to give input\n",
        "- input(prompt)\n",
        "- string default messaage before input"
      ],
      "metadata": {
        "id": "nJZU6ndRK6JH"
      }
    },
    {
      "cell_type": "code",
      "source": [
        "a = input()\n",
        "print(a)"
      ],
      "metadata": {
        "colab": {
          "base_uri": "https://localhost:8080/"
        },
        "id": "b1oHs04OKqGf",
        "outputId": "8f790228-f896-40f1-b2b4-7f05c20436b9"
      },
      "execution_count": null,
      "outputs": [
        {
          "output_type": "stream",
          "name": "stdout",
          "text": [
            "10\n",
            "10\n"
          ]
        }
      ]
    },
    {
      "cell_type": "code",
      "source": [
        "print(type(a))"
      ],
      "metadata": {
        "colab": {
          "base_uri": "https://localhost:8080/"
        },
        "id": "v7RWhh0HLnPi",
        "outputId": "35970f45-ed27-47e5-e4be-a20db7dd95c1"
      },
      "execution_count": null,
      "outputs": [
        {
          "output_type": "stream",
          "name": "stdout",
          "text": [
            "<class 'str'>\n"
          ]
        }
      ]
    },
    {
      "cell_type": "code",
      "source": [
        "x = input('Enter MIS')\n",
        "print(x)\n",
        "print(type(x))"
      ],
      "metadata": {
        "colab": {
          "base_uri": "https://localhost:8080/"
        },
        "id": "WNlbXZi9L0GN",
        "outputId": "19ce4f16-aa3a-4df3-a937-7fd19589548a"
      },
      "execution_count": null,
      "outputs": [
        {
          "output_type": "stream",
          "name": "stdout",
          "text": [
            "Enter MIS2022\n",
            "2022\n",
            "<class 'str'>\n"
          ]
        }
      ]
    },
    {
      "cell_type": "code",
      "source": [
        "no = int(input('Enter a number: '))\n",
        "print(no)\n",
        "print(type(no))"
      ],
      "metadata": {
        "colab": {
          "base_uri": "https://localhost:8080/"
        },
        "id": "cF8OXZ-tMGnU",
        "outputId": "e2bdf655-49d7-489a-867d-8e3b87decee3"
      },
      "execution_count": null,
      "outputs": [
        {
          "output_type": "stream",
          "name": "stdout",
          "text": [
            "Enter a number: 45\n",
            "45\n",
            "<class 'int'>\n"
          ]
        }
      ]
    },
    {
      "cell_type": "code",
      "source": [
        "Marks = float(input('Enter marks: '))\n",
        "print(Marks)\n",
        "print(type(Marks))"
      ],
      "metadata": {
        "colab": {
          "base_uri": "https://localhost:8080/"
        },
        "id": "48KwuhxiMks_",
        "outputId": "3aae0334-e47c-4bf2-d5e2-8641a9db8585"
      },
      "execution_count": null,
      "outputs": [
        {
          "output_type": "stream",
          "name": "stdout",
          "text": [
            "Enter marks: 58.48\n",
            "58.48\n",
            "<class 'float'>\n"
          ]
        }
      ]
    },
    {
      "cell_type": "code",
      "source": [],
      "metadata": {
        "id": "JCka67JvMqUv"
      },
      "execution_count": null,
      "outputs": []
    }
  ]
}