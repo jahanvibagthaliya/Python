{
  "nbformat": 4,
  "nbformat_minor": 0,
  "metadata": {
    "colab": {
      "provenance": []
    },
    "kernelspec": {
      "name": "python3",
      "display_name": "Python 3"
    },
    "language_info": {
      "name": "python"
    }
  },
  "cells": [
    {
      "cell_type": "markdown",
      "source": [
        "# String\n",
        "- String is immutable.\n",
        "- String is unstructured data type\n",
        "- String is sequence of unicode character\n",
        "- Computer do not deal with character, even if you may see the characters on screen, they deal with binary, conversion of character to number is call encoding and reverse process is call decoding. ASCII is encoding\n",
        "techniques.\n",
        "- String can be created by enclosing characters inside ' ', \" \", ''' '''(DOC string or multiline string)"
      ],
      "metadata": {
        "id": "JQv8ZDunyc_Q"
      }
    },
    {
      "cell_type": "code",
      "execution_count": null,
      "metadata": {
        "colab": {
          "base_uri": "https://localhost:8080/"
        },
        "id": "AEN33QV-yOkR",
        "outputId": "e564a8b4-8685-4b16-cbb4-85c7de466ef6"
      },
      "outputs": [
        {
          "output_type": "stream",
          "name": "stdout",
          "text": [
            "Python\n",
            "<class 'str'>\n"
          ]
        }
      ],
      "source": [
        "my_string = 'Python'\n",
        "print(my_string)\n",
        "print(type(my_string))"
      ]
    },
    {
      "cell_type": "markdown",
      "source": [
        "# How to access character from the string\n",
        "1. indexing:\n",
        "Index stars from 0, if we access the character out of range will return 'INDEX error' index must be an integer if we use other data type it will raise 'Type error'\n",
        "\n",
        "2. Slicing:\n",
        "If we want to display a substring from a given string slicing is used\n",
        "\n",
        "1. slice() - inbuild function\n",
        "2. extending indexing -\n",
        "- slice(stop)\n",
        "- slice(start, stop)\n",
        "- slice(start,stop,step)\n",
        "\n",
        "\n",
        "Here step is optional(Determine increment index), start - starting point where slice object starts, stop - excluding"
      ],
      "metadata": {
        "id": "NW1FIqsxyoye"
      }
    },
    {
      "cell_type": "code",
      "source": [
        "my_string[5] # forward indexing"
      ],
      "metadata": {
        "colab": {
          "base_uri": "https://localhost:8080/",
          "height": 36
        },
        "id": "wyrMBQtLylgc",
        "outputId": "1160e7c7-8908-481a-d4ae-55f3fe4c3700"
      },
      "execution_count": null,
      "outputs": [
        {
          "output_type": "execute_result",
          "data": {
            "text/plain": [
              "'n'"
            ],
            "application/vnd.google.colaboratory.intrinsic+json": {
              "type": "string"
            }
          },
          "metadata": {},
          "execution_count": 3
        }
      ]
    },
    {
      "cell_type": "code",
      "source": [
        "my_string[-1] # reverse indexing"
      ],
      "metadata": {
        "colab": {
          "base_uri": "https://localhost:8080/",
          "height": 36
        },
        "id": "jQCRa9fFzTJf",
        "outputId": "5dcbcb96-d4c8-429d-e858-dd46bb420de6"
      },
      "execution_count": null,
      "outputs": [
        {
          "output_type": "execute_result",
          "data": {
            "text/plain": [
              "'n'"
            ],
            "application/vnd.google.colaboratory.intrinsic+json": {
              "type": "string"
            }
          },
          "metadata": {},
          "execution_count": 4
        }
      ]
    },
    {
      "cell_type": "code",
      "source": [
        "str = 'astring'\n",
        "s1 = slice(3)\n",
        "print(s1)"
      ],
      "metadata": {
        "colab": {
          "base_uri": "https://localhost:8080/"
        },
        "id": "jZ4WuQRXzYcS",
        "outputId": "ecde6d99-ac44-4cbc-ed7a-066a92eaa4a0"
      },
      "execution_count": null,
      "outputs": [
        {
          "output_type": "stream",
          "name": "stdout",
          "text": [
            "slice(None, 3, None)\n"
          ]
        }
      ]
    },
    {
      "cell_type": "code",
      "source": [
        "print(str[s1])"
      ],
      "metadata": {
        "colab": {
          "base_uri": "https://localhost:8080/"
        },
        "id": "9HPBt6h7z6In",
        "outputId": "e23b288c-53af-42ab-cca4-669b3558d3a2"
      },
      "execution_count": null,
      "outputs": [
        {
          "output_type": "stream",
          "name": "stdout",
          "text": [
            "ast\n"
          ]
        }
      ]
    },
    {
      "cell_type": "code",
      "source": [
        "s2=slice(1,5)\n",
        "print(s2)\n",
        "print(str[s2])"
      ],
      "metadata": {
        "colab": {
          "base_uri": "https://localhost:8080/"
        },
        "id": "mroakk7p0DZg",
        "outputId": "8a7f491c-c9e9-44d5-8308-032016c6ae05"
      },
      "execution_count": null,
      "outputs": [
        {
          "output_type": "stream",
          "name": "stdout",
          "text": [
            "slice(1, 5, None)\n",
            "stri\n"
          ]
        }
      ]
    },
    {
      "cell_type": "code",
      "source": [
        "s3 = slice(1,5,2)\n",
        "print(s3)\n",
        "print(str[s3])"
      ],
      "metadata": {
        "colab": {
          "base_uri": "https://localhost:8080/"
        },
        "id": "EE9ffMph0iy_",
        "outputId": "700b4964-166a-47c9-a8f1-34261db493ab"
      },
      "execution_count": null,
      "outputs": [
        {
          "output_type": "stream",
          "name": "stdout",
          "text": [
            "slice(1, 5, 2)\n",
            "sr\n"
          ]
        }
      ]
    },
    {
      "cell_type": "code",
      "source": [
        "s4=slice(-2)\n",
        "print(s4)\n",
        "print(str[s4])  #when stop index is negative , it starts from 0"
      ],
      "metadata": {
        "colab": {
          "base_uri": "https://localhost:8080/"
        },
        "id": "DwSX95N703D-",
        "outputId": "dab1bb8a-a0f8-4689-ffb3-16a45ac7ab17"
      },
      "execution_count": null,
      "outputs": [
        {
          "output_type": "stream",
          "name": "stdout",
          "text": [
            "slice(None, -2, None)\n",
            "astri\n"
          ]
        }
      ]
    },
    {
      "cell_type": "code",
      "source": [
        "s5=slice(1,-2)\n",
        "print(str[s5])"
      ],
      "metadata": {
        "colab": {
          "base_uri": "https://localhost:8080/"
        },
        "id": "xilrGC3p1GLc",
        "outputId": "c3858efd-40f2-4584-99ab-8b5923f6640b"
      },
      "execution_count": null,
      "outputs": [
        {
          "output_type": "stream",
          "name": "stdout",
          "text": [
            "stri\n"
          ]
        }
      ]
    },
    {
      "cell_type": "code",
      "source": [
        "# slice() function by default take 1 as step. So by default it follow forward direction rules.\n",
        "s6 = slice(-1,-2)\n",
        "print(str[s6])\n"
      ],
      "metadata": {
        "colab": {
          "base_uri": "https://localhost:8080/"
        },
        "id": "nsAVCPKX1zrD",
        "outputId": "a235bb5d-ce00-4915-b3bd-2e37d1b0875e"
      },
      "execution_count": null,
      "outputs": [
        {
          "output_type": "stream",
          "name": "stdout",
          "text": [
            "\n"
          ]
        }
      ]
    },
    {
      "cell_type": "code",
      "source": [
        "s7 = slice(-1,-7)\n",
        "print(str[s7])"
      ],
      "metadata": {
        "colab": {
          "base_uri": "https://localhost:8080/"
        },
        "id": "yUwbLtUQ2Z7V",
        "outputId": "b7e15839-c759-4d33-8386-c5af15a45caf"
      },
      "execution_count": null,
      "outputs": [
        {
          "output_type": "stream",
          "name": "stdout",
          "text": [
            "\n"
          ]
        }
      ]
    },
    {
      "cell_type": "code",
      "source": [
        "s8 = slice(-1,-2,1)\n",
        "print(str[s8])"
      ],
      "metadata": {
        "colab": {
          "base_uri": "https://localhost:8080/"
        },
        "id": "JpJ3usDYlcnd",
        "outputId": "bd5cc45e-3ebe-4ec8-f120-d6010f5a9429"
      },
      "execution_count": null,
      "outputs": [
        {
          "output_type": "stream",
          "name": "stdout",
          "text": [
            "\n"
          ]
        }
      ]
    },
    {
      "cell_type": "code",
      "source": [
        "s9=slice(-1,-2,-1)\n",
        "print(str[s9])"
      ],
      "metadata": {
        "colab": {
          "base_uri": "https://localhost:8080/"
        },
        "id": "wqbQCBh3l6s1",
        "outputId": "3814e206-990f-4428-bb76-e564d3aad72a"
      },
      "execution_count": null,
      "outputs": [
        {
          "output_type": "stream",
          "name": "stdout",
          "text": [
            "g\n"
          ]
        }
      ]
    },
    {
      "cell_type": "code",
      "source": [
        "s10 = slice(-1,-7,-1)\n",
        "print(str[s10])"
      ],
      "metadata": {
        "colab": {
          "base_uri": "https://localhost:8080/"
        },
        "id": "s7E0IwyYmCla",
        "outputId": "0e99ee23-a471-46ce-91a5-996d3fea5ad2"
      },
      "execution_count": null,
      "outputs": [
        {
          "output_type": "stream",
          "name": "stdout",
          "text": [
            "gnirts\n"
          ]
        }
      ]
    },
    {
      "cell_type": "code",
      "source": [
        "s_new = slice(-1,100,-1)\n",
        "print(str[s_new])"
      ],
      "metadata": {
        "colab": {
          "base_uri": "https://localhost:8080/"
        },
        "id": "-DUYa6M2mF9G",
        "outputId": "8cfb2c61-3ff5-4ec1-bdaf-21bc7069ea92"
      },
      "execution_count": null,
      "outputs": [
        {
          "output_type": "stream",
          "name": "stdout",
          "text": [
            "\n"
          ]
        }
      ]
    },
    {
      "cell_type": "code",
      "source": [
        "s1_new = slice(-1,100)\n",
        "print(s1_new)\n",
        "print(str[s1_new])"
      ],
      "metadata": {
        "colab": {
          "base_uri": "https://localhost:8080/"
        },
        "id": "64uyGcdyB5F0",
        "outputId": "d679d60e-ab03-4e84-864f-263ae35380e9"
      },
      "execution_count": null,
      "outputs": [
        {
          "output_type": "stream",
          "name": "stdout",
          "text": [
            "slice(-1, 100, None)\n",
            "g\n"
          ]
        }
      ]
    },
    {
      "cell_type": "code",
      "source": [
        "s11= slice(-1,5)\n",
        "print(str[s11])"
      ],
      "metadata": {
        "colab": {
          "base_uri": "https://localhost:8080/"
        },
        "id": "RjgFREbnmj3M",
        "outputId": "1ca73546-cd84-4d92-d74a-921c938e5074"
      },
      "execution_count": null,
      "outputs": [
        {
          "output_type": "stream",
          "name": "stdout",
          "text": [
            "\n"
          ]
        }
      ]
    },
    {
      "cell_type": "code",
      "source": [
        "s12 = slice(-5,-1)\n",
        "print(str[s12])"
      ],
      "metadata": {
        "colab": {
          "base_uri": "https://localhost:8080/"
        },
        "id": "GkuMEftmm1Nb",
        "outputId": "566a55d2-f499-4d5f-cb67-4ef97c35bada"
      },
      "execution_count": null,
      "outputs": [
        {
          "output_type": "stream",
          "name": "stdout",
          "text": [
            "trin\n"
          ]
        }
      ]
    },
    {
      "cell_type": "code",
      "source": [
        "s13 = slice(-1,-5,-1)\n",
        "print(str[s13])"
      ],
      "metadata": {
        "colab": {
          "base_uri": "https://localhost:8080/"
        },
        "id": "SbS8KqUSnF5T",
        "outputId": "8970c47d-daad-4cf7-96f1-4c2d545d0fc1"
      },
      "execution_count": null,
      "outputs": [
        {
          "output_type": "stream",
          "name": "stdout",
          "text": [
            "gnir\n"
          ]
        }
      ]
    },
    {
      "cell_type": "markdown",
      "source": [
        "- When we move in forward direction at that time step is 1 nessasary\n",
        "- when we move in reverse direction at that time step is -1 nessasary\n",
        "- when we not give any step at that time it will consider default step as 1"
      ],
      "metadata": {
        "id": "W301LGPhCu8T"
      }
    },
    {
      "cell_type": "code",
      "source": [
        "s14 = slice(1,6,-1)\n",
        "print(str[s14])"
      ],
      "metadata": {
        "colab": {
          "base_uri": "https://localhost:8080/"
        },
        "id": "_SiEBn1qnMSQ",
        "outputId": "5b660968-e348-49f0-faac-46531bb7063e"
      },
      "execution_count": null,
      "outputs": [
        {
          "output_type": "stream",
          "name": "stdout",
          "text": [
            "\n"
          ]
        }
      ]
    },
    {
      "cell_type": "code",
      "source": [
        "s15 = slice(6,1,-1)\n",
        "print(str[s15])"
      ],
      "metadata": {
        "colab": {
          "base_uri": "https://localhost:8080/"
        },
        "id": "g-7C7fUlnSDC",
        "outputId": "ec8556fc-d030-4010-b0c4-5eb85c0566b2"
      },
      "execution_count": null,
      "outputs": [
        {
          "output_type": "stream",
          "name": "stdout",
          "text": [
            "gnirt\n"
          ]
        }
      ]
    },
    {
      "cell_type": "code",
      "source": [
        "#string[::]\n",
        "#string[:stop]\n",
        "#string[start:stop]\n",
        "#string[start:stop:step]\n",
        "#string[:]"
      ],
      "metadata": {
        "id": "TApjEK59ncsH"
      },
      "execution_count": null,
      "outputs": []
    },
    {
      "cell_type": "markdown",
      "source": [
        "# Note:\n",
        "- If we move in backword direction then 'step' is necessary and it should be negative.  "
      ],
      "metadata": {
        "id": "_SzeF2FJp9SM"
      }
    },
    {
      "cell_type": "code",
      "source": [
        "string1 = 'python'\n",
        "string1"
      ],
      "metadata": {
        "colab": {
          "base_uri": "https://localhost:8080/",
          "height": 36
        },
        "id": "gzg_Ks6GnpMT",
        "outputId": "665a197a-2a3b-4ec3-8993-9cb9c67b631e"
      },
      "execution_count": null,
      "outputs": [
        {
          "output_type": "execute_result",
          "data": {
            "text/plain": [
              "'python'"
            ],
            "application/vnd.google.colaboratory.intrinsic+json": {
              "type": "string"
            }
          },
          "metadata": {},
          "execution_count": 25
        }
      ]
    },
    {
      "cell_type": "code",
      "source": [
        "string1[::]"
      ],
      "metadata": {
        "colab": {
          "base_uri": "https://localhost:8080/",
          "height": 36
        },
        "id": "S3uqn5d4n0Li",
        "outputId": "4ae85a14-0db4-4c0b-c7e8-c319ced75678"
      },
      "execution_count": null,
      "outputs": [
        {
          "output_type": "execute_result",
          "data": {
            "text/plain": [
              "'python'"
            ],
            "application/vnd.google.colaboratory.intrinsic+json": {
              "type": "string"
            }
          },
          "metadata": {},
          "execution_count": 26
        }
      ]
    },
    {
      "cell_type": "code",
      "source": [
        "string1[:]"
      ],
      "metadata": {
        "colab": {
          "base_uri": "https://localhost:8080/",
          "height": 36
        },
        "id": "EmWmvkEfoN5u",
        "outputId": "6b4f7424-76d2-488a-a5f2-61bb674a9cbc"
      },
      "execution_count": null,
      "outputs": [
        {
          "output_type": "execute_result",
          "data": {
            "text/plain": [
              "'python'"
            ],
            "application/vnd.google.colaboratory.intrinsic+json": {
              "type": "string"
            }
          },
          "metadata": {},
          "execution_count": 27
        }
      ]
    },
    {
      "cell_type": "code",
      "source": [
        "string1[:3]"
      ],
      "metadata": {
        "colab": {
          "base_uri": "https://localhost:8080/",
          "height": 36
        },
        "id": "vCehy9BRoQUJ",
        "outputId": "2f952b20-ef8e-4945-9f87-32b9c2faa7c2"
      },
      "execution_count": null,
      "outputs": [
        {
          "output_type": "execute_result",
          "data": {
            "text/plain": [
              "'pyt'"
            ],
            "application/vnd.google.colaboratory.intrinsic+json": {
              "type": "string"
            }
          },
          "metadata": {},
          "execution_count": 28
        }
      ]
    },
    {
      "cell_type": "code",
      "source": [
        "string1[1:4]"
      ],
      "metadata": {
        "colab": {
          "base_uri": "https://localhost:8080/",
          "height": 36
        },
        "id": "skMmwZSvoSwR",
        "outputId": "139547da-a559-4c5b-f54f-59856952abab"
      },
      "execution_count": null,
      "outputs": [
        {
          "output_type": "execute_result",
          "data": {
            "text/plain": [
              "'yth'"
            ],
            "application/vnd.google.colaboratory.intrinsic+json": {
              "type": "string"
            }
          },
          "metadata": {},
          "execution_count": 29
        }
      ]
    },
    {
      "cell_type": "code",
      "source": [
        "string1[5:3]\n",
        "# Here string1[5:3]==string[5:3:1] but for backword direction movement we have to give negative step. But here it by default take positive step. so it will return no output"
      ],
      "metadata": {
        "colab": {
          "base_uri": "https://localhost:8080/",
          "height": 36
        },
        "id": "6ae23pULoYux",
        "outputId": "a63ed657-d08f-490a-de27-da86972853cd"
      },
      "execution_count": null,
      "outputs": [
        {
          "output_type": "execute_result",
          "data": {
            "text/plain": [
              "''"
            ],
            "application/vnd.google.colaboratory.intrinsic+json": {
              "type": "string"
            }
          },
          "metadata": {},
          "execution_count": 31
        }
      ]
    },
    {
      "cell_type": "code",
      "source": [
        "string1[1:]"
      ],
      "metadata": {
        "colab": {
          "base_uri": "https://localhost:8080/",
          "height": 36
        },
        "id": "BDNUuhLjobT7",
        "outputId": "f4b9cb87-9893-444f-9a1f-aa25611febde"
      },
      "execution_count": null,
      "outputs": [
        {
          "output_type": "execute_result",
          "data": {
            "text/plain": [
              "'ython'"
            ],
            "application/vnd.google.colaboratory.intrinsic+json": {
              "type": "string"
            }
          },
          "metadata": {},
          "execution_count": 32
        }
      ]
    },
    {
      "cell_type": "code",
      "source": [
        "string1[1:5:2]"
      ],
      "metadata": {
        "colab": {
          "base_uri": "https://localhost:8080/",
          "height": 36
        },
        "id": "uqskFdLIpLUw",
        "outputId": "31bfd081-15f5-4153-cb93-1504ac6420e1"
      },
      "execution_count": null,
      "outputs": [
        {
          "output_type": "execute_result",
          "data": {
            "text/plain": [
              "'yh'"
            ],
            "application/vnd.google.colaboratory.intrinsic+json": {
              "type": "string"
            }
          },
          "metadata": {},
          "execution_count": 33
        }
      ]
    },
    {
      "cell_type": "code",
      "source": [
        "string1[::2]"
      ],
      "metadata": {
        "colab": {
          "base_uri": "https://localhost:8080/",
          "height": 36
        },
        "id": "bSdDAgwxpUNU",
        "outputId": "4ee65828-ac8a-4178-941f-66a024fe8253"
      },
      "execution_count": null,
      "outputs": [
        {
          "output_type": "execute_result",
          "data": {
            "text/plain": [
              "'pto'"
            ],
            "application/vnd.google.colaboratory.intrinsic+json": {
              "type": "string"
            }
          },
          "metadata": {},
          "execution_count": 34
        }
      ]
    },
    {
      "cell_type": "code",
      "source": [
        "string1[-1:-5]"
      ],
      "metadata": {
        "colab": {
          "base_uri": "https://localhost:8080/",
          "height": 36
        },
        "id": "nTpGk2SspYBF",
        "outputId": "08b11f00-5852-4e6d-9a00-0afb21a6501a"
      },
      "execution_count": null,
      "outputs": [
        {
          "output_type": "execute_result",
          "data": {
            "text/plain": [
              "''"
            ],
            "application/vnd.google.colaboratory.intrinsic+json": {
              "type": "string"
            }
          },
          "metadata": {},
          "execution_count": 35
        }
      ]
    },
    {
      "cell_type": "code",
      "source": [
        "string1[-1:]"
      ],
      "metadata": {
        "colab": {
          "base_uri": "https://localhost:8080/",
          "height": 36
        },
        "id": "VEcMUsa6pgMN",
        "outputId": "2ace7255-16d5-4dc8-a73e-b21485ce9ff5"
      },
      "execution_count": null,
      "outputs": [
        {
          "output_type": "execute_result",
          "data": {
            "text/plain": [
              "'n'"
            ],
            "application/vnd.google.colaboratory.intrinsic+json": {
              "type": "string"
            }
          },
          "metadata": {},
          "execution_count": 36
        }
      ]
    },
    {
      "cell_type": "code",
      "source": [
        "string1[1:1]"
      ],
      "metadata": {
        "colab": {
          "base_uri": "https://localhost:8080/",
          "height": 36
        },
        "id": "Rb5abRwnpivi",
        "outputId": "98cdaaf7-133e-4256-e4a2-311158076274"
      },
      "execution_count": null,
      "outputs": [
        {
          "output_type": "execute_result",
          "data": {
            "text/plain": [
              "''"
            ],
            "application/vnd.google.colaboratory.intrinsic+json": {
              "type": "string"
            }
          },
          "metadata": {},
          "execution_count": 37
        }
      ]
    },
    {
      "cell_type": "code",
      "source": [
        "string1[-2:2]"
      ],
      "metadata": {
        "colab": {
          "base_uri": "https://localhost:8080/",
          "height": 36
        },
        "id": "wRXGsgQtprqb",
        "outputId": "5a1b81e3-cd75-40dd-c419-ee1f1b74d451"
      },
      "execution_count": null,
      "outputs": [
        {
          "output_type": "execute_result",
          "data": {
            "text/plain": [
              "''"
            ],
            "application/vnd.google.colaboratory.intrinsic+json": {
              "type": "string"
            }
          },
          "metadata": {},
          "execution_count": 38
        }
      ]
    },
    {
      "cell_type": "code",
      "source": [
        "string1[2:-2]"
      ],
      "metadata": {
        "colab": {
          "base_uri": "https://localhost:8080/",
          "height": 36
        },
        "id": "U4pEGesBpuij",
        "outputId": "44c691ab-76c5-47a4-bef4-6507dcb6547f"
      },
      "execution_count": null,
      "outputs": [
        {
          "output_type": "execute_result",
          "data": {
            "text/plain": [
              "'th'"
            ],
            "application/vnd.google.colaboratory.intrinsic+json": {
              "type": "string"
            }
          },
          "metadata": {},
          "execution_count": 39
        }
      ]
    },
    {
      "cell_type": "markdown",
      "source": [
        "# Different way to print reverse string"
      ],
      "metadata": {
        "id": "gNckbO4FrImr"
      }
    },
    {
      "cell_type": "code",
      "source": [
        "string1[::-1]"
      ],
      "metadata": {
        "colab": {
          "base_uri": "https://localhost:8080/",
          "height": 36
        },
        "id": "81hCeFj7pyig",
        "outputId": "3912dd87-576e-4bba-fb52-0fe6ad372fcc"
      },
      "execution_count": null,
      "outputs": [
        {
          "output_type": "execute_result",
          "data": {
            "text/plain": [
              "'nohtyp'"
            ],
            "application/vnd.google.colaboratory.intrinsic+json": {
              "type": "string"
            }
          },
          "metadata": {},
          "execution_count": 40
        }
      ]
    },
    {
      "cell_type": "code",
      "source": [
        "string1[-1:-5:-1]"
      ],
      "metadata": {
        "colab": {
          "base_uri": "https://localhost:8080/",
          "height": 36
        },
        "id": "mcjzR-WQq4dD",
        "outputId": "cd9b214e-04f8-4b5b-c024-42f1fcde981b"
      },
      "execution_count": null,
      "outputs": [
        {
          "output_type": "execute_result",
          "data": {
            "text/plain": [
              "'noht'"
            ],
            "application/vnd.google.colaboratory.intrinsic+json": {
              "type": "string"
            }
          },
          "metadata": {},
          "execution_count": 42
        }
      ]
    },
    {
      "cell_type": "code",
      "source": [
        "string1[-1:-7:-1]"
      ],
      "metadata": {
        "colab": {
          "base_uri": "https://localhost:8080/",
          "height": 36
        },
        "id": "4Rl3DApBrUr8",
        "outputId": "1d6479e5-7b36-4a8b-a673-8f3aebee1e3a"
      },
      "execution_count": null,
      "outputs": [
        {
          "output_type": "execute_result",
          "data": {
            "text/plain": [
              "'nohtyp'"
            ],
            "application/vnd.google.colaboratory.intrinsic+json": {
              "type": "string"
            }
          },
          "metadata": {},
          "execution_count": 43
        }
      ]
    },
    {
      "cell_type": "code",
      "source": [
        "string1[-1::-1]"
      ],
      "metadata": {
        "colab": {
          "base_uri": "https://localhost:8080/",
          "height": 36
        },
        "id": "oaWOeXgSrc6Z",
        "outputId": "cca54a72-c67a-4972-cdc3-628420a628ea"
      },
      "execution_count": null,
      "outputs": [
        {
          "output_type": "execute_result",
          "data": {
            "text/plain": [
              "'nohtyp'"
            ],
            "application/vnd.google.colaboratory.intrinsic+json": {
              "type": "string"
            }
          },
          "metadata": {},
          "execution_count": 44
        }
      ]
    },
    {
      "cell_type": "code",
      "source": [
        "string1[6::-1]"
      ],
      "metadata": {
        "colab": {
          "base_uri": "https://localhost:8080/",
          "height": 36
        },
        "id": "mjIXoyR-rjPF",
        "outputId": "bf1fd5be-1493-4350-d487-26f8aaeb8d11"
      },
      "execution_count": null,
      "outputs": [
        {
          "output_type": "execute_result",
          "data": {
            "text/plain": [
              "'nohtyp'"
            ],
            "application/vnd.google.colaboratory.intrinsic+json": {
              "type": "string"
            }
          },
          "metadata": {},
          "execution_count": 45
        }
      ]
    },
    {
      "cell_type": "code",
      "source": [
        "string1[5::-1]"
      ],
      "metadata": {
        "colab": {
          "base_uri": "https://localhost:8080/",
          "height": 36
        },
        "id": "yhwSSNiUrms8",
        "outputId": "ce6e1b9a-6b82-4680-9889-3772a9ceb6cf"
      },
      "execution_count": null,
      "outputs": [
        {
          "output_type": "execute_result",
          "data": {
            "text/plain": [
              "'nohtyp'"
            ],
            "application/vnd.google.colaboratory.intrinsic+json": {
              "type": "string"
            }
          },
          "metadata": {},
          "execution_count": 46
        }
      ]
    },
    {
      "cell_type": "code",
      "source": [
        "str = 'Hello, world'\n",
        "len(str)"
      ],
      "metadata": {
        "id": "m6BwgXJir_fH",
        "colab": {
          "base_uri": "https://localhost:8080/"
        },
        "outputId": "cf36ad5c-20a8-4439-bee3-9aea65067923"
      },
      "execution_count": null,
      "outputs": [
        {
          "output_type": "execute_result",
          "data": {
            "text/plain": [
              "12"
            ]
          },
          "metadata": {},
          "execution_count": 1
        }
      ]
    },
    {
      "cell_type": "code",
      "source": [
        "#Lower string\n",
        "str.lower()"
      ],
      "metadata": {
        "colab": {
          "base_uri": "https://localhost:8080/",
          "height": 36
        },
        "id": "NS1bFwrg0gUu",
        "outputId": "f867699f-0c5c-421d-c341-8eb9d6ccfe5f"
      },
      "execution_count": null,
      "outputs": [
        {
          "output_type": "execute_result",
          "data": {
            "text/plain": [
              "'hello, world'"
            ],
            "application/vnd.google.colaboratory.intrinsic+json": {
              "type": "string"
            }
          },
          "metadata": {},
          "execution_count": 2
        }
      ]
    },
    {
      "cell_type": "code",
      "source": [
        "#Upper string\n",
        "str.upper()"
      ],
      "metadata": {
        "colab": {
          "base_uri": "https://localhost:8080/",
          "height": 36
        },
        "id": "YCvZvO5G0nli",
        "outputId": "f5a4cf67-ad14-4df1-a4cf-65676dda0dbf"
      },
      "execution_count": null,
      "outputs": [
        {
          "output_type": "execute_result",
          "data": {
            "text/plain": [
              "'HELLO, WORLD'"
            ],
            "application/vnd.google.colaboratory.intrinsic+json": {
              "type": "string"
            }
          },
          "metadata": {},
          "execution_count": 3
        }
      ]
    },
    {
      "cell_type": "code",
      "source": [
        "# Title\n",
        "str.title()"
      ],
      "metadata": {
        "colab": {
          "base_uri": "https://localhost:8080/",
          "height": 36
        },
        "id": "LR8TkdKZ0x9n",
        "outputId": "3df92825-04dc-4d47-c68a-984b70a2b08a"
      },
      "execution_count": null,
      "outputs": [
        {
          "output_type": "execute_result",
          "data": {
            "text/plain": [
              "'Hello, World'"
            ],
            "application/vnd.google.colaboratory.intrinsic+json": {
              "type": "string"
            }
          },
          "metadata": {},
          "execution_count": 4
        }
      ]
    },
    {
      "cell_type": "code",
      "source": [
        "str1 = \"I am learning python\"\n",
        "str1.title()"
      ],
      "metadata": {
        "colab": {
          "base_uri": "https://localhost:8080/",
          "height": 36
        },
        "id": "bux0JE3-1JXg",
        "outputId": "59df4a31-d9a7-497f-8aa2-13e5799548e0"
      },
      "execution_count": null,
      "outputs": [
        {
          "output_type": "execute_result",
          "data": {
            "text/plain": [
              "'I Am Learning Python'"
            ],
            "application/vnd.google.colaboratory.intrinsic+json": {
              "type": "string"
            }
          },
          "metadata": {},
          "execution_count": 5
        }
      ]
    },
    {
      "cell_type": "code",
      "source": [
        "str1.capitalize()"
      ],
      "metadata": {
        "colab": {
          "base_uri": "https://localhost:8080/",
          "height": 36
        },
        "id": "sLtRJKXD1lBa",
        "outputId": "ac37e996-14af-4057-eefe-0fb9e4176890"
      },
      "execution_count": null,
      "outputs": [
        {
          "output_type": "execute_result",
          "data": {
            "text/plain": [
              "'I am learning python'"
            ],
            "application/vnd.google.colaboratory.intrinsic+json": {
              "type": "string"
            }
          },
          "metadata": {},
          "execution_count": 6
        }
      ]
    },
    {
      "cell_type": "code",
      "source": [
        "str1.strip()"
      ],
      "metadata": {
        "colab": {
          "base_uri": "https://localhost:8080/",
          "height": 36
        },
        "id": "eRx8A5NI1vU2",
        "outputId": "128effd7-1b18-40cf-b0ad-d1050a3148b3"
      },
      "execution_count": null,
      "outputs": [
        {
          "output_type": "execute_result",
          "data": {
            "text/plain": [
              "'I am learning python'"
            ],
            "application/vnd.google.colaboratory.intrinsic+json": {
              "type": "string"
            }
          },
          "metadata": {},
          "execution_count": 7
        }
      ]
    },
    {
      "cell_type": "code",
      "source": [
        "str1.lstrip()"
      ],
      "metadata": {
        "colab": {
          "base_uri": "https://localhost:8080/",
          "height": 36
        },
        "id": "_Kmy-PtS2Gma",
        "outputId": "45b824d1-3d4f-4ed1-b99e-4aba2145ae1e"
      },
      "execution_count": null,
      "outputs": [
        {
          "output_type": "execute_result",
          "data": {
            "text/plain": [
              "'I am learning python'"
            ],
            "application/vnd.google.colaboratory.intrinsic+json": {
              "type": "string"
            }
          },
          "metadata": {},
          "execution_count": 8
        }
      ]
    },
    {
      "cell_type": "code",
      "source": [
        "str1.lstrip()"
      ],
      "metadata": {
        "colab": {
          "base_uri": "https://localhost:8080/",
          "height": 36
        },
        "id": "SmiMiwe-2Z43",
        "outputId": "cba5e8cd-36e4-4118-e64f-6db873135801"
      },
      "execution_count": null,
      "outputs": [
        {
          "output_type": "execute_result",
          "data": {
            "text/plain": [
              "'I am learning python'"
            ],
            "application/vnd.google.colaboratory.intrinsic+json": {
              "type": "string"
            }
          },
          "metadata": {},
          "execution_count": 9
        }
      ]
    },
    {
      "cell_type": "code",
      "source": [
        "a = \" Python\"\n"
      ],
      "metadata": {
        "id": "wIxx6JVj2cn9"
      },
      "execution_count": null,
      "outputs": []
    },
    {
      "cell_type": "code",
      "source": [
        "a.strip()"
      ],
      "metadata": {
        "colab": {
          "base_uri": "https://localhost:8080/",
          "height": 36
        },
        "id": "VJWBBsGq2nKt",
        "outputId": "18ab1e05-8a0e-4eab-d102-77bfa55b594b"
      },
      "execution_count": null,
      "outputs": [
        {
          "output_type": "execute_result",
          "data": {
            "text/plain": [
              "'Python'"
            ],
            "application/vnd.google.colaboratory.intrinsic+json": {
              "type": "string"
            }
          },
          "metadata": {},
          "execution_count": 11
        }
      ]
    },
    {
      "cell_type": "code",
      "source": [
        "a.lstrip()"
      ],
      "metadata": {
        "colab": {
          "base_uri": "https://localhost:8080/",
          "height": 36
        },
        "id": "s88WCgPW2o90",
        "outputId": "73b32824-df20-4d0a-e1c8-6dc411b38b87"
      },
      "execution_count": null,
      "outputs": [
        {
          "output_type": "execute_result",
          "data": {
            "text/plain": [
              "'Python'"
            ],
            "application/vnd.google.colaboratory.intrinsic+json": {
              "type": "string"
            }
          },
          "metadata": {},
          "execution_count": 12
        }
      ]
    },
    {
      "cell_type": "code",
      "source": [
        "a.rsplit()"
      ],
      "metadata": {
        "colab": {
          "base_uri": "https://localhost:8080/"
        },
        "id": "AngdFGfl2utt",
        "outputId": "d1ccb399-eb1c-4823-e778-aa59d1bddebf"
      },
      "execution_count": null,
      "outputs": [
        {
          "output_type": "execute_result",
          "data": {
            "text/plain": [
              "['Python']"
            ]
          },
          "metadata": {},
          "execution_count": 13
        }
      ]
    },
    {
      "cell_type": "code",
      "source": [
        "#replace\n",
        "new_string = str.replace('Hello','Hi')\n",
        "print(new_string)"
      ],
      "metadata": {
        "colab": {
          "base_uri": "https://localhost:8080/"
        },
        "id": "h4lhL7lo2whc",
        "outputId": "b723dea1-f6f3-4927-8558-c543428d5f16"
      },
      "execution_count": null,
      "outputs": [
        {
          "output_type": "stream",
          "name": "stdout",
          "text": [
            "Hi, world\n"
          ]
        }
      ]
    },
    {
      "cell_type": "code",
      "source": [
        "# Find\n",
        "print(str.find('world'))"
      ],
      "metadata": {
        "colab": {
          "base_uri": "https://localhost:8080/"
        },
        "id": "LkAz9IqE3F1u",
        "outputId": "cdec7cad-bc35-424f-b9a2-903dcb5ff3bb"
      },
      "execution_count": null,
      "outputs": [
        {
          "output_type": "stream",
          "name": "stdout",
          "text": [
            "7\n"
          ]
        }
      ]
    },
    {
      "cell_type": "code",
      "source": [
        "print(str.find('hello'))"
      ],
      "metadata": {
        "colab": {
          "base_uri": "https://localhost:8080/"
        },
        "id": "tcbFLGHk3nhG",
        "outputId": "ac57748d-e07a-4751-c2ba-ca95a47c7b07"
      },
      "execution_count": null,
      "outputs": [
        {
          "output_type": "stream",
          "name": "stdout",
          "text": [
            "-1\n"
          ]
        }
      ]
    },
    {
      "cell_type": "code",
      "source": [
        "print(str.find('Hello'))"
      ],
      "metadata": {
        "colab": {
          "base_uri": "https://localhost:8080/"
        },
        "id": "_p6wYol74JXJ",
        "outputId": "5a5102e9-bd53-4485-eead-fffc23b1d764"
      },
      "execution_count": null,
      "outputs": [
        {
          "output_type": "stream",
          "name": "stdout",
          "text": [
            "0\n"
          ]
        }
      ]
    },
    {
      "cell_type": "code",
      "source": [
        "s = \" My name is Jahanvi \"\n",
        "print(s.upper())\n",
        "print(s.lower())\n",
        "print(s.capitalize())\n",
        "print(s.casefold())\n",
        "print(s.strip())\n",
        "print(s.lstrip())\n",
        "print(s.rstrip())\n",
        "print(s.title())\n",
        "print(s.swapcase())\n",
        "print(len(s))"
      ],
      "metadata": {
        "colab": {
          "base_uri": "https://localhost:8080/"
        },
        "id": "wrtzih0oEX8S",
        "outputId": "5f31e2d3-0e76-469d-fbc0-51511498d545"
      },
      "execution_count": 4,
      "outputs": [
        {
          "output_type": "stream",
          "name": "stdout",
          "text": [
            " MY NAME IS JAHANVI \n",
            " my name is jahanvi \n",
            " my name is jahanvi \n",
            " my name is jahanvi \n",
            "My name is Jahanvi\n",
            "My name is Jahanvi \n",
            " My name is Jahanvi\n",
            " My Name Is Jahanvi \n",
            " mY NAME IS jAHANVI \n",
            "20\n"
          ]
        }
      ]
    },
    {
      "cell_type": "code",
      "source": [
        "shopping = ['milk','bread','cheese']"
      ],
      "metadata": {
        "id": "KyJNXykK4OhA"
      },
      "execution_count": null,
      "outputs": []
    },
    {
      "cell_type": "code",
      "source": [
        "st = 'milk, bread, cheese'"
      ],
      "metadata": {
        "id": "PkPaZGCu4jvf"
      },
      "execution_count": null,
      "outputs": []
    },
    {
      "cell_type": "code",
      "source": [
        "n = st.split(',')\n",
        "print(n)\n",
        "print(type(n))"
      ],
      "metadata": {
        "colab": {
          "base_uri": "https://localhost:8080/"
        },
        "id": "pGJhoA7Y5KMW",
        "outputId": "6a76122e-1e47-4d22-fdb1-798beb072510"
      },
      "execution_count": null,
      "outputs": [
        {
          "output_type": "stream",
          "name": "stdout",
          "text": [
            "['milk', ' bread', ' cheese']\n",
            "<class 'list'>\n"
          ]
        }
      ]
    },
    {
      "cell_type": "code",
      "source": [
        "print(type(st))"
      ],
      "metadata": {
        "colab": {
          "base_uri": "https://localhost:8080/"
        },
        "id": "Pj0PIiaL5OHy",
        "outputId": "4b7e0b15-6d03-4183-8cc7-1c3418d86579"
      },
      "execution_count": null,
      "outputs": [
        {
          "output_type": "stream",
          "name": "stdout",
          "text": [
            "<class 'str'>\n"
          ]
        }
      ]
    },
    {
      "cell_type": "code",
      "source": [
        "print(type(shopping))"
      ],
      "metadata": {
        "colab": {
          "base_uri": "https://localhost:8080/"
        },
        "id": "3sgkU1CH5dHP",
        "outputId": "c3fc913b-e4a7-4d7b-e65f-9de686293fa6"
      },
      "execution_count": null,
      "outputs": [
        {
          "output_type": "stream",
          "name": "stdout",
          "text": [
            "<class 'list'>\n"
          ]
        }
      ]
    },
    {
      "cell_type": "code",
      "source": [
        "m = st.split(' ')\n",
        "print(m)"
      ],
      "metadata": {
        "colab": {
          "base_uri": "https://localhost:8080/"
        },
        "id": "ylgAd_Qe5gLy",
        "outputId": "a1ea29ae-64d2-491f-e8a0-55ea8919233d"
      },
      "execution_count": null,
      "outputs": [
        {
          "output_type": "stream",
          "name": "stdout",
          "text": [
            "['milk,', 'bread,', 'cheese']\n"
          ]
        }
      ]
    },
    {
      "cell_type": "code",
      "source": [
        "type(m)"
      ],
      "metadata": {
        "colab": {
          "base_uri": "https://localhost:8080/"
        },
        "id": "gSgsJm4z6TE1",
        "outputId": "cb6d4a7f-9790-4a9f-ca7f-d4794579ca2e"
      },
      "execution_count": null,
      "outputs": [
        {
          "output_type": "execute_result",
          "data": {
            "text/plain": [
              "list"
            ]
          },
          "metadata": {},
          "execution_count": 24
        }
      ]
    },
    {
      "cell_type": "code",
      "source": [
        "str2 = ','.join(m)\n",
        "print(str2)\n",
        "print(type(str2))"
      ],
      "metadata": {
        "colab": {
          "base_uri": "https://localhost:8080/"
        },
        "id": "WwU9VY6H6VjZ",
        "outputId": "c60a8ded-b9fe-4d05-8716-aeceaf6297f7"
      },
      "execution_count": null,
      "outputs": [
        {
          "output_type": "stream",
          "name": "stdout",
          "text": [
            "milk,,bread,,cheese\n",
            "<class 'str'>\n"
          ]
        }
      ]
    },
    {
      "cell_type": "markdown",
      "source": [
        "# Notes:\n",
        "- If we split string it will become List\n",
        "- If we join List it will become string"
      ],
      "metadata": {
        "id": "1RvBCd0ektsC"
      }
    },
    {
      "cell_type": "code",
      "source": [
        "string3 = 'AA, AB, BB, CC, DD, FF, AA'\n",
        "print(string3.count('AB'))"
      ],
      "metadata": {
        "colab": {
          "base_uri": "https://localhost:8080/"
        },
        "id": "BNI6mziY68-m",
        "outputId": "d35a857d-7b46-4216-b607-f1178f3d6ae8"
      },
      "execution_count": null,
      "outputs": [
        {
          "output_type": "stream",
          "name": "stdout",
          "text": [
            "1\n"
          ]
        }
      ]
    },
    {
      "cell_type": "code",
      "source": [
        "print(string3.count('AA'))"
      ],
      "metadata": {
        "colab": {
          "base_uri": "https://localhost:8080/"
        },
        "id": "0PF01y2g8FUV",
        "outputId": "558456e8-2a3c-4d0e-de45-2e8fe3aadbc6"
      },
      "execution_count": null,
      "outputs": [
        {
          "output_type": "stream",
          "name": "stdout",
          "text": [
            "2\n"
          ]
        }
      ]
    },
    {
      "cell_type": "code",
      "source": [
        "s1 = 'Python'\n",
        "s2 = 'Java'\n",
        "print(s1 + ' and ' + s2)\n",
        "print(s1,\"and\",s2)"
      ],
      "metadata": {
        "colab": {
          "base_uri": "https://localhost:8080/"
        },
        "id": "Y8B3Ckfq8LXc",
        "outputId": "e30ec8cf-3fe4-4dc0-827f-e90773398afb"
      },
      "execution_count": null,
      "outputs": [
        {
          "output_type": "stream",
          "name": "stdout",
          "text": [
            "Python and Java\n",
            "Python and Java\n"
          ]
        }
      ]
    },
    {
      "cell_type": "code",
      "source": [
        "print(s1*3)"
      ],
      "metadata": {
        "colab": {
          "base_uri": "https://localhost:8080/"
        },
        "id": "YBkk7iKv9BSw",
        "outputId": "8e12fe91-0cfa-4ade-a7f8-4e317994d4be"
      },
      "execution_count": null,
      "outputs": [
        {
          "output_type": "stream",
          "name": "stdout",
          "text": [
            "PythonPythonPython\n"
          ]
        }
      ]
    },
    {
      "cell_type": "markdown",
      "source": [
        "# Extra for practice:"
      ],
      "metadata": {
        "id": "0plJTsGppH88"
      }
    },
    {
      "cell_type": "code",
      "source": [
        "String = \"abcdcdc\"\n",
        "sub_string= \"cdc\"\n",
        "# How to find count of sub_string in string\n",
        "count = 0\n",
        "for i in range(len(String)):\n",
        "    if String[i:i+len(sub_string)] == sub_string:\n",
        "        count +=1\n",
        "\n",
        "print(count)\n"
      ],
      "metadata": {
        "id": "aMJzpkOl9Mam",
        "colab": {
          "base_uri": "https://localhost:8080/"
        },
        "outputId": "7d8f22cc-e347-4ced-c13a-784901dbbc95"
      },
      "execution_count": null,
      "outputs": [
        {
          "output_type": "stream",
          "name": "stdout",
          "text": [
            "2\n"
          ]
        }
      ]
    },
    {
      "cell_type": "code",
      "source": [
        "# If in above if string = \"abcdecde\", sub_string = \"cde\" -> ans: print(string.count(sub_string))\n",
        "# It will return 2\n",
        "# Because there is no common character in string"
      ],
      "metadata": {
        "id": "WcBrAFDanKDU"
      },
      "execution_count": null,
      "outputs": []
    },
    {
      "cell_type": "code",
      "source": [],
      "metadata": {
        "id": "EqAYfK0Wuvfe"
      },
      "execution_count": null,
      "outputs": []
    }
  ]
}