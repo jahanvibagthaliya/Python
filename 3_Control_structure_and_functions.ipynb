{
 "cells": [
  {
   "cell_type": "markdown",
   "metadata": {
    "colab_type": "text",
    "id": "VYHYWILh_QR_"
   },
   "source": [
    "# Control Structures and Functions\n",
    "Control structures are the essence of programming; they help computers do what they do best: automate repetitive tasks intelligently. The most common control structures are if-else statements, for and while loops, and list and dictionary comprehensions. This session will cover all these concepts."
   ]
  },
  {
   "cell_type": "markdown",
   "metadata": {
    "colab_type": "text",
    "id": "8b4dnOz__g7J"
   },
   "source": [
    "### If statements\n",
    "\"IF\" statements are imperative in Python and they help us build programs that could make decisions based on a specified condition\n",
    "\n",
    "\n",
    "*   If I am tired, I'll go to bed\n",
    "\n",
    "*   If I am hungry, I'll order food\n",
    "\n",
    "Notice all these applications start with the word 'IF' and that is the first way we are going to control our applications.\n",
    "\n",
    "And before writing down a code to mimic a decision, let us first look at the relational operators that would help us test or define some kind of relation between two entities.\n",
    "\n",
    "Relational operators are used to test equality or inequality of a condition and that condition might change based on your preference.\n",
    "\n",
    "```\n",
    "Example -\n",
    "If its raining == True:\n",
    "  I'll get an umbrella\n",
    "\n",
    "```\n",
    "\n",
    "\n",
    "\n",
    "\n",
    "\n",
    "\n",
    "\n"
   ]
  },
  {
   "cell_type": "markdown",
   "metadata": {
    "colab_type": "text",
    "id": "f4WSUQ-w3iuJ"
   },
   "source": [
    "<h2 style = \"color:Brown\"> Relational Operators</h2>\n",
    "\n",
    "- Compares the values on either side of the operator and returns and boolean value as True or False."
   ]
  },
  {
   "cell_type": "markdown",
   "metadata": {
    "colab_type": "text",
    "id": "Gps_yrgv3iuL"
   },
   "source": [
    "#### Double equal to operator"
   ]
  },
  {
   "cell_type": "code",
   "execution_count": null,
   "metadata": {
    "colab": {},
    "colab_type": "code",
    "id": "A5Z1SNdU3iuN"
   },
   "outputs": [],
   "source": [
    "10 == 10"
   ]
  },
  {
   "cell_type": "markdown",
   "metadata": {
    "colab_type": "text",
    "id": "EESTMWWj3iul"
   },
   "source": [
    "<h4 style = \"color:Red\">Note</h3>\n",
    "\n",
    "#####' = ' is an assignment operator; it is used to assign value to a variable on the left.\n",
    "\n",
    "#####'==' is a relational operator; it is used for comparision of equality."
   ]
  },
  {
   "cell_type": "code",
   "execution_count": null,
   "metadata": {
    "colab": {},
    "colab_type": "code",
    "id": "-1KfbhEY3iuo"
   },
   "outputs": [],
   "source": [
    "10 == 5"
   ]
  },
  {
   "cell_type": "markdown",
   "metadata": {
    "colab_type": "text",
    "id": "5fbw7E9z3iuz"
   },
   "source": [
    "#### Not equal to operator"
   ]
  },
  {
   "cell_type": "code",
   "execution_count": null,
   "metadata": {
    "colab": {},
    "colab_type": "code",
    "id": "55-0vgdM3iu0"
   },
   "outputs": [],
   "source": [
    "10 != 5"
   ]
  },
  {
   "cell_type": "markdown",
   "metadata": {
    "colab_type": "text",
    "id": "V06qe86n3iu7"
   },
   "source": [
    "#### Greater than operator"
   ]
  },
  {
   "cell_type": "code",
   "execution_count": null,
   "metadata": {
    "colab": {},
    "colab_type": "code",
    "id": "8c2J3yHa3iu8"
   },
   "outputs": [],
   "source": [
    "10 > 5"
   ]
  },
  {
   "cell_type": "markdown",
   "metadata": {
    "colab_type": "text",
    "id": "uhsbgfZC3ivE"
   },
   "source": [
    "#### Less than operator"
   ]
  },
  {
   "cell_type": "code",
   "execution_count": null,
   "metadata": {
    "colab": {},
    "colab_type": "code",
    "id": "HQsCDc2T3ivG"
   },
   "outputs": [],
   "source": [
    "10 < 5"
   ]
  },
  {
   "cell_type": "markdown",
   "metadata": {
    "colab_type": "text",
    "id": "TRSrE9Tl3ivL"
   },
   "source": [
    "#### Greater than equal to operator"
   ]
  },
  {
   "cell_type": "code",
   "execution_count": null,
   "metadata": {
    "colab": {},
    "colab_type": "code",
    "id": "l0cL7sHQ3ivN"
   },
   "outputs": [],
   "source": [
    "10 <= 5"
   ]
  },
  {
   "cell_type": "markdown",
   "metadata": {
    "colab_type": "text",
    "id": "6Xy2aGJP3ivh"
   },
   "source": [
    "#### Less than equal to operator"
   ]
  },
  {
   "cell_type": "code",
   "execution_count": null,
   "metadata": {
    "colab": {},
    "colab_type": "code",
    "id": "zRkIc8Xe3ivj"
   },
   "outputs": [],
   "source": [
    "10 >= 5"
   ]
  },
  {
   "cell_type": "code",
   "execution_count": 2,
   "metadata": {},
   "outputs": [
    {
     "name": "stdout",
     "output_type": "stream",
     "text": [
      "True\n",
      "True\n",
      "True\n"
     ]
    }
   ],
   "source": [
    "#The any() function returns True if any item in an iterable are true, otherwise it returns False.\n",
    "\n",
    "#If the iterable object is empty, the any() function will return False.\n",
    "\n",
    "mytuple = (0, 1, False)\n",
    "x = any(mytuple)\n",
    "mydict = {0 : \"Apple\", 1 : \"Orange\"}\n",
    "y = any(mydict)\n",
    "mylist = [False, True, False]\n",
    "z = any(mylist)\n",
    "print(x)\n",
    "print(y)\n",
    "print(z)"
   ]
  },
  {
   "cell_type": "markdown",
   "metadata": {
    "colab_type": "text",
    "id": "BbXHSZ1M3ivm"
   },
   "source": [
    "<h2 style = \"color:Brown\">Decision Making"
   ]
  },
  {
   "cell_type": "markdown",
   "metadata": {
    "colab_type": "text",
    "id": "8p6uKB0lcSoF"
   },
   "source": [
    "Now let's get back to writing a conditional statement with the 'if' condition\n",
    "\n",
    "To do that we would write it 'if' followed by an expression"
   ]
  },
  {
   "cell_type": "markdown",
   "metadata": {
    "colab_type": "text",
    "id": "KfhONX4H3ivn"
   },
   "source": [
    "#### Write a program to check value in variable x is less than 99"
   ]
  },
  {
   "cell_type": "code",
   "execution_count": null,
   "metadata": {
    "colab": {
     "base_uri": "https://localhost:8080/",
     "height": 35
    },
    "colab_type": "code",
    "id": "4ZDYkAze3ivo",
    "outputId": "40826ac5-f12a-4f1f-83f6-2abfcf8a4fee"
   },
   "outputs": [],
   "source": [
    "x = 45\n",
    "\n",
    "if x < 99:\n",
    "    print(x, \"is less than 99\")\n",
    "else:\n",
    "    print(x, \"is more than 99\")"
   ]
  },
  {
   "cell_type": "code",
   "execution_count": null,
   "metadata": {
    "colab": {
     "base_uri": "https://localhost:8080/",
     "height": 35
    },
    "colab_type": "code",
    "id": "l6aIIucEm94-",
    "outputId": "95f2511c-1e4c-48c8-e5fd-3115a936e252"
   },
   "outputs": [],
   "source": [
    "x = 919\n",
    "\n",
    "if x < 99:\n",
    "    print(x, \"is less than equal to 99\")\n",
    "elif x == 99:\n",
    "    print(x, \"is equal to 99\")\n",
    "else:\n",
    "    print(x, \" is more than 99\") "
   ]
  },
  {
   "cell_type": "markdown",
   "metadata": {
    "colab_type": "text",
    "id": "B-_K63jpUlnP"
   },
   "source": [
    "## Logical Operators\n",
    "We use logical operators in situations where we have multiple conditions\n",
    "\n",
    "####   AND\n",
    "####   OR\n",
    "####   NOR\n",
    "####   XOR\n",
    "\n",
    "Are some of the common and most widely used logical operators\n",
    "You can learn more about them from this link: https://pythonlessons.net/python-logic-gates/\n",
    "\n",
    "\n"
   ]
  },
  {
   "cell_type": "markdown",
   "metadata": {
    "colab_type": "text",
    "id": "_3rFgEsl3ivu"
   },
   "source": [
    "#### Write a program to record the age of visitor and allows him to an exclusive children's day party hosted by Mr Obama only if he or she is above 60 years or below 18 years of age"
   ]
  },
  {
   "cell_type": "code",
   "execution_count": null,
   "metadata": {
    "colab": {},
    "colab_type": "code",
    "id": "iLt7oLKA3ivv"
   },
   "outputs": [],
   "source": [
    "x = int(input(\"Enter your age : \"))\n",
    "\n",
    "if x <= 18 or x >= 60 :\n",
    "    print(\"Welcome to Party!!\")\n",
    "else:\n",
    "    print(\"Sorry!! you do not fit in the age criteria\")"
   ]
  },
  {
   "cell_type": "markdown",
   "metadata": {
    "colab_type": "text",
    "id": "9hzS6trQ3ivy"
   },
   "source": [
    "#### Write a program which offers various discounts based on purchase bills"
   ]
  },
  {
   "cell_type": "code",
   "execution_count": null,
   "metadata": {
    "colab": {},
    "colab_type": "code",
    "id": "dsV8l-O_3iv2"
   },
   "outputs": [],
   "source": [
    "shoppinng_total = 550\n",
    "\n",
    "if shoppinng_total >= 500:\n",
    "    print(\"You won a discount voucher of flat 1000 on next purchase\")\n",
    "elif shoppinng_total >= 250:\n",
    "    print(\"You won a discount voucher of flat 500 on next purchase\")\n",
    "elif shoppinng_total >= 100:\n",
    "    print(\"You won a discount voucher of flat 100 on next purchase\")    \n",
    "else:\n",
    "    print(\"OOPS!! no discount for you!!!\")"
   ]
  },
  {
   "cell_type": "markdown",
   "metadata": {
    "colab_type": "text",
    "id": "3eUbaeYR3iv9"
   },
   "source": [
    "#### Example on nested if-else"
   ]
  },
  {
   "cell_type": "code",
   "execution_count": null,
   "metadata": {
    "colab": {},
    "colab_type": "code",
    "id": "CE2giXPg3iv-"
   },
   "outputs": [],
   "source": [
    "world_cups = {2019 : ['England', 'New Zealand'], 2015:[\"Australia\", \"New Zealand\"], 2011 : [\"India\", \"Sri Lanka\"], 2007: [\"Australia\", \"Sri Lanka\"], 2003: [\"Australia\", \"India\"]}\n",
    "\n",
    "year = int(input(\"Enter year to check New Zealand made it to Finals in 20th century : \"))\n",
    "\n",
    "if year in world_cups :\n",
    "    if \"New Zealand\" in world_cups[year] :\n",
    "        print(\"New Zealand made it to Finals\")\n",
    "    else:\n",
    "        print(\"New Zealand could not make it to Finals\")\n",
    "        \n",
    "else:\n",
    "    print(\"World cup wasn't played in\", year)\n"
   ]
  },
  {
   "cell_type": "markdown",
   "metadata": {
    "colab_type": "text",
    "id": "5tqQiXz03iwC"
   },
   "source": [
    "<h2 style = \"color:Brown\">Loops and Iterations\n"
   ]
  },
  {
   "cell_type": "markdown",
   "metadata": {
    "colab_type": "text",
    "id": "IAgap-5oyzJk"
   },
   "source": [
    "Let’s look at a small example where you have a person’s income and expense data across five months in the form of a list, and you want to compute his savings across these five months. You may be thinking of doing this manually by taking the first elements from the two lists and subtracting them, then again taking the second elements and subtracting, and so on. This may look simple, but let’s say it is across 10 or 20 years. Would you do the same? \n",
    "\n",
    " \n",
    "\n",
    "This is where the concept of iteration comes in handy, as you are repeating the same operation multiple times. With this in mind, let’s learn more about it."
   ]
  },
  {
   "cell_type": "markdown",
   "metadata": {
    "colab_type": "text",
    "id": "-Cx71ieozcRb"
   },
   "source": [
    "Let's start with a simple 'While' loop - \n",
    "##### A while loop begins with a keyword 'While' followed by an expression \n",
    "##### So While this condition is satisfied keep running the loop"
   ]
  },
  {
   "cell_type": "code",
   "execution_count": null,
   "metadata": {
    "colab": {
     "base_uri": "https://localhost:8080/",
     "height": 54
    },
    "colab_type": "code",
    "id": "zjDKltm_0_wQ",
    "outputId": "de46af96-707b-46de-fc3f-3f965f405b3a"
   },
   "outputs": [],
   "source": [
    "# Let's create a pin checker which we generally have in our phones or ATMs\n",
    "pin = input(\"Enter your four digit pin: \")\n",
    "while pin != '1234':\n",
    "    pin = input('Invalid input, please try again: ')  \n",
    "print(\"Pin validation successful.\")"
   ]
  },
  {
   "cell_type": "code",
   "execution_count": null,
   "metadata": {
    "colab": {
     "base_uri": "https://localhost:8080/",
     "height": 208
    },
    "colab_type": "code",
    "id": "FgRx4FMl2-dI",
    "outputId": "bd16f4de-232b-4b2c-ec98-0c0a8587a6fd"
   },
   "outputs": [],
   "source": [
    "# Now if we want to add a maximum number of tries allowed condition we'll use the if loop\n",
    "\n",
    "import sys    #required for exiting the code and displaying an error\n",
    "\n",
    "pin = input(\"Enter your four digit pin: \")\n",
    "attempt_count = 1\n",
    "while pin != '1234':\n",
    "    if attempt_count >= 3:\n",
    "     sys.exit(\"Too many invalid attempts\")   #error code\n",
    "    pin = input('Invalid input, please try again: ')  \n",
    "    attempt_count += 1\n",
    "print(\"Pin validation successful.\")"
   ]
  },
  {
   "cell_type": "markdown",
   "metadata": {
    "colab_type": "text",
    "id": "GXMTk6P4VRZr"
   },
   "source": []
  },
  {
   "cell_type": "code",
   "execution_count": null,
   "metadata": {
    "colab": {},
    "colab_type": "code",
    "id": "UkSzDrOZ3iwD"
   },
   "outputs": [],
   "source": [
    "# iterate over list of integers\n",
    "\n",
    "l = [1,3,4,2,5,6]\n",
    "for i in l : \n",
    "    print(i)"
   ]
  },
  {
   "cell_type": "code",
   "execution_count": null,
   "metadata": {
    "colab": {},
    "colab_type": "code",
    "id": "lfc9wsgq3iwK"
   },
   "outputs": [],
   "source": [
    "# iterate over a string\n",
    "\n",
    "string = \"New York\"\n",
    "for ch in string:\n",
    "    print(ch)"
   ]
  },
  {
   "cell_type": "code",
   "execution_count": null,
   "metadata": {
    "colab": {},
    "colab_type": "code",
    "id": "9x7XZeZR3iwT"
   },
   "outputs": [],
   "source": [
    "# iterate over a string - modify print using end\n",
    "\n",
    "string = \"New York\"\n",
    "for ch in string:\n",
    "    print(ch, end = \":\") # default value of end = \"\\n\""
   ]
  },
  {
   "cell_type": "code",
   "execution_count": null,
   "metadata": {
    "colab": {},
    "colab_type": "code",
    "id": "duDv2EGB3iwX"
   },
   "outputs": [],
   "source": [
    "# iterating over a dictionary\n",
    "\n",
    "students_data = {1:['Sam', 24] , 2:['Rob',25], 3:['Jack', 26], 4:['Cornor',24], 5:['Trump',27]}\n",
    "for key, val in students_data.items():\n",
    "    print(key, val)"
   ]
  },
  {
   "cell_type": "code",
   "execution_count": null,
   "metadata": {
    "colab": {},
    "colab_type": "code",
    "id": "LW6SLLMI3iwf"
   },
   "outputs": [],
   "source": [
    "# iterate over keys of a dictionary\n",
    "for key in students_data.keys():\n",
    "    print(key)"
   ]
  },
  {
   "cell_type": "code",
   "execution_count": null,
   "metadata": {},
   "outputs": [],
   "source": [
    "for value in students_data.values():\n",
    "    print(value)"
   ]
  },
  {
   "cell_type": "code",
   "execution_count": null,
   "metadata": {
    "colab": {},
    "colab_type": "code",
    "id": "1TGQErz23iwk"
   },
   "outputs": [],
   "source": [
    "# Generate range of values.\n",
    "range(1, 101)"
   ]
  },
  {
   "cell_type": "code",
   "execution_count": null,
   "metadata": {
    "colab": {},
    "colab_type": "code",
    "id": "UZsdmFak3iwr"
   },
   "outputs": [],
   "source": [
    "l = list(range(1,101))\n",
    "print(l)"
   ]
  },
  {
   "cell_type": "code",
   "execution_count": null,
   "metadata": {
    "colab": {},
    "colab_type": "code",
    "id": "SUy2Ac_u3iww"
   },
   "outputs": [],
   "source": [
    "# Iterate over range of values\n",
    "\n",
    "for i in range(1, 101):\n",
    "    print(i, end = \" \")"
   ]
  },
  {
   "cell_type": "code",
   "execution_count": null,
   "metadata": {
    "colab": {},
    "colab_type": "code",
    "id": "64kf2bNG3iw0"
   },
   "outputs": [],
   "source": [
    "# different variations in range\n",
    "\n",
    "print(list(range(1, 100, 2) ))# gives numbers from 1 to 100 with a step count of 2\n",
    "print(list(range(100, 0, -1))) # gives a reversed sequence of numbers from 100 to 1"
   ]
  },
  {
   "cell_type": "markdown",
   "metadata": {
    "colab_type": "text",
    "id": "IkvsCbO03iw4"
   },
   "source": [
    "#### Ex. Write a program to print prime numbers between 1 to 20"
   ]
  },
  {
   "cell_type": "code",
   "execution_count": null,
   "metadata": {
    "colab": {},
    "colab_type": "code",
    "id": "1MX9b5vR3iw5"
   },
   "outputs": [],
   "source": [
    "for n in range(1, 20):\n",
    "    flag = True\n",
    "    for i in range(2, n):\n",
    "        if n % i == 0:\n",
    "            print(n,\" is not prime.\")\n",
    "            flag = False\n",
    "            break   \n",
    "    if flag == True:\n",
    "        print(n,\" is prime\")"
   ]
  },
  {
   "cell_type": "markdown",
   "metadata": {
    "colab_type": "text",
    "id": "l2HAhe0H3ixL"
   },
   "source": [
    "<h2 style = \"color:Brown\">Comprehensions"
   ]
  },
  {
   "cell_type": "code",
   "execution_count": null,
   "metadata": {
    "colab": {},
    "colab_type": "code",
    "id": "q4QFdX0Q3ixN",
    "outputId": "1704b7c2-a8c5-44fb-a9b5-00411b9a8fa6"
   },
   "outputs": [],
   "source": [
    "l1 = [\"automobiles\", \"Honda\", \"Benz\", \"Suzuki\", \"Morris Garages\" ]\n",
    "\n",
    "l2 = []\n",
    "\n",
    "for i in l1 :\n",
    "    l2.append(len(i))\n",
    "    \n",
    "l2 "
   ]
  },
  {
   "cell_type": "markdown",
   "metadata": {
    "colab_type": "text",
    "id": "iT-0Q4eE3ixR"
   },
   "source": [
    "#### The Functional Approach"
   ]
  },
  {
   "cell_type": "code",
   "execution_count": null,
   "metadata": {
    "colab": {},
    "colab_type": "code",
    "id": "xUShDG1-3ixS",
    "outputId": "139ab248-dcc1-4340-83cb-e1db38562d98"
   },
   "outputs": [],
   "source": [
    "# Example on list comprehension\n",
    "\n",
    "l1 = [\"automobiles\", \"Honda\", \"Benz\", \"Suzuki\", \"Morris Garages\" ]\n",
    "\n",
    "# Create a list consisting of length of each element from the above list\n",
    "\n",
    "l2 = [len(i) for i in l1]\n",
    "\n",
    "print(l2)"
   ]
  },
  {
   "cell_type": "code",
   "execution_count": null,
   "metadata": {
    "colab": {},
    "colab_type": "code",
    "id": "VJgNB5f43ixc",
    "outputId": "466e6380-2cfc-480a-e758-b50b0921551b"
   },
   "outputs": [],
   "source": [
    "# iterating over l1 and l2 simultaneously\n",
    "\n",
    "for i,j in zip(l1,l2):\n",
    "    print(i, \" - \", j)"
   ]
  },
  {
   "cell_type": "markdown",
   "metadata": {
    "colab_type": "text",
    "id": "iK_zyRqO3ixi"
   },
   "source": [
    "#### Dictionary comprehension"
   ]
  },
  {
   "cell_type": "code",
   "execution_count": null,
   "metadata": {
    "colab": {},
    "colab_type": "code",
    "id": "I3h6sW-I3ixj",
    "outputId": "83aa55f9-d453-4880-d869-170d03bb827f",
    "scrolled": true
   },
   "outputs": [],
   "source": [
    "# Example on dictionary comprehension\n",
    "\n",
    "l1 = [\"automobiles\", \"Honda\", \"Benz\", \"Suzuki\", \"Morris Garages\" ]\n",
    "\n",
    "# Create a dictionary consisting of element and length of each element from the above list\n",
    "\n",
    "d = {i : len(i) for i in l1}\n",
    "\n",
    "print(d)"
   ]
  },
  {
   "cell_type": "markdown",
   "metadata": {
    "colab_type": "text",
    "id": "yQ_-6lEg3ixs"
   },
   "source": [
    "#### Set Comprehensions\n",
    "\n",
    "#### Ex . Write a program which takes a word as input from user and returns vowels from the word"
   ]
  },
  {
   "cell_type": "code",
   "execution_count": 1,
   "metadata": {
    "colab": {},
    "colab_type": "code",
    "id": "cydGA87j3ixu",
    "outputId": "f5d4c900-8aef-4715-9954-f80f847a7f53"
   },
   "outputs": [
    {
     "name": "stdin",
     "output_type": "stream",
     "text": [
      "Enter a word :  maya\n"
     ]
    },
    {
     "data": {
      "text/plain": [
       "{'a'}"
      ]
     },
     "execution_count": 1,
     "metadata": {},
     "output_type": "execute_result"
    }
   ],
   "source": [
    "word = input(\"Enter a word : \")\n",
    "vowels = {i for i in word if i in \"aeiou\"}\n",
    "vowels"
   ]
  },
  {
   "cell_type": "markdown",
   "metadata": {
    "colab_type": "text",
    "id": "YU9T02GC3ix5"
   },
   "source": [
    "<h2 style = \"color:Brown\">Functions</h2>\n",
    "\n",
    "#### Ex. Write a function which takes a value as a parameter and returns its factorial"
   ]
  },
  {
   "cell_type": "code",
   "execution_count": null,
   "metadata": {
    "colab": {},
    "colab_type": "code",
    "id": "_BLzz8K_3ix6",
    "outputId": "a8242ced-ff67-458e-a6c5-be991887c048"
   },
   "outputs": [],
   "source": [
    "def factorial(n):\n",
    "    \n",
    "    fact = 1\n",
    "    \n",
    "    for i in range(1, n+1):\n",
    "        fact *= i\n",
    "    \n",
    "    return fact\n",
    "\n",
    "factorial(5)"
   ]
  },
  {
   "cell_type": "code",
   "execution_count": null,
   "metadata": {
    "colab": {},
    "colab_type": "code",
    "id": "9WzZPKob3iyA",
    "outputId": "4c156e9c-f839-4d44-86dc-e70e8bde72fa"
   },
   "outputs": [],
   "source": [
    "factorial()"
   ]
  },
  {
   "cell_type": "markdown",
   "metadata": {
    "colab_type": "text",
    "id": "j4eld4EW3iyO"
   },
   "source": [
    "#### Function Arguments"
   ]
  },
  {
   "cell_type": "code",
   "execution_count": 2,
   "metadata": {
    "colab": {},
    "colab_type": "code",
    "id": "TBrV-SMN3iyQ"
   },
   "outputs": [],
   "source": [
    "def func(name, age = 35):  # default parameter\n",
    "    print(\"name : \", name)\n",
    "    print(\"age : \", age)"
   ]
  },
  {
   "cell_type": "code",
   "execution_count": 3,
   "metadata": {
    "colab": {},
    "colab_type": "code",
    "id": "Kjhs3xXB3iya",
    "outputId": "15566507-e2e0-4e33-f220-ffdb535e0961"
   },
   "outputs": [
    {
     "name": "stdout",
     "output_type": "stream",
     "text": [
      "name :  Jane\n",
      "age :  25\n"
     ]
    }
   ],
   "source": [
    "func(\"Jane\", 25)"
   ]
  },
  {
   "cell_type": "code",
   "execution_count": 4,
   "metadata": {
    "colab": {},
    "colab_type": "code",
    "id": "gcFhQfK63iyg",
    "outputId": "d96e674e-2cb2-4561-87c0-73ee57eb8131"
   },
   "outputs": [
    {
     "name": "stdout",
     "output_type": "stream",
     "text": [
      "name :  Jane\n",
      "age :  35\n"
     ]
    }
   ],
   "source": [
    "func(\"Jane\")"
   ]
  },
  {
   "cell_type": "code",
   "execution_count": 5,
   "metadata": {
    "colab": {
     "base_uri": "https://localhost:8080/",
     "height": 72
    },
    "colab_type": "code",
    "id": "-ru45WBK3iym",
    "outputId": "e1d4a75f-f360-456b-a368-65eb9e639546"
   },
   "outputs": [
    {
     "name": "stdout",
     "output_type": "stream",
     "text": [
      "name :  Jane\n",
      "age :  35\n",
      "city :  Seattle\n"
     ]
    }
   ],
   "source": [
    "def func(name, age = 35, city = \"New York\"):\n",
    "    print(\"name : \", name)\n",
    "    print(\"age : \", age)\n",
    "    print(\"city : \", city)\n",
    "    \n",
    "func(\"Jane\", city = \"Seattle\") # key-word argument"
   ]
  },
  {
   "cell_type": "code",
   "execution_count": 6,
   "metadata": {
    "colab": {},
    "colab_type": "code",
    "id": "3GQBDj2c3iys",
    "outputId": "16f60ff4-a676-4635-9200-a5f5b6c5ce71"
   },
   "outputs": [
    {
     "name": "stdout",
     "output_type": "stream",
     "text": [
      "(1, 3, 'abc')\n"
     ]
    }
   ],
   "source": [
    "def var_func(*args):\n",
    "    print(args)\n",
    "    \n",
    "var_func(1,3,\"abc\") # variable-length argument"
   ]
  },
  {
   "cell_type": "markdown",
   "metadata": {
    "colab_type": "text",
    "id": "a8Wi284I3iy0"
   },
   "source": [
    "<h2 style = \"color:Brown\"> Lambda Function"
   ]
  },
  {
   "cell_type": "code",
   "execution_count": null,
   "metadata": {
    "colab": {},
    "colab_type": "code",
    "id": "ma5T10Ms3iy4",
    "outputId": "621cc2ec-3df7-48df-bfec-c9b7d99da3db"
   },
   "outputs": [],
   "source": [
    "# Write a lambda function to check a number is even or odd\n",
    "\n",
    "f = lambda x: \"even\" if x % 2 == 0 else \"odd\"\n",
    "\n",
    "f(10)"
   ]
  },
  {
   "cell_type": "markdown",
   "metadata": {
    "colab_type": "text",
    "id": "uE3EmGA03izN"
   },
   "source": [
    "<h2 style = \"color:Brown\">map - filter - reduce"
   ]
  },
  {
   "cell_type": "markdown",
   "metadata": {
    "colab_type": "text",
    "id": "InpYMIOS3izQ"
   },
   "source": [
    "#### Some more examples on map - filter - reduce"
   ]
  },
  {
   "cell_type": "code",
   "execution_count": 7,
   "metadata": {
    "colab": {},
    "colab_type": "code",
    "id": "W8koNAG93izR",
    "outputId": "81cf7228-2ec2-4d79-88f0-2600c16ed70b"
   },
   "outputs": [
    {
     "name": "stdout",
     "output_type": "stream",
     "text": [
      "<map object at 0x000001B86906F760>\n",
      "[4, 16, 25]\n"
     ]
    }
   ],
   "source": [
    "L1 = [2,4,5]\n",
    "print(map(lambda x: x**2, L1))\n",
    "print(list(map(lambda x: x**2, L1)))"
   ]
  },
  {
   "cell_type": "markdown",
   "metadata": {
    "colab_type": "text",
    "id": "LGwFbuqB3izb"
   },
   "source": [
    "#### Defining a function and using it in map"
   ]
  },
  {
   "cell_type": "code",
   "execution_count": null,
   "metadata": {
    "colab": {},
    "colab_type": "code",
    "id": "dp-JDMou3izc",
    "outputId": "8a7577f1-3134-43a0-9280-84f20b49b16f"
   },
   "outputs": [],
   "source": [
    "L1 = [2,4,5]\n",
    "def squareit(n):\n",
    "    return n**2\n",
    "\n",
    "print(list(map(squareit, L1)))"
   ]
  },
  {
   "cell_type": "markdown",
   "metadata": {
    "colab_type": "text",
    "id": "KFDLcV613izj"
   },
   "source": [
    "#### Filter function to return the multiples of 3 "
   ]
  },
  {
   "cell_type": "code",
   "execution_count": 8,
   "metadata": {
    "colab": {},
    "colab_type": "code",
    "id": "exVB0r-D3izm",
    "outputId": "c3a11090-d458-448e-a002-d79ff8bfb3c9"
   },
   "outputs": [
    {
     "name": "stdout",
     "output_type": "stream",
     "text": [
      "[3, 6, 9]\n"
     ]
    }
   ],
   "source": [
    "my_list = [3,4,5,6,7,8,9]\n",
    "\n",
    "divby3 = lambda x:  x % 3 == 0\n",
    "\n",
    "div = filter(divby3, my_list)\n",
    "print(list(div))\n"
   ]
  },
  {
   "cell_type": "markdown",
   "metadata": {
    "colab_type": "text",
    "id": "OkOrezsB3izr"
   },
   "source": [
    "#### Ex. Write a python program to count the students above age 18"
   ]
  },
  {
   "cell_type": "code",
   "execution_count": null,
   "metadata": {
    "colab": {},
    "colab_type": "code",
    "id": "smQD9y3U3iz0",
    "outputId": "a354103d-9879-4a88-a3a9-87ab15f7c7bb"
   },
   "outputs": [],
   "source": [
    "students_data = {1:['Sam', 15] , 2:['Rob',18], 3:['Kyle', 16], 4:['Cornor',19], 5:['Trump',20]}\n",
    "\n",
    "len(list(filter(lambda x : x[1] > 18, students_data.values())))"
   ]
  },
  {
   "cell_type": "markdown",
   "metadata": {
    "colab_type": "text",
    "id": "Bg9TKPmO3iz7"
   },
   "source": [
    "#### Reduce to return product of elements"
   ]
  },
  {
   "cell_type": "code",
   "execution_count": null,
   "metadata": {
    "colab": {},
    "colab_type": "code",
    "id": "UWwryD4z3iz-"
   },
   "outputs": [],
   "source": [
    "from functools import reduce\n",
    "\n",
    "q  = reduce(lambda x, y: x*y, range(1,4))\n",
    "\n",
    "print(q)"
   ]
  },
  {
   "cell_type": "code",
   "execution_count": null,
   "metadata": {},
   "outputs": [],
   "source": [
    "#we can find factorial using reduce function\n",
    "n = int(input(\"Enter any number: \"))\n",
    "\n",
    "from functools import reduce\n",
    "fact = reduce(lambda x,y: x*y ,range(1,n+1))\n",
    "print(fact)"
   ]
  },
  {
   "cell_type": "code",
   "execution_count": null,
   "metadata": {},
   "outputs": [],
   "source": [
    "range(5)"
   ]
  },
  {
   "cell_type": "code",
   "execution_count": 11,
   "metadata": {},
   "outputs": [
    {
     "name": "stdin",
     "output_type": "stream",
     "text": [
      " 1992\n"
     ]
    },
    {
     "name": "stdout",
     "output_type": "stream",
     "text": [
      "True\n"
     ]
    }
   ],
   "source": [
    "# How to check given year is leap year or not\n",
    "def is_leap(year):\n",
    "    leap = False\n",
    "    \n",
    "    # Write your logic here\n",
    "    if year % 4 == 0:\n",
    "        if year % 400 == 0 or year % 100 != 0:\n",
    "             leap = True\n",
    "             return leap\n",
    "       \n",
    "    return leap\n",
    "\n",
    "year = int(input())\n",
    "print(is_leap(year))\n",
    "\n"
   ]
  },
  {
   "cell_type": "code",
   "execution_count": 29,
   "metadata": {},
   "outputs": [
    {
     "name": "stdout",
     "output_type": "stream",
     "text": [
      "Print sorted list as : ['Jammu', 'Amreli', 'Gujarat', 'Chnadigadh', 'Rajeshthan', 'Maharashtra']\n"
     ]
    }
   ],
   "source": [
    "#custom sorting with function\n",
    "\n",
    "LIST = ['Chnadigadh','Amreli','Gujarat','Maharashtra','Jammu','Rajeshthan']\n",
    "def length(LIST):\n",
    "    return len(LIST)\n",
    "sort = sorted(LIST, key = length)\n",
    "print(\"Print sorted list as :\", sort)"
   ]
  },
  {
   "cell_type": "code",
   "execution_count": 30,
   "metadata": {},
   "outputs": [
    {
     "name": "stdout",
     "output_type": "stream",
     "text": [
      "Print sorted list as:  ['Jeel', 'Lishit', 'jahanvi', 'SumitVaishnav', 'KajalBagthaliya']\n"
     ]
    }
   ],
   "source": [
    "# custom sorting with lambda expression\n",
    "\n",
    "LIST1 = ['Jeel','jahanvi','Lishit','SumitVaishnav','KajalBagthaliya']\n",
    "sort = sorted(LIST1, key = lambda x : len(x))\n",
    "print(\"Print sorted list as: \", sort)"
   ]
  },
  {
   "cell_type": "code",
   "execution_count": 31,
   "metadata": {},
   "outputs": [
    {
     "name": "stdout",
     "output_type": "stream",
     "text": [
      "Print sorted list as:  ['KajalBagthaliya', 'SumitVaishnav', 'jahanvi', 'Lishit', 'Jeel']\n"
     ]
    }
   ],
   "source": [
    "LIST1 = ['Jeel','jahanvi','Lishit','SumitVaishnav','KajalBagthaliya']\n",
    "sort = sorted(LIST1, key = lambda x : len(x), reverse = True)\n",
    "print(\"Print sorted list as: \", sort)"
   ]
  },
  {
   "cell_type": "code",
   "execution_count": null,
   "metadata": {},
   "outputs": [],
   "source": []
  },
  {
   "cell_type": "code",
   "execution_count": null,
   "metadata": {},
   "outputs": [],
   "source": []
  },
  {
   "cell_type": "code",
   "execution_count": null,
   "metadata": {},
   "outputs": [],
   "source": []
  },
  {
   "cell_type": "code",
   "execution_count": null,
   "metadata": {},
   "outputs": [],
   "source": []
  },
  {
   "cell_type": "code",
   "execution_count": 9,
   "metadata": {},
   "outputs": [],
   "source": [
    "students = [['Harry', 37.21], ['Berry', 37.21], ['Tina', 37.2], ['Akriti', 41], ['Harsh', 39]]\n",
    "new_list = dict(students)"
   ]
  },
  {
   "cell_type": "code",
   "execution_count": 18,
   "metadata": {},
   "outputs": [
    {
     "data": {
      "text/plain": [
       "{'Harry': 37.21, 'Berry': 37.21, 'Tina': 37.2, 'Akriti': 41, 'Harsh': 39}"
      ]
     },
     "execution_count": 18,
     "metadata": {},
     "output_type": "execute_result"
    }
   ],
   "source": [
    "new_list"
   ]
  },
  {
   "cell_type": "code",
   "execution_count": 26,
   "metadata": {},
   "outputs": [
    {
     "name": "stdout",
     "output_type": "stream",
     "text": [
      "[37.2, 37.21, 37.21, 39, 41]\n",
      "[37.21, 37.21, 39, 41]\n"
     ]
    },
    {
     "ename": "KeyError",
     "evalue": "0",
     "output_type": "error",
     "traceback": [
      "\u001b[1;31m---------------------------------------------------------------------------\u001b[0m",
      "\u001b[1;31mKeyError\u001b[0m                                  Traceback (most recent call last)",
      "Cell \u001b[1;32mIn[26], line 7\u001b[0m\n\u001b[0;32m      5\u001b[0m min_value \u001b[38;5;241m=\u001b[39m \u001b[38;5;28mmin\u001b[39m(new_list\u001b[38;5;241m.\u001b[39mvalues())\n\u001b[0;32m      6\u001b[0m \u001b[38;5;28;01mfor\u001b[39;00m i \u001b[38;5;129;01min\u001b[39;00m \u001b[38;5;28mrange\u001b[39m(\u001b[38;5;241m0\u001b[39m,\u001b[38;5;28mlen\u001b[39m(new_list)):\n\u001b[1;32m----> 7\u001b[0m     \u001b[38;5;28;01mif\u001b[39;00m min_value \u001b[38;5;241m==\u001b[39m new_list[i][\u001b[38;5;241m1\u001b[39m]:\n\u001b[0;32m      8\u001b[0m         \u001b[38;5;28mprint\u001b[39m(\u001b[38;5;28msorted\u001b[39m(new_list[i]))\n",
      "\u001b[1;31mKeyError\u001b[0m: 0"
     ]
    }
   ],
   "source": [
    "l =sorted(new_list.values())\n",
    "print(l)\n",
    "l.remove(min(l))\n",
    "print(l)\n",
    "min_value = min(new_list.values())\n",
    "for i in range(0,len(new_list)):\n",
    "    if min_value == new_list[i][1]:\n",
    "        print(sorted(new_list[i]))\n",
    "    "
   ]
  },
  {
   "cell_type": "code",
   "execution_count": null,
   "metadata": {},
   "outputs": [],
   "source": [
    "#print second lowest name\n",
    "if __name__ == '__main__':\n",
    "    \n",
    "    for _ in range(int(input())):\n",
    "        name = input()\n",
    "        score = float(input())\n",
    "        records = list()"
   ]
  },
  {
   "cell_type": "code",
   "execution_count": null,
   "metadata": {},
   "outputs": [],
   "source": []
  },
  {
   "cell_type": "code",
   "execution_count": null,
   "metadata": {},
   "outputs": [],
   "source": []
  }
 ],
 "metadata": {
  "colab": {
   "collapsed_sections": [],
   "name": "Session 3.ipynb",
   "provenance": []
  },
  "kernelspec": {
   "display_name": "Python 3 (ipykernel)",
   "language": "python",
   "name": "python3"
  },
  "language_info": {
   "codemirror_mode": {
    "name": "ipython",
    "version": 3
   },
   "file_extension": ".py",
   "mimetype": "text/x-python",
   "name": "python",
   "nbconvert_exporter": "python",
   "pygments_lexer": "ipython3",
   "version": "3.12.7"
  }
 },
 "nbformat": 4,
 "nbformat_minor": 4
}
