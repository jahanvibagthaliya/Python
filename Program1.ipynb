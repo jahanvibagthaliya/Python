{
  "nbformat": 4,
  "nbformat_minor": 0,
  "metadata": {
    "colab": {
      "provenance": []
    },
    "kernelspec": {
      "name": "python3",
      "display_name": "Python 3"
    },
    "language_info": {
      "name": "python"
    }
  },
  "cells": [
    {
      "cell_type": "code",
      "execution_count": null,
      "metadata": {
        "id": "5tT8evJNQubO"
      },
      "outputs": [],
      "source": []
    },
    {
      "cell_type": "markdown",
      "source": [
        "\n",
        "\n",
        "\n",
        "- If we write in a colab notbook or jupyter notbook, the the default file name is filename.ipynb\n",
        "- Any other IDE(pycharm,vscode,anaconda)then we save file with filename.extension\n",
        "- ipynb = intrective python notbook- only python programs uses cells which execute independently\n",
        "\n",
        "\n",
        "\n",
        "\n"
      ],
      "metadata": {
        "id": "YXkz9-qbRJrj"
      }
    },
    {
      "cell_type": "code",
      "source": [
        "print(\"python\")"
      ],
      "metadata": {
        "colab": {
          "base_uri": "https://localhost:8080/"
        },
        "id": "O0SKGvUjSobt",
        "outputId": "34b85a28-29b8-4855-8fb4-910857b52881"
      },
      "execution_count": null,
      "outputs": [
        {
          "output_type": "stream",
          "name": "stdout",
          "text": [
            "python\n"
          ]
        }
      ]
    },
    {
      "cell_type": "markdown",
      "source": [
        "- keyword = reserved words, they are case sensitive"
      ],
      "metadata": {
        "id": "JjcfrrB3Ttnq"
      }
    },
    {
      "cell_type": "code",
      "source": [
        "import keyword\n",
        "print(keyword.kwlist)"
      ],
      "metadata": {
        "colab": {
          "base_uri": "https://localhost:8080/"
        },
        "id": "v2rAOtNCT2iD",
        "outputId": "68d1cf1e-b530-4bb6-a5fd-d67183ddcea3"
      },
      "execution_count": null,
      "outputs": [
        {
          "output_type": "stream",
          "name": "stdout",
          "text": [
            "['False', 'None', 'True', 'and', 'as', 'assert', 'async', 'await', 'break', 'class', 'continue', 'def', 'del', 'elif', 'else', 'except', 'finally', 'for', 'from', 'global', 'if', 'import', 'in', 'is', 'lambda', 'nonlocal', 'not', 'or', 'pass', 'raise', 'return', 'try', 'while', 'with', 'yield']\n"
          ]
        }
      ]
    },
    {
      "cell_type": "markdown",
      "source": [
        "- among all the kewwords only 'False', 'None' and 'True' starts with first capital latter"
      ],
      "metadata": {
        "id": "DqewBtRWnqhI"
      }
    },
    {
      "cell_type": "code",
      "source": [
        "l = keyword.kwlist\n",
        "print(len(l))"
      ],
      "metadata": {
        "colab": {
          "base_uri": "https://localhost:8080/"
        },
        "id": "fiW0I_PWUaXF",
        "outputId": "9a749b21-dd46-423c-f281-e8202a808114"
      },
      "execution_count": null,
      "outputs": [
        {
          "output_type": "stream",
          "name": "stdout",
          "text": [
            "35\n"
          ]
        }
      ]
    },
    {
      "cell_type": "markdown",
      "source": [
        "- Variable = Name given to memory location."
      ],
      "metadata": {
        "id": "oEwXAaxjVlv9"
      }
    },
    {
      "cell_type": "code",
      "source": [
        "a = 100\n"
      ],
      "metadata": {
        "id": "-EL4MueRU9MP"
      },
      "execution_count": null,
      "outputs": []
    },
    {
      "cell_type": "code",
      "source": [
        "a"
      ],
      "metadata": {
        "colab": {
          "base_uri": "https://localhost:8080/"
        },
        "id": "aoxcdon8YKvl",
        "outputId": "76fb1788-86d6-4506-d3dd-27ea4680e0b6"
      },
      "execution_count": null,
      "outputs": [
        {
          "output_type": "execute_result",
          "data": {
            "text/plain": [
              "100"
            ]
          },
          "metadata": {},
          "execution_count": 5
        }
      ]
    },
    {
      "cell_type": "markdown",
      "source": [
        "- we don't actually asingn a value to a variable, instead python gives reference of the object to the variable."
      ],
      "metadata": {
        "id": "tFbiJ_QGYYnD"
      }
    },
    {
      "cell_type": "code",
      "source": [
        "a = 30\n",
        "#1a is not valid\n"
      ],
      "metadata": {
        "id": "b4SzZNtrYN8T"
      },
      "execution_count": null,
      "outputs": []
    },
    {
      "cell_type": "markdown",
      "source": [
        "- ID and Type:\n",
        "Identity of an object(int)"
      ],
      "metadata": {
        "id": "25K-SL9lbONI"
      }
    },
    {
      "cell_type": "code",
      "source": [
        "a = 100\n",
        "b = 13.5\n",
        "c = 100"
      ],
      "metadata": {
        "id": "SdxYGxooY_vB"
      },
      "execution_count": null,
      "outputs": []
    },
    {
      "cell_type": "code",
      "source": [
        "print(a)\n",
        "print(id(a))\n",
        "print(type(a))"
      ],
      "metadata": {
        "colab": {
          "base_uri": "https://localhost:8080/"
        },
        "id": "ca2seQ4gbhWr",
        "outputId": "b463706b-f891-464f-938c-a1dd745b9d7d"
      },
      "execution_count": null,
      "outputs": [
        {
          "output_type": "stream",
          "name": "stdout",
          "text": [
            "100\n",
            "10754024\n",
            "<class 'int'>\n"
          ]
        }
      ]
    },
    {
      "cell_type": "code",
      "source": [
        "print(b)\n",
        "print(id(b))\n",
        "print(type(b))"
      ],
      "metadata": {
        "colab": {
          "base_uri": "https://localhost:8080/"
        },
        "id": "gzjeODgRblQV",
        "outputId": "20daa4b3-3205-4fa9-be56-a6ab6a04d74b"
      },
      "execution_count": null,
      "outputs": [
        {
          "output_type": "stream",
          "name": "stdout",
          "text": [
            "13.5\n",
            "135577244933968\n",
            "<class 'float'>\n"
          ]
        }
      ]
    },
    {
      "cell_type": "code",
      "source": [
        "print(c)\n",
        "print(id(c))\n",
        "print(type(c))"
      ],
      "metadata": {
        "colab": {
          "base_uri": "https://localhost:8080/"
        },
        "id": "fcNUAveMbrtg",
        "outputId": "d9aaa771-e106-419b-b4d9-8d967104d380"
      },
      "execution_count": null,
      "outputs": [
        {
          "output_type": "stream",
          "name": "stdout",
          "text": [
            "100\n",
            "10754024\n",
            "<class 'int'>\n"
          ]
        }
      ]
    },
    {
      "cell_type": "code",
      "source": [
        "a1 = 5000\n",
        "a2 = 5000\n",
        "print(id(a1))\n",
        "print(id(a2))"
      ],
      "metadata": {
        "id": "k60YxWrubuu9",
        "colab": {
          "base_uri": "https://localhost:8080/"
        },
        "outputId": "b2f5903e-0c09-4db8-c713-2d5c3f66efed"
      },
      "execution_count": null,
      "outputs": [
        {
          "output_type": "stream",
          "name": "stdout",
          "text": [
            "136286046955728\n",
            "136286046953104\n"
          ]
        }
      ]
    },
    {
      "cell_type": "code",
      "source": [
        "t = 100\n",
        "s = 'coep'\n",
        "marks = 92.5\n"
      ],
      "metadata": {
        "id": "ff697Ffsncml"
      },
      "execution_count": null,
      "outputs": []
    },
    {
      "cell_type": "code",
      "source": [
        "print(t)\n",
        "print(s)\n",
        "print(marks)\n"
      ],
      "metadata": {
        "colab": {
          "base_uri": "https://localhost:8080/"
        },
        "id": "FPXV-q3UyARv",
        "outputId": "6149f1aa-e068-4f87-e90c-4b890fc61d98"
      },
      "execution_count": null,
      "outputs": [
        {
          "output_type": "stream",
          "name": "stdout",
          "text": [
            "100\n",
            "coep\n",
            "92.5\n"
          ]
        }
      ]
    },
    {
      "cell_type": "code",
      "source": [
        "print(type(t))\n",
        "print(type(s))\n",
        "print(type(marks))\n"
      ],
      "metadata": {
        "colab": {
          "base_uri": "https://localhost:8080/"
        },
        "id": "_g3oJ3ocyGEY",
        "outputId": "55afb6b2-bdb3-46ad-84f8-31ebd5f881be"
      },
      "execution_count": null,
      "outputs": [
        {
          "output_type": "stream",
          "name": "stdout",
          "text": [
            "<class 'int'>\n",
            "<class 'str'>\n",
            "<class 'float'>\n"
          ]
        }
      ]
    },
    {
      "cell_type": "code",
      "source": [
        "b = 100"
      ],
      "metadata": {
        "id": "bSuUnVJFyQLr"
      },
      "execution_count": null,
      "outputs": []
    },
    {
      "cell_type": "code",
      "source": [
        "print(id(b))"
      ],
      "metadata": {
        "colab": {
          "base_uri": "https://localhost:8080/"
        },
        "id": "UAkNchlpybWl",
        "outputId": "03ea4f42-0936-40e2-ce39-93467e2012b3"
      },
      "execution_count": null,
      "outputs": [
        {
          "output_type": "stream",
          "name": "stdout",
          "text": [
            "10754024\n"
          ]
        }
      ]
    },
    {
      "cell_type": "code",
      "source": [
        "print(id(t))"
      ],
      "metadata": {
        "colab": {
          "base_uri": "https://localhost:8080/"
        },
        "id": "E9ACZ65-ydK_",
        "outputId": "5b91f5cb-2645-4535-d8b3-6748508ee23a"
      },
      "execution_count": null,
      "outputs": [
        {
          "output_type": "stream",
          "name": "stdout",
          "text": [
            "10754024\n"
          ]
        }
      ]
    },
    {
      "cell_type": "code",
      "source": [
        "print(id(s))\n",
        "print(id(marks))"
      ],
      "metadata": {
        "colab": {
          "base_uri": "https://localhost:8080/"
        },
        "id": "WERaczBMygNs",
        "outputId": "81f38904-f738-45d2-b008-0f27a22518b5"
      },
      "execution_count": null,
      "outputs": [
        {
          "output_type": "stream",
          "name": "stdout",
          "text": [
            "137471303913456\n",
            "137471303540272\n"
          ]
        }
      ]
    },
    {
      "cell_type": "markdown",
      "source": [
        "- Python is an type inferred language, dynamic, not defined variable at the time of declaration"
      ],
      "metadata": {
        "id": "qtLlpu2WyqIV"
      }
    },
    {
      "cell_type": "markdown",
      "source": [
        "#Interpreter will not execute this code\n",
        "\n"
      ],
      "metadata": {
        "id": "JCs5fYtky3Us"
      }
    },
    {
      "cell_type": "code",
      "source": [
        "#assigning multiple values to multiple variable\n",
        "a,b,c = 5,3.2,\"Python\"\n",
        "print(a,b,c)"
      ],
      "metadata": {
        "colab": {
          "base_uri": "https://localhost:8080/"
        },
        "id": "cNyF9_HiymQL",
        "outputId": "60b5cb6f-4b04-4c5f-ab2a-d75e7d8bcff7"
      },
      "execution_count": null,
      "outputs": [
        {
          "output_type": "stream",
          "name": "stdout",
          "text": [
            "5 3.2 Python\n"
          ]
        }
      ]
    },
    {
      "cell_type": "code",
      "source": [
        "# same value to multiple variable at once\n",
        "a = b = c = 10\n",
        "print(a,b,c)"
      ],
      "metadata": {
        "colab": {
          "base_uri": "https://localhost:8080/"
        },
        "id": "cA-AnUPVzMKh",
        "outputId": "d99bc2f2-be31-4762-a32c-a3e9fc3882b7"
      },
      "execution_count": null,
      "outputs": [
        {
          "output_type": "stream",
          "name": "stdout",
          "text": [
            "10 10 10\n"
          ]
        }
      ]
    },
    {
      "cell_type": "code",
      "source": [
        "#swap two number with operator/3rd variable\n",
        "a = 100\n",
        "b = 200\n",
        "print(\"Before swap a, b \",a , b)\n",
        "no = b\n",
        "b = a\n",
        "a = no\n",
        "print(\"After swap a, b \",a ,b)"
      ],
      "metadata": {
        "colab": {
          "base_uri": "https://localhost:8080/"
        },
        "id": "hUUL5E66zkYp",
        "outputId": "f824f969-b159-495e-ac02-4a11e7c73eec"
      },
      "execution_count": null,
      "outputs": [
        {
          "output_type": "stream",
          "name": "stdout",
          "text": [
            "Before swap a, b  100 200\n",
            "After swap a, b  200 100\n"
          ]
        }
      ]
    },
    {
      "cell_type": "code",
      "source": [
        "#2nd way for swap two number\n",
        "a = 100\n",
        "b = 200\n",
        "a , b = b, a\n",
        "print(a,b)"
      ],
      "metadata": {
        "colab": {
          "base_uri": "https://localhost:8080/"
        },
        "id": "6jBdHF890G5T",
        "outputId": "305ef6d3-81e6-4fed-d407-277ffcc398fa"
      },
      "execution_count": null,
      "outputs": [
        {
          "output_type": "stream",
          "name": "stdout",
          "text": [
            "200 100\n"
          ]
        }
      ]
    },
    {
      "cell_type": "code",
      "source": [
        "c = 500\n",
        "d = 500\n",
        "print(id(c))\n",
        "print(id(d))"
      ],
      "metadata": {
        "colab": {
          "base_uri": "https://localhost:8080/"
        },
        "id": "RJIPYAv-0Zm3",
        "outputId": "d350436c-b524-4e26-8b9a-cfe6db6a78ee"
      },
      "execution_count": null,
      "outputs": [
        {
          "output_type": "stream",
          "name": "stdout",
          "text": [
            "137470103659024\n",
            "137470103652752\n"
          ]
        }
      ]
    },
    {
      "cell_type": "code",
      "source": [
        "t = [1,2,3]\n",
        "t1 = [1,2,3]\n",
        "print(id(t))\n",
        "print(id(t1))"
      ],
      "metadata": {
        "colab": {
          "base_uri": "https://localhost:8080/"
        },
        "id": "O7CdvVFF0yYS",
        "outputId": "11402cdf-cc1b-499a-bf58-15f6d59e03a0"
      },
      "execution_count": null,
      "outputs": [
        {
          "output_type": "stream",
          "name": "stdout",
          "text": [
            "137470104395136\n",
            "137470104389568\n"
          ]
        }
      ]
    },
    {
      "cell_type": "markdown",
      "source": [
        "# Memory management in Python/c/c++/java\n",
        "-Two types of data type\n",
        "1. Immutable : Number, String, Tuple\n",
        "2. mutable : List, set, dictionary\n",
        "- Number -> int, float, complex\n",
        "- Immutable Data type: id()-same memory location\n",
        "      - That means two different variables with same value in immutable type will give same memory location\n",
        "- Mutable Data Type: id()-different memory location\n",
        "      - That means two different variable with same value in mutable type will give different memory location"
      ],
      "metadata": {
        "id": "QB7zdCFgpXpW"
      }
    },
    {
      "cell_type": "code",
      "source": [
        "\n",
        "\n",
        "a=5\n",
        "b=5\n",
        "print(a)\n",
        "print(b)\n",
        "print(type(a))\n",
        "print(type(b))\n",
        "print(id(a))\n",
        "print(id(b))\n",
        "\n",
        "print(\"****This is for list******\")\n",
        "l=[1,2,3]\n",
        "l1=[1,2,3]\n",
        "print(type(l))\n",
        "print(type(l1))\n",
        "print(id(l))\n",
        "print(id(l1))\n",
        "\n",
        "print(\"****This is for tuple******\")\n",
        "T=(1,2,3)\n",
        "T1=(1,2,3)\n",
        "print(type(T))\n",
        "print(type(T1))\n",
        "print(id(T))\n",
        "print(id(T1))"
      ],
      "metadata": {
        "id": "g8_OxskI2VKT",
        "colab": {
          "base_uri": "https://localhost:8080/"
        },
        "outputId": "4bbba0e4-3d04-4551-f2d6-6aa29def8baa"
      },
      "execution_count": null,
      "outputs": [
        {
          "output_type": "stream",
          "name": "stdout",
          "text": [
            "5\n",
            "5\n",
            "<class 'int'>\n",
            "<class 'int'>\n",
            "10750984\n",
            "10750984\n",
            "****This is for list******\n",
            "<class 'list'>\n",
            "<class 'list'>\n",
            "138248961712832\n",
            "138249119767104\n",
            "****This is for tuple******\n",
            "<class 'tuple'>\n",
            "<class 'tuple'>\n",
            "138248961716288\n",
            "138248961716736\n"
          ]
        }
      ]
    },
    {
      "cell_type": "markdown",
      "source": [
        "### Numbers are three types\n",
        "1. Integer(Whole number)\n",
        "2. Float(Decimal)\n",
        "3. Complex(Imaginary)"
      ],
      "metadata": {
        "id": "_cOckKbXVtX1"
      }
    },
    {
      "cell_type": "code",
      "source": [
        "a = 100\n",
        "b = -200"
      ],
      "metadata": {
        "id": "PszZ3ziiVim6"
      },
      "execution_count": null,
      "outputs": []
    },
    {
      "cell_type": "code",
      "source": [
        "print(a)\n",
        "print(b)"
      ],
      "metadata": {
        "colab": {
          "base_uri": "https://localhost:8080/"
        },
        "id": "9dsjfgqTV52h",
        "outputId": "cf37a70b-45b3-4b39-8777-5e5d78f984dc"
      },
      "execution_count": null,
      "outputs": [
        {
          "output_type": "stream",
          "name": "stdout",
          "text": [
            "100\n",
            "-200\n"
          ]
        }
      ]
    },
    {
      "cell_type": "code",
      "source": [
        "print(type(a))\n",
        "print(type(b))"
      ],
      "metadata": {
        "colab": {
          "base_uri": "https://localhost:8080/"
        },
        "id": "NBFauwXZV78-",
        "outputId": "7b26497b-269b-4fc0-bc99-24b6a1ee60b5"
      },
      "execution_count": null,
      "outputs": [
        {
          "output_type": "stream",
          "name": "stdout",
          "text": [
            "<class 'int'>\n",
            "<class 'int'>\n"
          ]
        }
      ]
    },
    {
      "cell_type": "code",
      "source": [
        "print(id(a))\n",
        "print(id(b))"
      ],
      "metadata": {
        "colab": {
          "base_uri": "https://localhost:8080/"
        },
        "id": "Taut2QeIWFoM",
        "outputId": "7b64c608-c16c-4c70-c6be-de29ea81c96e"
      },
      "execution_count": null,
      "outputs": [
        {
          "output_type": "stream",
          "name": "stdout",
          "text": [
            "10754024\n",
            "135141826617488\n"
          ]
        }
      ]
    },
    {
      "cell_type": "code",
      "source": [
        "p = 926751336595"
      ],
      "metadata": {
        "id": "k-KwSx0lWLP1"
      },
      "execution_count": null,
      "outputs": []
    },
    {
      "cell_type": "code",
      "source": [
        "print(p)"
      ],
      "metadata": {
        "colab": {
          "base_uri": "https://localhost:8080/"
        },
        "id": "j6f6nmHqWROg",
        "outputId": "d8deb9bc-98e6-4635-e491-23d5cc0f9550"
      },
      "execution_count": null,
      "outputs": [
        {
          "output_type": "stream",
          "name": "stdout",
          "text": [
            "926751336595\n"
          ]
        }
      ]
    },
    {
      "cell_type": "code",
      "source": [
        "print(type(p))"
      ],
      "metadata": {
        "colab": {
          "base_uri": "https://localhost:8080/"
        },
        "id": "wBHRsAJgWi5s",
        "outputId": "3522def7-2df0-442c-8cb8-456fa9f92395"
      },
      "execution_count": null,
      "outputs": [
        {
          "output_type": "stream",
          "name": "stdout",
          "text": [
            "<class 'int'>\n"
          ]
        }
      ]
    },
    {
      "cell_type": "code",
      "source": [
        "per = 10.25"
      ],
      "metadata": {
        "id": "RxGyoINPWlk-"
      },
      "execution_count": null,
      "outputs": []
    },
    {
      "cell_type": "code",
      "source": [
        "print(type(per))"
      ],
      "metadata": {
        "colab": {
          "base_uri": "https://localhost:8080/"
        },
        "id": "UmriSpQ5XEhm",
        "outputId": "84c53915-ce7d-4b99-adef-e901eac003bf"
      },
      "execution_count": null,
      "outputs": [
        {
          "output_type": "stream",
          "name": "stdout",
          "text": [
            "<class 'float'>\n"
          ]
        }
      ]
    },
    {
      "cell_type": "code",
      "source": [
        "a = 2+3i\n",
        "print(a)"
      ],
      "metadata": {
        "colab": {
          "base_uri": "https://localhost:8080/",
          "height": 106
        },
        "id": "OpTYvffwXtEK",
        "outputId": "d0a0f0e7-d60c-4e2e-d55d-e8722a4383c5"
      },
      "execution_count": null,
      "outputs": [
        {
          "output_type": "error",
          "ename": "SyntaxError",
          "evalue": "invalid decimal literal (<ipython-input-12-e05fb6e8b8dd>, line 1)",
          "traceback": [
            "\u001b[0;36m  File \u001b[0;32m\"<ipython-input-12-e05fb6e8b8dd>\"\u001b[0;36m, line \u001b[0;32m1\u001b[0m\n\u001b[0;31m    a = 2+3i\u001b[0m\n\u001b[0m          ^\u001b[0m\n\u001b[0;31mSyntaxError\u001b[0m\u001b[0;31m:\u001b[0m invalid decimal literal\n"
          ]
        }
      ]
    },
    {
      "cell_type": "code",
      "source": [
        "b = 3+4j\n",
        "print(b)"
      ],
      "metadata": {
        "colab": {
          "base_uri": "https://localhost:8080/"
        },
        "id": "NVbY4TKtXJT7",
        "outputId": "f6558ec3-698e-4923-b19b-dbaf0073d7e4"
      },
      "execution_count": null,
      "outputs": [
        {
          "output_type": "stream",
          "name": "stdout",
          "text": [
            "(3+4j)\n"
          ]
        }
      ]
    },
    {
      "cell_type": "code",
      "source": [
        "print(type(b))"
      ],
      "metadata": {
        "colab": {
          "base_uri": "https://localhost:8080/"
        },
        "id": "D_EEmNrDX52x",
        "outputId": "ff598197-9952-4f50-d5ed-63f81555e88a"
      },
      "execution_count": null,
      "outputs": [
        {
          "output_type": "stream",
          "name": "stdout",
          "text": [
            "<class 'complex'>\n"
          ]
        }
      ]
    },
    {
      "cell_type": "code",
      "source": [
        "c = 4 - 5j\n",
        "print(c)\n",
        "print(type(c))"
      ],
      "metadata": {
        "colab": {
          "base_uri": "https://localhost:8080/"
        },
        "id": "itx8WiKTX8c0",
        "outputId": "cc501848-faa0-47e3-fadc-3e774de447dd"
      },
      "execution_count": null,
      "outputs": [
        {
          "output_type": "stream",
          "name": "stdout",
          "text": [
            "(4-5j)\n",
            "<class 'complex'>\n"
          ]
        }
      ]
    },
    {
      "cell_type": "code",
      "source": [
        "d = 6 + 5k\n",
        "print(d)\n",
        "print(type(d))"
      ],
      "metadata": {
        "colab": {
          "base_uri": "https://localhost:8080/",
          "height": 106
        },
        "id": "LQn-6368YE8j",
        "outputId": "c3c49cb6-9a2b-4f34-f19a-89d3101b2077"
      },
      "execution_count": null,
      "outputs": [
        {
          "output_type": "error",
          "ename": "SyntaxError",
          "evalue": "invalid decimal literal (<ipython-input-16-693efada0b61>, line 1)",
          "traceback": [
            "\u001b[0;36m  File \u001b[0;32m\"<ipython-input-16-693efada0b61>\"\u001b[0;36m, line \u001b[0;32m1\u001b[0m\n\u001b[0;31m    d = 6 + 5k\u001b[0m\n\u001b[0m            ^\u001b[0m\n\u001b[0;31mSyntaxError\u001b[0m\u001b[0;31m:\u001b[0m invalid decimal literal\n"
          ]
        }
      ]
    },
    {
      "cell_type": "markdown",
      "source": [
        "# Notes:\n",
        "- For complex number, only j is valid\n",
        "-like 2+3j, 7-7j, 8+3j"
      ],
      "metadata": {
        "id": "ZfBejz4IYOHy"
      }
    },
    {
      "cell_type": "markdown",
      "source": [
        "### Type Conversion / Type Casting"
      ],
      "metadata": {
        "id": "L3yCfXbQYYVD"
      }
    },
    {
      "cell_type": "code",
      "source": [
        "t = 34\n",
        "print(type(t))"
      ],
      "metadata": {
        "colab": {
          "base_uri": "https://localhost:8080/"
        },
        "id": "fufyL4tWYLa4",
        "outputId": "fede2a2e-ccb5-4c62-b814-d8e3416425c0"
      },
      "execution_count": null,
      "outputs": [
        {
          "output_type": "stream",
          "name": "stdout",
          "text": [
            "<class 'int'>\n"
          ]
        }
      ]
    },
    {
      "cell_type": "code",
      "source": [
        "c = complex(t)\n",
        "print(c)"
      ],
      "metadata": {
        "colab": {
          "base_uri": "https://localhost:8080/"
        },
        "id": "PyptTbbSYkpZ",
        "outputId": "754d7f1d-5fc8-4ba2-8bd3-950658e7cd47"
      },
      "execution_count": null,
      "outputs": [
        {
          "output_type": "stream",
          "name": "stdout",
          "text": [
            "(34+0j)\n"
          ]
        }
      ]
    },
    {
      "cell_type": "code",
      "source": [
        "f = float(t)\n",
        "print(f)"
      ],
      "metadata": {
        "colab": {
          "base_uri": "https://localhost:8080/"
        },
        "id": "l0wa26QGYpCW",
        "outputId": "b51fa3ba-4c6d-41bc-a26f-417fbd09071b"
      },
      "execution_count": null,
      "outputs": [
        {
          "output_type": "stream",
          "name": "stdout",
          "text": [
            "34.0\n"
          ]
        }
      ]
    },
    {
      "cell_type": "code",
      "source": [
        "print(int(2))"
      ],
      "metadata": {
        "colab": {
          "base_uri": "https://localhost:8080/"
        },
        "id": "Xn-2OKKuYuEH",
        "outputId": "b614052b-f40f-4dd2-96b5-aae120af92a9"
      },
      "execution_count": null,
      "outputs": [
        {
          "output_type": "stream",
          "name": "stdout",
          "text": [
            "2\n"
          ]
        }
      ]
    },
    {
      "cell_type": "code",
      "source": [
        "print(type(100))"
      ],
      "metadata": {
        "colab": {
          "base_uri": "https://localhost:8080/"
        },
        "id": "3koiuwlvY_9k",
        "outputId": "ad11165d-2b1d-48f5-ece6-bdbfd666a36c"
      },
      "execution_count": null,
      "outputs": [
        {
          "output_type": "stream",
          "name": "stdout",
          "text": [
            "<class 'int'>\n"
          ]
        }
      ]
    },
    {
      "cell_type": "code",
      "source": [
        "print(type(100+30j))"
      ],
      "metadata": {
        "colab": {
          "base_uri": "https://localhost:8080/"
        },
        "id": "33UlO0vvZDly",
        "outputId": "4c4ca9e8-5e7c-4e78-813e-9042278caf56"
      },
      "execution_count": null,
      "outputs": [
        {
          "output_type": "stream",
          "name": "stdout",
          "text": [
            "<class 'complex'>\n"
          ]
        }
      ]
    },
    {
      "cell_type": "code",
      "source": [
        "c = complex(10,20)\n",
        "print(c)\n",
        "print(type(c))"
      ],
      "metadata": {
        "colab": {
          "base_uri": "https://localhost:8080/"
        },
        "id": "50J69wONZWIk",
        "outputId": "ace5bf7c-16c3-4bb0-9e73-f1205ea376b8"
      },
      "execution_count": null,
      "outputs": [
        {
          "output_type": "stream",
          "name": "stdout",
          "text": [
            "(10+20j)\n",
            "<class 'complex'>\n"
          ]
        }
      ]
    },
    {
      "cell_type": "markdown",
      "source": [
        "# List : Mutable, iterable, slicing, indexing, Hashable\n",
        "\n",
        "\n",
        "*   declare using square bracket[]\n",
        "*  For type  conversion we use list function\n",
        "\n",
        "\n",
        "*   List contains homogeneous and hetrogeneous data\n",
        "*   We can iterate with forward and backward direction\n",
        "\n",
        "\n",
        "\n",
        "\n",
        "\n",
        "\n",
        "\n",
        "\n",
        "\n"
      ],
      "metadata": {
        "id": "uzx2IwklZ144"
      }
    },
    {
      "cell_type": "code",
      "source": [
        "list1 = [1,2,3]\n",
        "print(list1)"
      ],
      "metadata": {
        "colab": {
          "base_uri": "https://localhost:8080/"
        },
        "id": "a9e5iXOxZdKA",
        "outputId": "8c623fee-7f09-4d1c-e7c9-b0aa2c56e2c7"
      },
      "execution_count": null,
      "outputs": [
        {
          "output_type": "stream",
          "name": "stdout",
          "text": [
            "[1, 2, 3]\n"
          ]
        }
      ]
    },
    {
      "cell_type": "code",
      "source": [
        "print(type(list1))"
      ],
      "metadata": {
        "colab": {
          "base_uri": "https://localhost:8080/"
        },
        "id": "kCiyYPQUbPmy",
        "outputId": "62b3083a-2f89-4953-d985-63b28af0a4a3"
      },
      "execution_count": null,
      "outputs": [
        {
          "output_type": "stream",
          "name": "stdout",
          "text": [
            "<class 'list'>\n"
          ]
        }
      ]
    },
    {
      "cell_type": "code",
      "source": [
        "subjects = [\"Python\",\"Data Visulization\", \"ML\",\"AI\"]\n",
        "print(type(subjects))"
      ],
      "metadata": {
        "colab": {
          "base_uri": "https://localhost:8080/"
        },
        "id": "s-RjNr4ybSTk",
        "outputId": "a1588c95-97d4-4d87-ff41-b3b8a616b0c0"
      },
      "execution_count": null,
      "outputs": [
        {
          "output_type": "stream",
          "name": "stdout",
          "text": [
            "<class 'list'>\n"
          ]
        }
      ]
    },
    {
      "cell_type": "code",
      "source": [
        "list2 = [10, 32.5, \"Python\", True]\n",
        "print(list2)\n",
        "print(type(list2))"
      ],
      "metadata": {
        "colab": {
          "base_uri": "https://localhost:8080/"
        },
        "id": "X5ENyNJ5bgpZ",
        "outputId": "4f0364de-6ba3-4991-8856-e9dd6c594f8d"
      },
      "execution_count": null,
      "outputs": [
        {
          "output_type": "stream",
          "name": "stdout",
          "text": [
            "[10, 32.5, 'Python', True]\n",
            "<class 'list'>\n"
          ]
        }
      ]
    },
    {
      "cell_type": "code",
      "source": [
        "list3 = list([3,7,9])\n",
        "print(list3)\n",
        "print(type(list3))"
      ],
      "metadata": {
        "colab": {
          "base_uri": "https://localhost:8080/"
        },
        "id": "TkpAErM4btZB",
        "outputId": "7dbe0a55-5a48-4d5e-df09-7ac19760b7e9"
      },
      "execution_count": null,
      "outputs": [
        {
          "output_type": "stream",
          "name": "stdout",
          "text": [
            "[3, 7, 9]\n",
            "<class 'list'>\n"
          ]
        }
      ]
    },
    {
      "cell_type": "code",
      "source": [
        "list4 = list(3,7,9)\n",
        "print(list4)\n",
        "print(type(list4))"
      ],
      "metadata": {
        "colab": {
          "base_uri": "https://localhost:8080/",
          "height": 176
        },
        "id": "aekJx5MiTFcp",
        "outputId": "55819c46-c9d5-4702-968c-77538d1ded89"
      },
      "execution_count": null,
      "outputs": [
        {
          "output_type": "error",
          "ename": "TypeError",
          "evalue": "list expected at most 1 argument, got 3",
          "traceback": [
            "\u001b[0;31m---------------------------------------------------------------------------\u001b[0m",
            "\u001b[0;31mTypeError\u001b[0m                                 Traceback (most recent call last)",
            "\u001b[0;32m<ipython-input-1-d41960f0b36d>\u001b[0m in \u001b[0;36m<cell line: 0>\u001b[0;34m()\u001b[0m\n\u001b[0;32m----> 1\u001b[0;31m \u001b[0mlist4\u001b[0m \u001b[0;34m=\u001b[0m \u001b[0mlist\u001b[0m\u001b[0;34m(\u001b[0m\u001b[0;36m3\u001b[0m\u001b[0;34m,\u001b[0m\u001b[0;36m7\u001b[0m\u001b[0;34m,\u001b[0m\u001b[0;36m9\u001b[0m\u001b[0;34m)\u001b[0m\u001b[0;34m\u001b[0m\u001b[0;34m\u001b[0m\u001b[0m\n\u001b[0m\u001b[1;32m      2\u001b[0m \u001b[0mprint\u001b[0m\u001b[0;34m(\u001b[0m\u001b[0mlist4\u001b[0m\u001b[0;34m)\u001b[0m\u001b[0;34m\u001b[0m\u001b[0;34m\u001b[0m\u001b[0m\n\u001b[1;32m      3\u001b[0m \u001b[0mprint\u001b[0m\u001b[0;34m(\u001b[0m\u001b[0mtype\u001b[0m\u001b[0;34m(\u001b[0m\u001b[0mlist4\u001b[0m\u001b[0;34m)\u001b[0m\u001b[0;34m)\u001b[0m\u001b[0;34m\u001b[0m\u001b[0;34m\u001b[0m\u001b[0m\n",
            "\u001b[0;31mTypeError\u001b[0m: list expected at most 1 argument, got 3"
          ]
        }
      ]
    },
    {
      "cell_type": "code",
      "source": [
        "list5 = list(4)\n",
        "print(list5)\n",
        "print(type(list5))"
      ],
      "metadata": {
        "colab": {
          "base_uri": "https://localhost:8080/",
          "height": 176
        },
        "id": "MUXCksweTXcJ",
        "outputId": "4d5ca9ab-dbde-46e2-ed7e-541b0cd5ac88"
      },
      "execution_count": null,
      "outputs": [
        {
          "output_type": "error",
          "ename": "TypeError",
          "evalue": "'int' object is not iterable",
          "traceback": [
            "\u001b[0;31m---------------------------------------------------------------------------\u001b[0m",
            "\u001b[0;31mTypeError\u001b[0m                                 Traceback (most recent call last)",
            "\u001b[0;32m<ipython-input-2-5fe9d6a021ba>\u001b[0m in \u001b[0;36m<cell line: 0>\u001b[0;34m()\u001b[0m\n\u001b[0;32m----> 1\u001b[0;31m \u001b[0mlist5\u001b[0m \u001b[0;34m=\u001b[0m \u001b[0mlist\u001b[0m\u001b[0;34m(\u001b[0m\u001b[0;36m4\u001b[0m\u001b[0;34m)\u001b[0m\u001b[0;34m\u001b[0m\u001b[0;34m\u001b[0m\u001b[0m\n\u001b[0m\u001b[1;32m      2\u001b[0m \u001b[0mprint\u001b[0m\u001b[0;34m(\u001b[0m\u001b[0mlist5\u001b[0m\u001b[0;34m)\u001b[0m\u001b[0;34m\u001b[0m\u001b[0;34m\u001b[0m\u001b[0m\n\u001b[1;32m      3\u001b[0m \u001b[0mprint\u001b[0m\u001b[0;34m(\u001b[0m\u001b[0mtype\u001b[0m\u001b[0;34m(\u001b[0m\u001b[0mlist5\u001b[0m\u001b[0;34m)\u001b[0m\u001b[0;34m)\u001b[0m\u001b[0;34m\u001b[0m\u001b[0;34m\u001b[0m\u001b[0m\n",
            "\u001b[0;31mTypeError\u001b[0m: 'int' object is not iterable"
          ]
        }
      ]
    },
    {
      "cell_type": "code",
      "source": [
        "list6 = list((1,2,3))\n",
        "print(list6)\n",
        "print(type(list6))"
      ],
      "metadata": {
        "colab": {
          "base_uri": "https://localhost:8080/"
        },
        "id": "JtmRFlLyUIAh",
        "outputId": "8dfe7845-2d95-4017-e9c0-11fcdfba3259"
      },
      "execution_count": null,
      "outputs": [
        {
          "output_type": "stream",
          "name": "stdout",
          "text": [
            "[1, 2, 3]\n",
            "<class 'list'>\n"
          ]
        }
      ]
    },
    {
      "cell_type": "code",
      "source": [
        "l = list()\n",
        "print(type(l))\n",
        "print(l)"
      ],
      "metadata": {
        "colab": {
          "base_uri": "https://localhost:8080/"
        },
        "id": "RKaS_3TM3Uhm",
        "outputId": "8e09c09a-ae2f-4a67-8bae-c9ed4faf8bd9"
      },
      "execution_count": null,
      "outputs": [
        {
          "output_type": "stream",
          "name": "stdout",
          "text": [
            "<class 'list'>\n",
            "[]\n"
          ]
        }
      ]
    },
    {
      "cell_type": "code",
      "source": [
        "L = []\n",
        "print(L)\n",
        "print(type(L))"
      ],
      "metadata": {
        "colab": {
          "base_uri": "https://localhost:8080/"
        },
        "id": "oflMjVIF3T2m",
        "outputId": "7bcbe942-0054-41fd-9f50-9d40377b40c0"
      },
      "execution_count": null,
      "outputs": [
        {
          "output_type": "stream",
          "name": "stdout",
          "text": [
            "[]\n",
            "<class 'list'>\n"
          ]
        }
      ]
    },
    {
      "cell_type": "markdown",
      "source": [
        "# Indexing - To retrive single value from list data\n",
        "Types\n",
        "1. Forward Indexing\n",
        "2. Reverse Indexing"
      ],
      "metadata": {
        "id": "Qz2iRXgFcL5m"
      }
    },
    {
      "cell_type": "code",
      "source": [
        "l = [1,2,3,4,5,6,7,8,9,10]\n",
        "print(type(l))\n",
        "print(l)"
      ],
      "metadata": {
        "colab": {
          "base_uri": "https://localhost:8080/"
        },
        "id": "Y0Zexvg7cDN9",
        "outputId": "8ff2c3a0-1059-4861-f6b0-710814c2cc2d"
      },
      "execution_count": null,
      "outputs": [
        {
          "output_type": "stream",
          "name": "stdout",
          "text": [
            "<class 'list'>\n",
            "[1, 2, 3, 4, 5, 6, 7, 8, 9, 10]\n"
          ]
        }
      ]
    },
    {
      "cell_type": "code",
      "source": [
        "print(l[0])"
      ],
      "metadata": {
        "colab": {
          "base_uri": "https://localhost:8080/"
        },
        "id": "yo5o-7RBduUA",
        "outputId": "1272253e-101c-49fb-b942-203733ada7d7"
      },
      "execution_count": null,
      "outputs": [
        {
          "output_type": "stream",
          "name": "stdout",
          "text": [
            "1\n"
          ]
        }
      ]
    },
    {
      "cell_type": "code",
      "source": [
        "print(l[3])"
      ],
      "metadata": {
        "colab": {
          "base_uri": "https://localhost:8080/"
        },
        "id": "mqB9JJwId0Ba",
        "outputId": "217b5e8f-4ea8-4667-8193-d7e983c80653"
      },
      "execution_count": null,
      "outputs": [
        {
          "output_type": "stream",
          "name": "stdout",
          "text": [
            "4\n"
          ]
        }
      ]
    },
    {
      "cell_type": "code",
      "source": [
        "print(l[-10])"
      ],
      "metadata": {
        "colab": {
          "base_uri": "https://localhost:8080/"
        },
        "id": "zAh-hbyWd_Ne",
        "outputId": "feb10ba7-e7ba-40a1-f3e4-74660ccd2f28"
      },
      "execution_count": null,
      "outputs": [
        {
          "output_type": "stream",
          "name": "stdout",
          "text": [
            "1\n"
          ]
        }
      ]
    },
    {
      "cell_type": "code",
      "source": [
        "print(l[-9])"
      ],
      "metadata": {
        "colab": {
          "base_uri": "https://localhost:8080/"
        },
        "id": "_7rDz8cnemJa",
        "outputId": "fca578c8-2773-4182-cba0-84738ff7b072"
      },
      "execution_count": null,
      "outputs": [
        {
          "output_type": "stream",
          "name": "stdout",
          "text": [
            "2\n"
          ]
        }
      ]
    },
    {
      "cell_type": "code",
      "source": [
        "print(l[-1])"
      ],
      "metadata": {
        "colab": {
          "base_uri": "https://localhost:8080/"
        },
        "id": "Vatje5P5etLz",
        "outputId": "466b5379-1eaa-4535-dbd3-8fda806a60d0"
      },
      "execution_count": null,
      "outputs": [
        {
          "output_type": "stream",
          "name": "stdout",
          "text": [
            "10\n"
          ]
        }
      ]
    },
    {
      "cell_type": "markdown",
      "source": [
        "- List is mutable data type so we can perform insert, update, dalete operation"
      ],
      "metadata": {
        "id": "6g-THwDWNStv"
      }
    },
    {
      "cell_type": "code",
      "source": [
        "l = [1,2,3,5]\n",
        "print(l)\n",
        "print(type(l))"
      ],
      "metadata": {
        "id": "AN-8kTb0ewFq",
        "colab": {
          "base_uri": "https://localhost:8080/"
        },
        "outputId": "d5c9ec6c-4bfb-4df0-9f55-e9f2bbe3a6d6"
      },
      "execution_count": null,
      "outputs": [
        {
          "output_type": "stream",
          "name": "stdout",
          "text": [
            "[1, 2, 3, 5]\n",
            "<class 'list'>\n"
          ]
        }
      ]
    },
    {
      "cell_type": "code",
      "source": [
        "l.append(100)\n",
        "print(l)"
      ],
      "metadata": {
        "colab": {
          "base_uri": "https://localhost:8080/"
        },
        "id": "QDc9OgIxNl-X",
        "outputId": "b7c0c9b4-3541-4b89-a6fd-aa61784cf50e"
      },
      "execution_count": null,
      "outputs": [
        {
          "output_type": "stream",
          "name": "stdout",
          "text": [
            "[1, 2, 3, 5, 100]\n"
          ]
        }
      ]
    },
    {
      "cell_type": "code",
      "source": [
        "l1 = [1000,2000]\n",
        "l1.append(\"Maya\")\n",
        "print(l1)"
      ],
      "metadata": {
        "colab": {
          "base_uri": "https://localhost:8080/"
        },
        "id": "KNPlP0Ap4GN2",
        "outputId": "9fdfb26a-d20e-4247-ba31-6e0d1e623c7d"
      },
      "execution_count": 1,
      "outputs": [
        {
          "output_type": "stream",
          "name": "stdout",
          "text": [
            "[1000, 2000, 'Maya']\n"
          ]
        }
      ]
    },
    {
      "cell_type": "code",
      "source": [
        "# In list append() method, whatever value we pass in method it will became one single object\n",
        "l_new = [1,2,3,5]\n",
        "l_new.append([100,200])\n",
        "l_new.append([100])\n",
        "l_new.append(100)\n",
        "print(l_new)\n"
      ],
      "metadata": {
        "colab": {
          "base_uri": "https://localhost:8080/"
        },
        "id": "1aau7s-eUtmw",
        "outputId": "3cd78e49-6a6a-494b-fb12-46b5e02af1af"
      },
      "execution_count": null,
      "outputs": [
        {
          "output_type": "stream",
          "name": "stdout",
          "text": [
            "[1, 2, 3, 5, [100, 200], [100], 100]\n"
          ]
        }
      ]
    },
    {
      "cell_type": "code",
      "source": [
        "l.append(7,8)\n",
        "print(l)"
      ],
      "metadata": {
        "colab": {
          "base_uri": "https://localhost:8080/",
          "height": 158
        },
        "id": "9ZS56NZjsV81",
        "outputId": "0649994e-811e-483a-9484-439e0ce31787"
      },
      "execution_count": null,
      "outputs": [
        {
          "output_type": "error",
          "ename": "TypeError",
          "evalue": "list.append() takes exactly one argument (2 given)",
          "traceback": [
            "\u001b[0;31m---------------------------------------------------------------------------\u001b[0m",
            "\u001b[0;31mTypeError\u001b[0m                                 Traceback (most recent call last)",
            "\u001b[0;32m<ipython-input-12-3bbe02126eac>\u001b[0m in \u001b[0;36m<cell line: 0>\u001b[0;34m()\u001b[0m\n\u001b[0;32m----> 1\u001b[0;31m \u001b[0ml\u001b[0m\u001b[0;34m.\u001b[0m\u001b[0mappend\u001b[0m\u001b[0;34m(\u001b[0m\u001b[0;36m7\u001b[0m\u001b[0;34m,\u001b[0m\u001b[0;36m8\u001b[0m\u001b[0;34m)\u001b[0m\u001b[0;34m\u001b[0m\u001b[0;34m\u001b[0m\u001b[0m\n\u001b[0m\u001b[1;32m      2\u001b[0m \u001b[0mprint\u001b[0m\u001b[0;34m(\u001b[0m\u001b[0ml\u001b[0m\u001b[0;34m)\u001b[0m\u001b[0;34m\u001b[0m\u001b[0;34m\u001b[0m\u001b[0m\n",
            "\u001b[0;31mTypeError\u001b[0m: list.append() takes exactly one argument (2 given)"
          ]
        }
      ]
    },
    {
      "cell_type": "code",
      "source": [
        "l.append([7,8])\n",
        "print(l)"
      ],
      "metadata": {
        "colab": {
          "base_uri": "https://localhost:8080/"
        },
        "id": "J9xN2Bxh4kIl",
        "outputId": "80311077-2290-44f7-cb06-c007ff2362e6"
      },
      "execution_count": null,
      "outputs": [
        {
          "output_type": "stream",
          "name": "stdout",
          "text": [
            "[1, 2, 3, 5, 100, [7, 8]]\n"
          ]
        }
      ]
    },
    {
      "cell_type": "code",
      "source": [
        "del l[-1]\n",
        "print(l)"
      ],
      "metadata": {
        "colab": {
          "base_uri": "https://localhost:8080/"
        },
        "id": "3W2DfLtq4vI7",
        "outputId": "8850314b-2ec4-478b-d2f0-8cd320a3115d"
      },
      "execution_count": null,
      "outputs": [
        {
          "output_type": "stream",
          "name": "stdout",
          "text": [
            "[1, 2, 3, 5, 100]\n"
          ]
        }
      ]
    },
    {
      "cell_type": "code",
      "source": [
        "l.insert(500)\n",
        "print(l)"
      ],
      "metadata": {
        "colab": {
          "base_uri": "https://localhost:8080/",
          "height": 158
        },
        "id": "tSZtIjoaNsOO",
        "outputId": "a90d81a6-8b93-4113-af91-6b57df6ddc32"
      },
      "execution_count": null,
      "outputs": [
        {
          "output_type": "error",
          "ename": "TypeError",
          "evalue": "insert expected 2 arguments, got 1",
          "traceback": [
            "\u001b[0;31m---------------------------------------------------------------------------\u001b[0m",
            "\u001b[0;31mTypeError\u001b[0m                                 Traceback (most recent call last)",
            "\u001b[0;32m<ipython-input-3-8f42759b25cf>\u001b[0m in \u001b[0;36m<cell line: 0>\u001b[0;34m()\u001b[0m\n\u001b[0;32m----> 1\u001b[0;31m \u001b[0ml\u001b[0m\u001b[0;34m.\u001b[0m\u001b[0minsert\u001b[0m\u001b[0;34m(\u001b[0m\u001b[0;36m500\u001b[0m\u001b[0;34m)\u001b[0m\u001b[0;34m\u001b[0m\u001b[0;34m\u001b[0m\u001b[0m\n\u001b[0m\u001b[1;32m      2\u001b[0m \u001b[0mprint\u001b[0m\u001b[0;34m(\u001b[0m\u001b[0ml\u001b[0m\u001b[0;34m)\u001b[0m\u001b[0;34m\u001b[0m\u001b[0;34m\u001b[0m\u001b[0m\n",
            "\u001b[0;31mTypeError\u001b[0m: insert expected 2 arguments, got 1"
          ]
        }
      ]
    },
    {
      "cell_type": "code",
      "source": [
        "l.insert(2,500)\n",
        "print(l)"
      ],
      "metadata": {
        "colab": {
          "base_uri": "https://localhost:8080/"
        },
        "id": "2wyMy6z_N1VA",
        "outputId": "35612431-8104-44bc-db71-20c51026b255"
      },
      "execution_count": null,
      "outputs": [
        {
          "output_type": "stream",
          "name": "stdout",
          "text": [
            "[1, 2, 500, 3, 5, 100]\n"
          ]
        }
      ]
    },
    {
      "cell_type": "code",
      "source": [
        "l.insert(-1,600)\n",
        "print(l)"
      ],
      "metadata": {
        "colab": {
          "base_uri": "https://localhost:8080/"
        },
        "id": "p4SW1v_JOTLT",
        "outputId": "6d595b31-93a3-4bf9-cdda-16fd139fc123"
      },
      "execution_count": null,
      "outputs": [
        {
          "output_type": "stream",
          "name": "stdout",
          "text": [
            "[1, 2, 500, 3, 5, 600, 100]\n"
          ]
        }
      ]
    },
    {
      "cell_type": "code",
      "source": [
        "l_next = [1,5,99,100]\n",
        "l_next.insert(0,l_next)\n",
        "print(l_next)"
      ],
      "metadata": {
        "colab": {
          "base_uri": "https://localhost:8080/"
        },
        "id": "zJCxpEzPVzsv",
        "outputId": "e404589b-4eca-4273-8447-5b9cd3ad6331"
      },
      "execution_count": null,
      "outputs": [
        {
          "output_type": "stream",
          "name": "stdout",
          "text": [
            "[[...], 1, 5, 99, 100]\n"
          ]
        }
      ]
    },
    {
      "cell_type": "code",
      "source": [
        "l_next2 = [1,5,99,51,12]\n",
        "l_next2.insert(-1,[5,6])\n",
        "print(l_next2)"
      ],
      "metadata": {
        "colab": {
          "base_uri": "https://localhost:8080/"
        },
        "id": "3IlJh_E1WSlX",
        "outputId": "ae95a739-75a5-4217-9cf9-caad6b28b1fe"
      },
      "execution_count": null,
      "outputs": [
        {
          "output_type": "stream",
          "name": "stdout",
          "text": [
            "[1, 5, 99, 51, [5, 6], 12]\n"
          ]
        }
      ]
    },
    {
      "cell_type": "code",
      "source": [
        "l[5] = 'Python'  # Use for replace\n",
        "print(l)"
      ],
      "metadata": {
        "colab": {
          "base_uri": "https://localhost:8080/"
        },
        "id": "XKgDpphzOifH",
        "outputId": "49e75698-c9cc-4a17-b4ae-eebac3861ac0"
      },
      "execution_count": null,
      "outputs": [
        {
          "output_type": "stream",
          "name": "stdout",
          "text": [
            "[1, 2, 500, 3, 5, 'Python', 100]\n"
          ]
        }
      ]
    },
    {
      "cell_type": "code",
      "source": [
        "l.extend(1000) # 1000 is not iterable but if we write [1000] then it's list, and list is iterable so it's work\n",
        "print(l)"
      ],
      "metadata": {
        "colab": {
          "base_uri": "https://localhost:8080/",
          "height": 158
        },
        "id": "XtC6_v7LOtwz",
        "outputId": "c3b8d20a-0795-43ad-a778-aa610b4fba5f"
      },
      "execution_count": null,
      "outputs": [
        {
          "output_type": "error",
          "ename": "TypeError",
          "evalue": "'int' object is not iterable",
          "traceback": [
            "\u001b[0;31m---------------------------------------------------------------------------\u001b[0m",
            "\u001b[0;31mTypeError\u001b[0m                                 Traceback (most recent call last)",
            "\u001b[0;32m<ipython-input-18-9964812bbc37>\u001b[0m in \u001b[0;36m<cell line: 0>\u001b[0;34m()\u001b[0m\n\u001b[0;32m----> 1\u001b[0;31m \u001b[0ml\u001b[0m\u001b[0;34m.\u001b[0m\u001b[0mextend\u001b[0m\u001b[0;34m(\u001b[0m\u001b[0;36m1000\u001b[0m\u001b[0;34m)\u001b[0m \u001b[0;31m# 1000 is not iterable but if we write [1000] then it's list, and list is iterable so it's work\u001b[0m\u001b[0;34m\u001b[0m\u001b[0;34m\u001b[0m\u001b[0m\n\u001b[0m\u001b[1;32m      2\u001b[0m \u001b[0mprint\u001b[0m\u001b[0;34m(\u001b[0m\u001b[0ml\u001b[0m\u001b[0;34m)\u001b[0m\u001b[0;34m\u001b[0m\u001b[0;34m\u001b[0m\u001b[0m\n",
            "\u001b[0;31mTypeError\u001b[0m: 'int' object is not iterable"
          ]
        }
      ]
    },
    {
      "cell_type": "markdown",
      "source": [
        "# Note:\n",
        "- What is differnce between Append() and extend() method\n",
        "  - In append() and extend() both use in list for add element but the main difference is that, the object that we pass in extend() should be iterable\n",
        "      - Ex: l.append(100) # VALID\n",
        "      - Ex: l.extend(100) # NOT VALID\n",
        "      - above example of extend, 100 is not iterable but if pass [100] so it become list and it's iterable. i.e.: l.extend([100])\n",
        "  - In append() and extend(), both the case we have to pass only one argument."
      ],
      "metadata": {
        "id": "_Nj1YVEd4pBl"
      }
    },
    {
      "cell_type": "code",
      "source": [
        "l.extend('Java') # it should be iterable, here 'Java' is iterable\n",
        "print(l)"
      ],
      "metadata": {
        "colab": {
          "base_uri": "https://localhost:8080/"
        },
        "id": "RAZMUH3wPC4O",
        "outputId": "4b36d2ef-bc71-4011-ea52-b03ed7ab756d"
      },
      "execution_count": null,
      "outputs": [
        {
          "output_type": "stream",
          "name": "stdout",
          "text": [
            "[1, 2, 500, 3, 5, 'Python', 100, 'J', 'a', 'v', 'a']\n"
          ]
        }
      ]
    },
    {
      "cell_type": "code",
      "source": [
        "#Interview question\n",
        "# what is difference between extend, append and insert\n",
        "# what is difference between list and tuple\n"
      ],
      "metadata": {
        "id": "NMEaLZkLPXNv"
      },
      "execution_count": null,
      "outputs": []
    },
    {
      "cell_type": "code",
      "source": [
        "l.extend([-1,-2,-3])\n",
        "print(l)"
      ],
      "metadata": {
        "colab": {
          "base_uri": "https://localhost:8080/"
        },
        "id": "8aGM8-yQQHjM",
        "outputId": "5af7b0ed-1900-4f68-fd2e-51f468aae6dc"
      },
      "execution_count": null,
      "outputs": [
        {
          "output_type": "stream",
          "name": "stdout",
          "text": [
            "[1, 2, 500, 3, 5, 'Python', 100, 'J', 'a', 'v', 'a', -1, -2, -3]\n"
          ]
        }
      ]
    },
    {
      "cell_type": "code",
      "source": [
        "l.extend(1,2,6)\n",
        "print(l)"
      ],
      "metadata": {
        "colab": {
          "base_uri": "https://localhost:8080/",
          "height": 158
        },
        "id": "dZDA74nM6e7b",
        "outputId": "0a1c598d-fafd-4f10-a547-7bb82de30128"
      },
      "execution_count": null,
      "outputs": [
        {
          "output_type": "error",
          "ename": "TypeError",
          "evalue": "list.extend() takes exactly one argument (3 given)",
          "traceback": [
            "\u001b[0;31m---------------------------------------------------------------------------\u001b[0m",
            "\u001b[0;31mTypeError\u001b[0m                                 Traceback (most recent call last)",
            "\u001b[0;32m<ipython-input-21-3e8815ed4556>\u001b[0m in \u001b[0;36m<cell line: 0>\u001b[0;34m()\u001b[0m\n\u001b[0;32m----> 1\u001b[0;31m \u001b[0ml\u001b[0m\u001b[0;34m.\u001b[0m\u001b[0mextend\u001b[0m\u001b[0;34m(\u001b[0m\u001b[0;36m1\u001b[0m\u001b[0;34m,\u001b[0m\u001b[0;36m2\u001b[0m\u001b[0;34m,\u001b[0m\u001b[0;36m6\u001b[0m\u001b[0;34m)\u001b[0m\u001b[0;34m\u001b[0m\u001b[0;34m\u001b[0m\u001b[0m\n\u001b[0m\u001b[1;32m      2\u001b[0m \u001b[0mprint\u001b[0m\u001b[0;34m(\u001b[0m\u001b[0ml\u001b[0m\u001b[0;34m)\u001b[0m\u001b[0;34m\u001b[0m\u001b[0;34m\u001b[0m\u001b[0m\n",
            "\u001b[0;31mTypeError\u001b[0m: list.extend() takes exactly one argument (3 given)"
          ]
        }
      ]
    },
    {
      "cell_type": "code",
      "source": [
        "l.pop()"
      ],
      "metadata": {
        "colab": {
          "base_uri": "https://localhost:8080/"
        },
        "id": "1w24DDCXQOEt",
        "outputId": "8323a680-7482-45ff-b7d4-2d6b6c5c838a"
      },
      "execution_count": null,
      "outputs": [
        {
          "output_type": "execute_result",
          "data": {
            "text/plain": [
              "-3"
            ]
          },
          "metadata": {},
          "execution_count": 10
        }
      ]
    },
    {
      "cell_type": "code",
      "source": [
        "print(l)"
      ],
      "metadata": {
        "colab": {
          "base_uri": "https://localhost:8080/"
        },
        "id": "nMMgD2l3QWir",
        "outputId": "ef203ca0-d940-408c-ba98-9c1c43f0d43f"
      },
      "execution_count": null,
      "outputs": [
        {
          "output_type": "stream",
          "name": "stdout",
          "text": [
            "[1, 2, 500, 3, 5, 'Python', 100, 'J', 'a', 'v', 'a', -1, -2]\n"
          ]
        }
      ]
    },
    {
      "cell_type": "code",
      "source": [
        "l.reverse()\n",
        "print(l)"
      ],
      "metadata": {
        "colab": {
          "base_uri": "https://localhost:8080/"
        },
        "id": "EAYvjp1fQbYH",
        "outputId": "59acd2d9-8e35-4fc2-c749-57534d1c9782"
      },
      "execution_count": null,
      "outputs": [
        {
          "output_type": "stream",
          "name": "stdout",
          "text": [
            "[-2, -1, 'a', 'v', 'a', 'J', 100, 'Python', 5, 3, 500, 2, 1]\n"
          ]
        }
      ]
    },
    {
      "cell_type": "code",
      "source": [
        "l.sort()\n",
        "print(l)"
      ],
      "metadata": {
        "colab": {
          "base_uri": "https://localhost:8080/",
          "height": 158
        },
        "id": "UkvQblR0QhoH",
        "outputId": "6bfa8dcd-a539-4660-c4b8-cad45cde8304"
      },
      "execution_count": null,
      "outputs": [
        {
          "output_type": "error",
          "ename": "TypeError",
          "evalue": "'<' not supported between instances of 'str' and 'int'",
          "traceback": [
            "\u001b[0;31m---------------------------------------------------------------------------\u001b[0m",
            "\u001b[0;31mTypeError\u001b[0m                                 Traceback (most recent call last)",
            "\u001b[0;32m<ipython-input-16-da7d2f4828a2>\u001b[0m in \u001b[0;36m<cell line: 0>\u001b[0;34m()\u001b[0m\n\u001b[0;32m----> 1\u001b[0;31m \u001b[0ml\u001b[0m\u001b[0;34m.\u001b[0m\u001b[0msort\u001b[0m\u001b[0;34m(\u001b[0m\u001b[0;34m)\u001b[0m\u001b[0;34m\u001b[0m\u001b[0;34m\u001b[0m\u001b[0m\n\u001b[0m\u001b[1;32m      2\u001b[0m \u001b[0mprint\u001b[0m\u001b[0;34m(\u001b[0m\u001b[0ml\u001b[0m\u001b[0;34m)\u001b[0m\u001b[0;34m\u001b[0m\u001b[0;34m\u001b[0m\u001b[0m\n",
            "\u001b[0;31mTypeError\u001b[0m: '<' not supported between instances of 'str' and 'int'"
          ]
        }
      ]
    },
    {
      "cell_type": "code",
      "source": [
        "l1 = [-100,-55,56,3,100,500,-7]\n",
        "l1.sort() # How to sort accending order\n",
        "print(l1)"
      ],
      "metadata": {
        "colab": {
          "base_uri": "https://localhost:8080/"
        },
        "id": "LrPpfQfvQ14U",
        "outputId": "e56c544d-8712-4703-b834-869e85800614"
      },
      "execution_count": null,
      "outputs": [
        {
          "output_type": "stream",
          "name": "stdout",
          "text": [
            "[-100, -55, -7, 3, 56, 100, 500]\n"
          ]
        }
      ]
    },
    {
      "cell_type": "code",
      "source": [
        "l1.sort(reverse=True) #How to sort reverse of order\n",
        "print(l1)"
      ],
      "metadata": {
        "colab": {
          "base_uri": "https://localhost:8080/"
        },
        "id": "Z-QP0wS-RSbS",
        "outputId": "6f6032d3-97c4-4603-968f-375c41f61547"
      },
      "execution_count": null,
      "outputs": [
        {
          "output_type": "stream",
          "name": "stdout",
          "text": [
            "[500, 100, 56, 3, -7, -55, -100]\n"
          ]
        }
      ]
    },
    {
      "cell_type": "code",
      "source": [
        "l1.remove(-7)\n",
        "print(l1)"
      ],
      "metadata": {
        "colab": {
          "base_uri": "https://localhost:8080/"
        },
        "id": "w900e49BRd9B",
        "outputId": "5b4cf3dd-7113-4361-ce8c-2caa9d2b76f1"
      },
      "execution_count": null,
      "outputs": [
        {
          "output_type": "stream",
          "name": "stdout",
          "text": [
            "[500, 100, 56, 3, -55, -100]\n"
          ]
        }
      ]
    },
    {
      "cell_type": "code",
      "source": [
        "x1 = [1,2,2,4,5,4,6,4,7,8,9,4,5,2,4]\n",
        "print(x1.count(4))\n",
        "x1.replace(4,100)\n",
        "print(x1)"
      ],
      "metadata": {
        "colab": {
          "base_uri": "https://localhost:8080/",
          "height": 211
        },
        "id": "Cpl2aeHyipmR",
        "outputId": "846c765e-1b5c-45bc-f31b-0fc1c2eb8707"
      },
      "execution_count": 2,
      "outputs": [
        {
          "output_type": "stream",
          "name": "stdout",
          "text": [
            "5\n"
          ]
        },
        {
          "output_type": "error",
          "ename": "AttributeError",
          "evalue": "'list' object has no attribute 'replace'",
          "traceback": [
            "\u001b[0;31m---------------------------------------------------------------------------\u001b[0m",
            "\u001b[0;31mAttributeError\u001b[0m                            Traceback (most recent call last)",
            "\u001b[0;32m/tmp/ipython-input-2-3631476618.py\u001b[0m in \u001b[0;36m<cell line: 0>\u001b[0;34m()\u001b[0m\n\u001b[1;32m      1\u001b[0m \u001b[0mx1\u001b[0m \u001b[0;34m=\u001b[0m \u001b[0;34m[\u001b[0m\u001b[0;36m1\u001b[0m\u001b[0;34m,\u001b[0m\u001b[0;36m2\u001b[0m\u001b[0;34m,\u001b[0m\u001b[0;36m2\u001b[0m\u001b[0;34m,\u001b[0m\u001b[0;36m4\u001b[0m\u001b[0;34m,\u001b[0m\u001b[0;36m5\u001b[0m\u001b[0;34m,\u001b[0m\u001b[0;36m4\u001b[0m\u001b[0;34m,\u001b[0m\u001b[0;36m6\u001b[0m\u001b[0;34m,\u001b[0m\u001b[0;36m4\u001b[0m\u001b[0;34m,\u001b[0m\u001b[0;36m7\u001b[0m\u001b[0;34m,\u001b[0m\u001b[0;36m8\u001b[0m\u001b[0;34m,\u001b[0m\u001b[0;36m9\u001b[0m\u001b[0;34m,\u001b[0m\u001b[0;36m4\u001b[0m\u001b[0;34m,\u001b[0m\u001b[0;36m5\u001b[0m\u001b[0;34m,\u001b[0m\u001b[0;36m2\u001b[0m\u001b[0;34m,\u001b[0m\u001b[0;36m4\u001b[0m\u001b[0;34m]\u001b[0m\u001b[0;34m\u001b[0m\u001b[0;34m\u001b[0m\u001b[0m\n\u001b[1;32m      2\u001b[0m \u001b[0mprint\u001b[0m\u001b[0;34m(\u001b[0m\u001b[0mx1\u001b[0m\u001b[0;34m.\u001b[0m\u001b[0mcount\u001b[0m\u001b[0;34m(\u001b[0m\u001b[0;36m4\u001b[0m\u001b[0;34m)\u001b[0m\u001b[0;34m)\u001b[0m\u001b[0;34m\u001b[0m\u001b[0;34m\u001b[0m\u001b[0m\n\u001b[0;32m----> 3\u001b[0;31m \u001b[0mx1\u001b[0m\u001b[0;34m.\u001b[0m\u001b[0mreplace\u001b[0m\u001b[0;34m(\u001b[0m\u001b[0;36m4\u001b[0m\u001b[0;34m,\u001b[0m\u001b[0;36m100\u001b[0m\u001b[0;34m)\u001b[0m\u001b[0;34m\u001b[0m\u001b[0;34m\u001b[0m\u001b[0m\n\u001b[0m\u001b[1;32m      4\u001b[0m \u001b[0mprint\u001b[0m\u001b[0;34m(\u001b[0m\u001b[0mx1\u001b[0m\u001b[0;34m)\u001b[0m\u001b[0;34m\u001b[0m\u001b[0;34m\u001b[0m\u001b[0m\n",
            "\u001b[0;31mAttributeError\u001b[0m: 'list' object has no attribute 'replace'"
          ]
        }
      ]
    },
    {
      "cell_type": "code",
      "source": [
        "x = [1,5,3,14,56,99,52,100,200,199,55,51,52,42]\n",
        "print(x)\n",
        "x.remove(3)   # Here 3 is element in x\n",
        "print(x)\n",
        "x.pop()\n",
        "print(x)\n",
        "del x[3]      # Here 3 is index in X\n",
        "print(x)\n",
        "del x[1:4]\n",
        "print(x)\n",
        "del x  # Entire object is deleted\n",
        "print(x)"
      ],
      "metadata": {
        "colab": {
          "base_uri": "https://localhost:8080/",
          "height": 263
        },
        "id": "cUZtx8zqX7KE",
        "outputId": "37f7d8d8-0f0a-4b1a-c1ba-ba25b72f437a"
      },
      "execution_count": null,
      "outputs": [
        {
          "output_type": "stream",
          "name": "stdout",
          "text": [
            "[1, 5, 3, 14, 56, 99, 52, 100, 200, 199, 55, 51, 52, 42]\n",
            "[1, 5, 14, 56, 99, 52, 100, 200, 199, 55, 51, 52, 42]\n",
            "[1, 5, 14, 56, 99, 52, 100, 200, 199, 55, 51, 52]\n",
            "[1, 5, 14, 99, 52, 100, 200, 199, 55, 51, 52]\n",
            "[1, 52, 100, 200, 199, 55, 51, 52]\n"
          ]
        },
        {
          "output_type": "error",
          "ename": "NameError",
          "evalue": "name 'x' is not defined",
          "traceback": [
            "\u001b[0;31m---------------------------------------------------------------------------\u001b[0m",
            "\u001b[0;31mNameError\u001b[0m                                 Traceback (most recent call last)",
            "\u001b[0;32m<ipython-input-1-1112ac9b8ee0>\u001b[0m in \u001b[0;36m<cell line: 0>\u001b[0;34m()\u001b[0m\n\u001b[1;32m     10\u001b[0m \u001b[0mprint\u001b[0m\u001b[0;34m(\u001b[0m\u001b[0mx\u001b[0m\u001b[0;34m)\u001b[0m\u001b[0;34m\u001b[0m\u001b[0;34m\u001b[0m\u001b[0m\n\u001b[1;32m     11\u001b[0m \u001b[0;32mdel\u001b[0m \u001b[0mx\u001b[0m\u001b[0;34m\u001b[0m\u001b[0;34m\u001b[0m\u001b[0m\n\u001b[0;32m---> 12\u001b[0;31m \u001b[0mprint\u001b[0m\u001b[0;34m(\u001b[0m\u001b[0mx\u001b[0m\u001b[0;34m)\u001b[0m\u001b[0;34m\u001b[0m\u001b[0;34m\u001b[0m\u001b[0m\n\u001b[0m",
            "\u001b[0;31mNameError\u001b[0m: name 'x' is not defined"
          ]
        }
      ]
    },
    {
      "cell_type": "code",
      "source": [
        "x1 = [1,6,77,34,65]\n",
        "print(x1)\n",
        "x1.clear()\n",
        "print(x1)"
      ],
      "metadata": {
        "colab": {
          "base_uri": "https://localhost:8080/"
        },
        "id": "Un-LSBe9Zh53",
        "outputId": "347cdf5d-bf89-4442-d4f2-64db688bf046"
      },
      "execution_count": null,
      "outputs": [
        {
          "output_type": "stream",
          "name": "stdout",
          "text": [
            "[1, 6, 77, 34, 65]\n",
            "[]\n"
          ]
        }
      ]
    },
    {
      "cell_type": "code",
      "source": [
        "# How to remove element from list using list comprehension\n",
        "my_list = [1, 2, 3, 4, 5]\n",
        "new_list = [x for x in my_list if x != 3]  # Removes all occurrences of '3'\n",
        "print(new_list)  # Output: [1, 2, 4, 5]"
      ],
      "metadata": {
        "colab": {
          "base_uri": "https://localhost:8080/"
        },
        "id": "gxtRAcnqbqc8",
        "outputId": "c99e5c1a-8654-4a6a-9c46-5b452608bbc3"
      },
      "execution_count": null,
      "outputs": [
        {
          "output_type": "stream",
          "name": "stdout",
          "text": [
            "[1, 2, 4, 5]\n"
          ]
        }
      ]
    },
    {
      "cell_type": "code",
      "source": [
        "l1.extend([1000])\n",
        "print(l1)"
      ],
      "metadata": {
        "colab": {
          "base_uri": "https://localhost:8080/"
        },
        "id": "RG04TafXR0Ch",
        "outputId": "93200e12-358d-48eb-986d-9584514f6c55"
      },
      "execution_count": null,
      "outputs": [
        {
          "output_type": "stream",
          "name": "stdout",
          "text": [
            "[500, 100, 56, 3, -55, -100, 1000]\n"
          ]
        }
      ]
    },
    {
      "cell_type": "code",
      "source": [
        "L = [1,2,3,44,45,67,78,98,99]\n",
        "print(L.pop())\n",
        "print(L)\n",
        "print(L.pop(2))\n",
        "print(L)"
      ],
      "metadata": {
        "colab": {
          "base_uri": "https://localhost:8080/"
        },
        "id": "7xSboDtGe_Us",
        "outputId": "97183e46-a912-4639-fb76-7e081ad24e40"
      },
      "execution_count": null,
      "outputs": [
        {
          "output_type": "stream",
          "name": "stdout",
          "text": [
            "99\n",
            "[1, 2, 3, 44, 45, 67, 78, 98]\n",
            "3\n",
            "[1, 2, 44, 45, 67, 78, 98]\n"
          ]
        }
      ]
    },
    {
      "cell_type": "markdown",
      "source": [
        "# Extra for practice"
      ],
      "metadata": {
        "id": "Ka6aoAquMIqt"
      }
    },
    {
      "cell_type": "markdown",
      "source": [
        "## Difference between sort() and sorted()\n",
        "\n",
        "### sort():\n",
        "- Method of lists: It is a method that is called directly on a list object.\n",
        "- In-place modification: It modifies the original list directly and does not return a new list. The original list is changed after the method is called.\n",
        "- Returns None: Because it modifies the list in-place, it returns None.\n",
        "- Limited to lists: sort() can only be used with list objects.\n",
        "- Memory efficient: It is more memory-efficient since it does not create a new list.\n",
        "\n",
        "\n",
        "### sorted():\n",
        "- Built-in function: It is a built-in Python function that can be used with any iterable (e.g., lists, tuples, strings, dictionaries).\n",
        "- Returns a new sorted list: It returns a new sorted list, leaving the original iterable unchanged.\n",
        "- Preserves original: The original iterable remains unmodified.\n",
        "- More versatile: Can be used with different types of iterables, not just lists.\n",
        "- Less memory efficient: It requires more memory since it creates a new list."
      ],
      "metadata": {
        "id": "1zLtnHPQMNP-"
      }
    },
    {
      "cell_type": "code",
      "source": [
        "L =[55,99,42,12,56,23,20]\n",
        "print(L.sort())\n",
        "# If you want to print list in reverse order : (L.sort(reverse=True))\n",
        "print(L)"
      ],
      "metadata": {
        "id": "eODTCyElX2dy",
        "colab": {
          "base_uri": "https://localhost:8080/"
        },
        "outputId": "4ee953c6-159c-4d23-befb-410fcf33117c"
      },
      "execution_count": null,
      "outputs": [
        {
          "output_type": "stream",
          "name": "stdout",
          "text": [
            "None\n",
            "[12, 20, 23, 42, 55, 56, 99]\n"
          ]
        }
      ]
    },
    {
      "cell_type": "code",
      "source": [
        "L1 = [45,12,48,32,20,9,10,19]\n",
        "L2= sorted(L1)\n",
        "print(L1)\n",
        "print(L2)"
      ],
      "metadata": {
        "colab": {
          "base_uri": "https://localhost:8080/"
        },
        "id": "wct69xF_NcIF",
        "outputId": "efcc1c62-e41a-48ba-846a-4ddfe05da445"
      },
      "execution_count": null,
      "outputs": [
        {
          "output_type": "stream",
          "name": "stdout",
          "text": [
            "[45, 12, 48, 32, 20, 9, 10, 19]\n",
            "[9, 10, 12, 19, 20, 32, 45, 48]\n"
          ]
        }
      ]
    },
    {
      "cell_type": "markdown",
      "source": [
        "## Difference between clear() and del statement\n",
        "\n",
        "### clear() Method:\n",
        "- Removes all elements from a list, making it an empty list.\n",
        "- The list object remains in memory, but its contents are erased.\n",
        "- Modifies the original list in place.\n",
        "- It does not return any value.\n",
        "- It is equivalent to del list[:].\n",
        "\n",
        "### del Statement:\n",
        "- Can delete specific elements or slices from a list using indexing.\n",
        "- Can also delete the entire list object from memory.\n",
        "- If used with slicing del list[:], it empties the list, similar to clear().\n",
        "- When deleting the entire list, it removes the reference to the list object, and it will no longer be accessible."
      ],
      "metadata": {
        "id": "f13-xSNdaP5M"
      }
    },
    {
      "cell_type": "code",
      "source": [],
      "metadata": {
        "id": "pH-TZMDcNzg6"
      },
      "execution_count": null,
      "outputs": []
    }
  ]
}