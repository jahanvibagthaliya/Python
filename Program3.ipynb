{
  "nbformat": 4,
  "nbformat_minor": 0,
  "metadata": {
    "colab": {
      "provenance": []
    },
    "kernelspec": {
      "name": "python3",
      "display_name": "Python 3"
    },
    "language_info": {
      "name": "python"
    }
  },
  "cells": [
    {
      "cell_type": "markdown",
      "source": [
        "# Tuple:\n",
        "- Tuple is an ordered and un-changleable (immutable)\n",
        "- Tuple declared by ()\n",
        "- contains homogenous / hetrogeneous\n",
        "- can perform indexing / slicing"
      ],
      "metadata": {
        "id": "-pWLUXbZ9me-"
      }
    },
    {
      "cell_type": "code",
      "source": [
        "a = tuple()\n",
        "print(a)\n",
        "print(type(a))"
      ],
      "metadata": {
        "colab": {
          "base_uri": "https://localhost:8080/"
        },
        "id": "Lg2fvu-HGVrZ",
        "outputId": "a020d9ba-319f-4828-d103-4ba10c8ebbb5"
      },
      "execution_count": null,
      "outputs": [
        {
          "output_type": "stream",
          "name": "stdout",
          "text": [
            "()\n",
            "<class 'tuple'>\n"
          ]
        }
      ]
    },
    {
      "cell_type": "code",
      "execution_count": null,
      "metadata": {
        "colab": {
          "base_uri": "https://localhost:8080/"
        },
        "id": "nq8EfT0L9gjE",
        "outputId": "0388dcdc-a584-484b-eba3-318730ab2036"
      },
      "outputs": [
        {
          "output_type": "stream",
          "name": "stdout",
          "text": [
            "()\n",
            "<class 'tuple'>\n"
          ]
        }
      ],
      "source": [
        "t =()\n",
        "print(t)\n",
        "print(type(t))"
      ]
    },
    {
      "cell_type": "code",
      "source": [
        "t1 = (1)\n",
        "print(t1)\n",
        "print(type(t1))"
      ],
      "metadata": {
        "colab": {
          "base_uri": "https://localhost:8080/"
        },
        "id": "u1iqI4Tb-UgX",
        "outputId": "242d2a3c-602c-4b09-e1eb-9cc1a7f4cf0e"
      },
      "execution_count": null,
      "outputs": [
        {
          "output_type": "stream",
          "name": "stdout",
          "text": [
            "1\n",
            "<class 'int'>\n"
          ]
        }
      ]
    },
    {
      "cell_type": "code",
      "source": [
        "t2 = ('Python')\n",
        "print(t2)\n",
        "print(type(t2))"
      ],
      "metadata": {
        "colab": {
          "base_uri": "https://localhost:8080/"
        },
        "id": "yLkIM5gs-0WA",
        "outputId": "084a81f7-4fb6-4f8a-f32a-45d3e0d5136f"
      },
      "execution_count": null,
      "outputs": [
        {
          "output_type": "stream",
          "name": "stdout",
          "text": [
            "Python\n",
            "<class 'str'>\n"
          ]
        }
      ]
    },
    {
      "cell_type": "code",
      "source": [
        "t3 = (1,)\n",
        "print(t3)\n",
        "print(type(t3))"
      ],
      "metadata": {
        "colab": {
          "base_uri": "https://localhost:8080/"
        },
        "id": "XFb_e6Mg-6b9",
        "outputId": "84e7786b-d312-45a4-a178-5782f8a3820e"
      },
      "execution_count": null,
      "outputs": [
        {
          "output_type": "stream",
          "name": "stdout",
          "text": [
            "(1,)\n",
            "<class 'tuple'>\n"
          ]
        }
      ]
    },
    {
      "cell_type": "code",
      "source": [
        "t4 = (1,2, 'string', [5,6,7])\n",
        "print(t4)\n",
        "print(type(t4))"
      ],
      "metadata": {
        "colab": {
          "base_uri": "https://localhost:8080/"
        },
        "id": "CM48YBcr_Ds0",
        "outputId": "0c1e3eeb-b27c-42ce-f60f-4d6665b5e831"
      },
      "execution_count": null,
      "outputs": [
        {
          "output_type": "stream",
          "name": "stdout",
          "text": [
            "(1, 2, 'string', [5, 6, 7])\n",
            "<class 'tuple'>\n"
          ]
        }
      ]
    },
    {
      "cell_type": "code",
      "source": [
        "len(t4)"
      ],
      "metadata": {
        "colab": {
          "base_uri": "https://localhost:8080/"
        },
        "id": "NltByl7O_UBF",
        "outputId": "1ec230fa-12e1-4067-aba3-6bc3deed9282"
      },
      "execution_count": null,
      "outputs": [
        {
          "output_type": "execute_result",
          "data": {
            "text/plain": [
              "4"
            ]
          },
          "metadata": {},
          "execution_count": 6
        }
      ]
    },
    {
      "cell_type": "code",
      "source": [
        "t4.append()"
      ],
      "metadata": {
        "colab": {
          "base_uri": "https://localhost:8080/",
          "height": 141
        },
        "id": "ZMR9MTMC_XNn",
        "outputId": "ea88e564-3ea3-41ad-a44d-377c120aa202"
      },
      "execution_count": null,
      "outputs": [
        {
          "output_type": "error",
          "ename": "AttributeError",
          "evalue": "'tuple' object has no attribute 'append'",
          "traceback": [
            "\u001b[0;31m---------------------------------------------------------------------------\u001b[0m",
            "\u001b[0;31mAttributeError\u001b[0m                            Traceback (most recent call last)",
            "\u001b[0;32m<ipython-input-7-3b686208660d>\u001b[0m in \u001b[0;36m<cell line: 0>\u001b[0;34m()\u001b[0m\n\u001b[0;32m----> 1\u001b[0;31m \u001b[0mt4\u001b[0m\u001b[0;34m.\u001b[0m\u001b[0mappend\u001b[0m\u001b[0;34m(\u001b[0m\u001b[0;34m)\u001b[0m\u001b[0;34m\u001b[0m\u001b[0;34m\u001b[0m\u001b[0m\n\u001b[0m",
            "\u001b[0;31mAttributeError\u001b[0m: 'tuple' object has no attribute 'append'"
          ]
        }
      ]
    },
    {
      "cell_type": "code",
      "source": [
        "t4[0]  # indexing in tuple"
      ],
      "metadata": {
        "colab": {
          "base_uri": "https://localhost:8080/"
        },
        "id": "IuUJnqm5AGXw",
        "outputId": "4b5b4181-30c3-433b-e3c3-41605905419b"
      },
      "execution_count": null,
      "outputs": [
        {
          "output_type": "execute_result",
          "data": {
            "text/plain": [
              "1"
            ]
          },
          "metadata": {},
          "execution_count": 8
        }
      ]
    },
    {
      "cell_type": "code",
      "source": [
        "l = list(t4)\n",
        "print(l)"
      ],
      "metadata": {
        "colab": {
          "base_uri": "https://localhost:8080/"
        },
        "id": "v8U5UM9yAVzW",
        "outputId": "378017ae-bab3-448d-8d6e-56dc5df05768"
      },
      "execution_count": null,
      "outputs": [
        {
          "output_type": "stream",
          "name": "stdout",
          "text": [
            "[1, 2, 'string', [5, 6, 7]]\n"
          ]
        }
      ]
    },
    {
      "cell_type": "code",
      "source": [
        "t5 = 1,2,3\n",
        "print(t5)\n",
        "print(type(t5))"
      ],
      "metadata": {
        "colab": {
          "base_uri": "https://localhost:8080/"
        },
        "id": "HUIOb7oRAj-f",
        "outputId": "cb23ff9c-e815-4a62-9bc9-67b2c5224025"
      },
      "execution_count": null,
      "outputs": [
        {
          "output_type": "stream",
          "name": "stdout",
          "text": [
            "(1, 2, 3)\n",
            "<class 'tuple'>\n"
          ]
        }
      ]
    },
    {
      "cell_type": "code",
      "source": [
        "t6 = 'AA','BB','CC'\n",
        "print(t6)\n",
        "print(type(t6))"
      ],
      "metadata": {
        "colab": {
          "base_uri": "https://localhost:8080/"
        },
        "id": "anLJTBOxBTHg",
        "outputId": "5ac19ea3-ec37-415b-e93d-74f98ab76bcc"
      },
      "execution_count": null,
      "outputs": [
        {
          "output_type": "stream",
          "name": "stdout",
          "text": [
            "('AA', 'BB', 'CC')\n",
            "<class 'tuple'>\n"
          ]
        }
      ]
    },
    {
      "cell_type": "code",
      "source": [
        "t7 = 'python',\n",
        "print(t7)\n",
        "print(type(t7))"
      ],
      "metadata": {
        "colab": {
          "base_uri": "https://localhost:8080/"
        },
        "id": "PWJukLlQBb5t",
        "outputId": "8e0dec52-e7e5-4fa4-a554-b0b567d95f18"
      },
      "execution_count": null,
      "outputs": [
        {
          "output_type": "stream",
          "name": "stdout",
          "text": [
            "('python',)\n",
            "<class 'tuple'>\n"
          ]
        }
      ]
    },
    {
      "cell_type": "code",
      "source": [
        "t8 = ('a','b','c','d','j','z','x','y')\n",
        "print(t8)\n",
        "print(t8[1:5]) #slicing in tuple\n",
        "print(type(t8))"
      ],
      "metadata": {
        "colab": {
          "base_uri": "https://localhost:8080/"
        },
        "id": "imSGuDLGIEf5",
        "outputId": "a80b3404-5780-43f9-d4ff-c88450f847f3"
      },
      "execution_count": null,
      "outputs": [
        {
          "output_type": "stream",
          "name": "stdout",
          "text": [
            "('a', 'b', 'c', 'd', 'j', 'z', 'x', 'y')\n",
            "('b', 'c', 'd', 'j')\n",
            "<class 'tuple'>\n"
          ]
        }
      ]
    },
    {
      "cell_type": "code",
      "source": [
        "# how to sort tuple\n",
        "t = ('f','j','y','K','O','L','a')\n",
        "t1 = sorted(t)\n",
        "print(\"Sorted list t1: \",t1)\n",
        "print(\"Sorted tuple: \",tuple(t1))\n"
      ],
      "metadata": {
        "colab": {
          "base_uri": "https://localhost:8080/"
        },
        "id": "pLrdfNN5I5GH",
        "outputId": "f0d2bbfc-3094-4454-ffa8-195f2126d399"
      },
      "execution_count": null,
      "outputs": [
        {
          "output_type": "stream",
          "name": "stdout",
          "text": [
            "Sorted list t1:  ['K', 'L', 'O', 'a', 'f', 'j', 'y']\n",
            "Sorted tuple:  ('K', 'L', 'O', 'a', 'f', 'j', 'y')\n"
          ]
        }
      ]
    },
    {
      "cell_type": "markdown",
      "source": [
        "# Set:\n",
        "- set is unorder collection.\n",
        "- It is iterable.\n",
        "- It is mutable.\n",
        "- It has no duplicate elements.\n"
      ],
      "metadata": {
        "id": "D8TtQhZZJ_Wv"
      }
    },
    {
      "cell_type": "code",
      "source": [
        "s = set()\n",
        "print(s)\n",
        "print(type(s))"
      ],
      "metadata": {
        "id": "0g06FJDTBmZn",
        "colab": {
          "base_uri": "https://localhost:8080/"
        },
        "outputId": "6271df62-3303-4c1c-a6af-47b2d54a711e"
      },
      "execution_count": null,
      "outputs": [
        {
          "output_type": "stream",
          "name": "stdout",
          "text": [
            "set()\n",
            "<class 'set'>\n"
          ]
        }
      ]
    },
    {
      "cell_type": "code",
      "source": [
        "s_new = {}\n",
        "print(s_new)\n",
        "print(type(s_new))"
      ],
      "metadata": {
        "colab": {
          "base_uri": "https://localhost:8080/"
        },
        "id": "49y8FNf7M-Db",
        "outputId": "81b26d0a-b9fd-4a4a-f092-c0e8159feb45"
      },
      "execution_count": null,
      "outputs": [
        {
          "output_type": "stream",
          "name": "stdout",
          "text": [
            "{}\n",
            "<class 'dict'>\n"
          ]
        }
      ]
    },
    {
      "cell_type": "code",
      "source": [
        "s1 = {1,2,3,[6,7,8],'Python'}\n",
        "print(s1)\n",
        "print(type(s1))"
      ],
      "metadata": {
        "colab": {
          "base_uri": "https://localhost:8080/",
          "height": 176
        },
        "id": "Jf71K_vTK2Fs",
        "outputId": "e3d66f01-ced5-4341-b90e-1767e633827c"
      },
      "execution_count": null,
      "outputs": [
        {
          "output_type": "error",
          "ename": "TypeError",
          "evalue": "unhashable type: 'list'",
          "traceback": [
            "\u001b[0;31m---------------------------------------------------------------------------\u001b[0m",
            "\u001b[0;31mTypeError\u001b[0m                                 Traceback (most recent call last)",
            "\u001b[0;32m<ipython-input-2-bac0872b3671>\u001b[0m in \u001b[0;36m<cell line: 0>\u001b[0;34m()\u001b[0m\n\u001b[0;32m----> 1\u001b[0;31m \u001b[0ms1\u001b[0m \u001b[0;34m=\u001b[0m \u001b[0;34m{\u001b[0m\u001b[0;36m1\u001b[0m\u001b[0;34m,\u001b[0m\u001b[0;36m2\u001b[0m\u001b[0;34m,\u001b[0m\u001b[0;36m3\u001b[0m\u001b[0;34m,\u001b[0m\u001b[0;34m[\u001b[0m\u001b[0;36m6\u001b[0m\u001b[0;34m,\u001b[0m\u001b[0;36m7\u001b[0m\u001b[0;34m,\u001b[0m\u001b[0;36m8\u001b[0m\u001b[0;34m]\u001b[0m\u001b[0;34m,\u001b[0m\u001b[0;34m'Python'\u001b[0m\u001b[0;34m}\u001b[0m\u001b[0;34m\u001b[0m\u001b[0;34m\u001b[0m\u001b[0m\n\u001b[0m\u001b[1;32m      2\u001b[0m \u001b[0mprint\u001b[0m\u001b[0;34m(\u001b[0m\u001b[0ms1\u001b[0m\u001b[0;34m)\u001b[0m\u001b[0;34m\u001b[0m\u001b[0;34m\u001b[0m\u001b[0m\n\u001b[1;32m      3\u001b[0m \u001b[0mprint\u001b[0m\u001b[0;34m(\u001b[0m\u001b[0mtype\u001b[0m\u001b[0;34m(\u001b[0m\u001b[0ms1\u001b[0m\u001b[0;34m)\u001b[0m\u001b[0;34m)\u001b[0m\u001b[0;34m\u001b[0m\u001b[0;34m\u001b[0m\u001b[0m\n",
            "\u001b[0;31mTypeError\u001b[0m: unhashable type: 'list'"
          ]
        }
      ]
    },
    {
      "cell_type": "code",
      "source": [
        "s50 = {1,2,3,'Python',(6,7,8)}\n",
        "print(s50)\n",
        "print(type(s50))"
      ],
      "metadata": {
        "colab": {
          "base_uri": "https://localhost:8080/"
        },
        "id": "uv4OTcPAX1bX",
        "outputId": "0117f653-fad8-407b-92e9-173b353049ca"
      },
      "execution_count": null,
      "outputs": [
        {
          "output_type": "stream",
          "name": "stdout",
          "text": [
            "{1, 2, 3, 'Python', (6, 7, 8)}\n",
            "<class 'set'>\n"
          ]
        }
      ]
    },
    {
      "cell_type": "code",
      "source": [
        "s51 = {1,2,3,'Python',{(6,7,8)}}\n",
        "print(s51)\n",
        "print(type(s51))"
      ],
      "metadata": {
        "colab": {
          "base_uri": "https://localhost:8080/",
          "height": 176
        },
        "id": "gPdM68wwX-vO",
        "outputId": "695da4f0-6a3e-4245-9998-daede1ccb4e4"
      },
      "execution_count": null,
      "outputs": [
        {
          "output_type": "error",
          "ename": "TypeError",
          "evalue": "unhashable type: 'set'",
          "traceback": [
            "\u001b[0;31m---------------------------------------------------------------------------\u001b[0m",
            "\u001b[0;31mTypeError\u001b[0m                                 Traceback (most recent call last)",
            "\u001b[0;32m/tmp/ipython-input-5-373091795.py\u001b[0m in \u001b[0;36m<cell line: 0>\u001b[0;34m()\u001b[0m\n\u001b[0;32m----> 1\u001b[0;31m \u001b[0ms51\u001b[0m \u001b[0;34m=\u001b[0m \u001b[0;34m{\u001b[0m\u001b[0;36m1\u001b[0m\u001b[0;34m,\u001b[0m\u001b[0;36m2\u001b[0m\u001b[0;34m,\u001b[0m\u001b[0;36m3\u001b[0m\u001b[0;34m,\u001b[0m\u001b[0;34m'Python'\u001b[0m\u001b[0;34m,\u001b[0m\u001b[0;34m{\u001b[0m\u001b[0;34m(\u001b[0m\u001b[0;36m6\u001b[0m\u001b[0;34m,\u001b[0m\u001b[0;36m7\u001b[0m\u001b[0;34m,\u001b[0m\u001b[0;36m8\u001b[0m\u001b[0;34m)\u001b[0m\u001b[0;34m}\u001b[0m\u001b[0;34m}\u001b[0m\u001b[0;34m\u001b[0m\u001b[0;34m\u001b[0m\u001b[0m\n\u001b[0m\u001b[1;32m      2\u001b[0m \u001b[0mprint\u001b[0m\u001b[0;34m(\u001b[0m\u001b[0ms51\u001b[0m\u001b[0;34m)\u001b[0m\u001b[0;34m\u001b[0m\u001b[0;34m\u001b[0m\u001b[0m\n\u001b[1;32m      3\u001b[0m \u001b[0mprint\u001b[0m\u001b[0;34m(\u001b[0m\u001b[0mtype\u001b[0m\u001b[0;34m(\u001b[0m\u001b[0ms51\u001b[0m\u001b[0;34m)\u001b[0m\u001b[0;34m)\u001b[0m\u001b[0;34m\u001b[0m\u001b[0;34m\u001b[0m\u001b[0m\n",
            "\u001b[0;31mTypeError\u001b[0m: unhashable type: 'set'"
          ]
        }
      ]
    },
    {
      "cell_type": "code",
      "source": [
        "s52 = {1,2,3,{1:'a',2:'b'}}\n",
        "print(s52)\n",
        "print(type(s52))"
      ],
      "metadata": {
        "colab": {
          "base_uri": "https://localhost:8080/",
          "height": 176
        },
        "id": "iLEsszHbZLbO",
        "outputId": "8cb154cf-86b6-475f-b6ae-19b5e053ad50"
      },
      "execution_count": null,
      "outputs": [
        {
          "output_type": "error",
          "ename": "TypeError",
          "evalue": "unhashable type: 'dict'",
          "traceback": [
            "\u001b[0;31m---------------------------------------------------------------------------\u001b[0m",
            "\u001b[0;31mTypeError\u001b[0m                                 Traceback (most recent call last)",
            "\u001b[0;32m/tmp/ipython-input-6-1604066476.py\u001b[0m in \u001b[0;36m<cell line: 0>\u001b[0;34m()\u001b[0m\n\u001b[0;32m----> 1\u001b[0;31m \u001b[0ms52\u001b[0m \u001b[0;34m=\u001b[0m \u001b[0;34m{\u001b[0m\u001b[0;36m1\u001b[0m\u001b[0;34m,\u001b[0m\u001b[0;36m2\u001b[0m\u001b[0;34m,\u001b[0m\u001b[0;36m3\u001b[0m\u001b[0;34m,\u001b[0m\u001b[0;34m{\u001b[0m\u001b[0;36m1\u001b[0m\u001b[0;34m:\u001b[0m\u001b[0;34m'a'\u001b[0m\u001b[0;34m,\u001b[0m\u001b[0;36m2\u001b[0m\u001b[0;34m:\u001b[0m\u001b[0;34m'b'\u001b[0m\u001b[0;34m}\u001b[0m\u001b[0;34m}\u001b[0m\u001b[0;34m\u001b[0m\u001b[0;34m\u001b[0m\u001b[0m\n\u001b[0m\u001b[1;32m      2\u001b[0m \u001b[0mprint\u001b[0m\u001b[0;34m(\u001b[0m\u001b[0ms52\u001b[0m\u001b[0;34m)\u001b[0m\u001b[0;34m\u001b[0m\u001b[0;34m\u001b[0m\u001b[0m\n\u001b[1;32m      3\u001b[0m \u001b[0mprint\u001b[0m\u001b[0;34m(\u001b[0m\u001b[0mtype\u001b[0m\u001b[0;34m(\u001b[0m\u001b[0ms52\u001b[0m\u001b[0;34m)\u001b[0m\u001b[0;34m)\u001b[0m\u001b[0;34m\u001b[0m\u001b[0;34m\u001b[0m\u001b[0m\n",
            "\u001b[0;31mTypeError\u001b[0m: unhashable type: 'dict'"
          ]
        }
      ]
    },
    {
      "cell_type": "markdown",
      "source": [
        "# Notes:\n",
        "-  In Python programming, a Hashable object is something which is having a hash value. Hashable objects are immutable and cannot be modified after initialization. Similarly, unhashable objects do not have hash values such as list, dict, set"
      ],
      "metadata": {
        "id": "RUWo3aUWYybv"
      }
    },
    {
      "cell_type": "code",
      "source": [
        "li = [1,3,4,{\"maya\",\"kaya\"}]\n",
        "print(li)\n",
        "print(type(li))"
      ],
      "metadata": {
        "colab": {
          "base_uri": "https://localhost:8080/"
        },
        "id": "fiXJ79dIXBro",
        "outputId": "b254bd7c-47e1-498c-acd8-64c4ba24b7f6"
      },
      "execution_count": null,
      "outputs": [
        {
          "output_type": "stream",
          "name": "stdout",
          "text": [
            "[1, 3, 4, {'kaya', 'maya'}]\n",
            "<class 'list'>\n"
          ]
        }
      ]
    },
    {
      "cell_type": "code",
      "source": [
        "lis = [1,3,4,{1:\"Maya\",2:\"kaya\"}]\n",
        "print(lis)\n",
        "print(type(lis))"
      ],
      "metadata": {
        "colab": {
          "base_uri": "https://localhost:8080/"
        },
        "id": "IyV3RJLqXXVx",
        "outputId": "1310bdb7-3205-4320-e2f6-9e225cf8412b"
      },
      "execution_count": null,
      "outputs": [
        {
          "output_type": "stream",
          "name": "stdout",
          "text": [
            "[1, 3, 4, {1: 'Maya', 2: 'kaya'}]\n",
            "<class 'list'>\n"
          ]
        }
      ]
    },
    {
      "cell_type": "code",
      "source": [
        "ls = [1,2,3,(1,4,5)]\n",
        "print(ls)\n",
        "print(type(ls))"
      ],
      "metadata": {
        "colab": {
          "base_uri": "https://localhost:8080/"
        },
        "id": "qbVakr-NXkEP",
        "outputId": "1b2b9991-d70c-4d7d-a7b1-922ef668eb77"
      },
      "execution_count": null,
      "outputs": [
        {
          "output_type": "stream",
          "name": "stdout",
          "text": [
            "[1, 2, 3, (1, 4, 5)]\n",
            "<class 'list'>\n"
          ]
        }
      ]
    },
    {
      "cell_type": "code",
      "source": [
        "s1 = {1,2,3,'Python'}\n",
        "print(s1)\n",
        "print(type(s1))"
      ],
      "metadata": {
        "colab": {
          "base_uri": "https://localhost:8080/"
        },
        "id": "uf26J3g9LDww",
        "outputId": "345e5890-bad7-45a4-cbe4-42b36a5d8e63"
      },
      "execution_count": null,
      "outputs": [
        {
          "output_type": "stream",
          "name": "stdout",
          "text": [
            "{1, 2, 3, 'Python'}\n",
            "<class 'set'>\n"
          ]
        }
      ]
    },
    {
      "cell_type": "code",
      "source": [
        "# sets in python can only contain hashable(immutable) but list is mutable.\n",
        "s1 = {1,2,3,'Python',[6,7,8]}\n",
        "print(s1)\n",
        "print(type(s1))"
      ],
      "metadata": {
        "colab": {
          "base_uri": "https://localhost:8080/",
          "height": 176
        },
        "id": "AIslAbUNLO-c",
        "outputId": "bd8e8d9b-17bf-4175-d276-6aa606fefff7"
      },
      "execution_count": null,
      "outputs": [
        {
          "output_type": "error",
          "ename": "TypeError",
          "evalue": "unhashable type: 'list'",
          "traceback": [
            "\u001b[0;31m---------------------------------------------------------------------------\u001b[0m",
            "\u001b[0;31mTypeError\u001b[0m                                 Traceback (most recent call last)",
            "\u001b[0;32m<ipython-input-4-2c905132d874>\u001b[0m in \u001b[0;36m<cell line: 0>\u001b[0;34m()\u001b[0m\n\u001b[0;32m----> 1\u001b[0;31m \u001b[0ms1\u001b[0m \u001b[0;34m=\u001b[0m \u001b[0;34m{\u001b[0m\u001b[0;36m1\u001b[0m\u001b[0;34m,\u001b[0m\u001b[0;36m2\u001b[0m\u001b[0;34m,\u001b[0m\u001b[0;36m3\u001b[0m\u001b[0;34m,\u001b[0m\u001b[0;34m'Python'\u001b[0m\u001b[0;34m,\u001b[0m\u001b[0;34m[\u001b[0m\u001b[0;36m6\u001b[0m\u001b[0;34m,\u001b[0m\u001b[0;36m7\u001b[0m\u001b[0;34m,\u001b[0m\u001b[0;36m8\u001b[0m\u001b[0;34m]\u001b[0m\u001b[0;34m}\u001b[0m\u001b[0;34m\u001b[0m\u001b[0;34m\u001b[0m\u001b[0m\n\u001b[0m\u001b[1;32m      2\u001b[0m \u001b[0mprint\u001b[0m\u001b[0;34m(\u001b[0m\u001b[0ms1\u001b[0m\u001b[0;34m)\u001b[0m\u001b[0;34m\u001b[0m\u001b[0;34m\u001b[0m\u001b[0m\n\u001b[1;32m      3\u001b[0m \u001b[0mprint\u001b[0m\u001b[0;34m(\u001b[0m\u001b[0mtype\u001b[0m\u001b[0;34m(\u001b[0m\u001b[0ms1\u001b[0m\u001b[0;34m)\u001b[0m\u001b[0;34m)\u001b[0m\u001b[0;34m\u001b[0m\u001b[0;34m\u001b[0m\u001b[0m\n",
            "\u001b[0;31mTypeError\u001b[0m: unhashable type: 'list'"
          ]
        }
      ]
    },
    {
      "cell_type": "code",
      "source": [
        "s1 = {1,2,3,'Python',(6,7,8)}\n",
        "print(s1)\n",
        "print(type(s1))"
      ],
      "metadata": {
        "colab": {
          "base_uri": "https://localhost:8080/"
        },
        "id": "ae_vBuIXQWWe",
        "outputId": "02a5f86f-dea4-4e47-82ff-cfa01a7a1b0f"
      },
      "execution_count": null,
      "outputs": [
        {
          "output_type": "stream",
          "name": "stdout",
          "text": [
            "{1, 2, 3, 'Python', (6, 7, 8)}\n",
            "<class 'set'>\n"
          ]
        }
      ]
    },
    {
      "cell_type": "code",
      "source": [
        "s_new = {1,2,3,'Python',(6,7,8),{1:'a',2:'b'}}\n",
        "print(s_new)\n",
        "print(type(s_new))"
      ],
      "metadata": {
        "colab": {
          "base_uri": "https://localhost:8080/",
          "height": 176
        },
        "id": "DXE5R31tQ2tN",
        "outputId": "0e56d8d0-6800-4153-d78f-3dfbc26821bc"
      },
      "execution_count": null,
      "outputs": [
        {
          "output_type": "error",
          "ename": "TypeError",
          "evalue": "unhashable type: 'dict'",
          "traceback": [
            "\u001b[0;31m---------------------------------------------------------------------------\u001b[0m",
            "\u001b[0;31mTypeError\u001b[0m                                 Traceback (most recent call last)",
            "\u001b[0;32m<ipython-input-3-254d48a33fe1>\u001b[0m in \u001b[0;36m<cell line: 0>\u001b[0;34m()\u001b[0m\n\u001b[0;32m----> 1\u001b[0;31m \u001b[0ms_new\u001b[0m \u001b[0;34m=\u001b[0m \u001b[0;34m{\u001b[0m\u001b[0;36m1\u001b[0m\u001b[0;34m,\u001b[0m\u001b[0;36m2\u001b[0m\u001b[0;34m,\u001b[0m\u001b[0;36m3\u001b[0m\u001b[0;34m,\u001b[0m\u001b[0;34m'Python'\u001b[0m\u001b[0;34m,\u001b[0m\u001b[0;34m(\u001b[0m\u001b[0;36m6\u001b[0m\u001b[0;34m,\u001b[0m\u001b[0;36m7\u001b[0m\u001b[0;34m,\u001b[0m\u001b[0;36m8\u001b[0m\u001b[0;34m)\u001b[0m\u001b[0;34m,\u001b[0m\u001b[0;34m{\u001b[0m\u001b[0;36m1\u001b[0m\u001b[0;34m:\u001b[0m\u001b[0;34m'a'\u001b[0m\u001b[0;34m,\u001b[0m\u001b[0;36m2\u001b[0m\u001b[0;34m:\u001b[0m\u001b[0;34m'b'\u001b[0m\u001b[0;34m}\u001b[0m\u001b[0;34m}\u001b[0m\u001b[0;34m\u001b[0m\u001b[0;34m\u001b[0m\u001b[0m\n\u001b[0m\u001b[1;32m      2\u001b[0m \u001b[0mprint\u001b[0m\u001b[0;34m(\u001b[0m\u001b[0ms_new\u001b[0m\u001b[0;34m)\u001b[0m\u001b[0;34m\u001b[0m\u001b[0;34m\u001b[0m\u001b[0m\n\u001b[1;32m      3\u001b[0m \u001b[0mprint\u001b[0m\u001b[0;34m(\u001b[0m\u001b[0mtype\u001b[0m\u001b[0;34m(\u001b[0m\u001b[0ms_new\u001b[0m\u001b[0;34m)\u001b[0m\u001b[0;34m)\u001b[0m\u001b[0;34m\u001b[0m\u001b[0;34m\u001b[0m\u001b[0m\n",
            "\u001b[0;31mTypeError\u001b[0m: unhashable type: 'dict'"
          ]
        }
      ]
    },
    {
      "cell_type": "markdown",
      "source": [
        "# Note:\n",
        "- In Python, \"unhashable\" refers to objects that cannot be used as keys in dictionaries or members of sets.\n",
        "- It means we can't add List, set and dictionary object into set, If we add these object into set it will give error."
      ],
      "metadata": {
        "id": "AFcEebjhPDog"
      }
    },
    {
      "cell_type": "code",
      "source": [
        "# (6,7,8) is tuple and it's a immutable.\n",
        "s1 = {1,2,3,(6,7,8),'Python'}\n",
        "print(s1)\n",
        "print(type(s1))"
      ],
      "metadata": {
        "colab": {
          "base_uri": "https://localhost:8080/"
        },
        "id": "s4YgWWB-LXkK",
        "outputId": "d1e7d179-461e-4eff-8c9b-6316614df2eb"
      },
      "execution_count": null,
      "outputs": [
        {
          "output_type": "stream",
          "name": "stdout",
          "text": [
            "{1, 2, 3, 'Python', (6, 7, 8)}\n",
            "<class 'set'>\n"
          ]
        }
      ]
    },
    {
      "cell_type": "code",
      "source": [
        "s2 = {1,2,3,2,5,1}\n",
        "print(s2)\n",
        "print(type(s2))"
      ],
      "metadata": {
        "colab": {
          "base_uri": "https://localhost:8080/"
        },
        "id": "9wVhNLsbLZbo",
        "outputId": "d4079bdd-d962-4fe1-843d-e71c5e38779b"
      },
      "execution_count": null,
      "outputs": [
        {
          "output_type": "stream",
          "name": "stdout",
          "text": [
            "{1, 2, 3, 5}\n",
            "<class 'set'>\n"
          ]
        }
      ]
    },
    {
      "cell_type": "code",
      "source": [
        "s2.add(50)"
      ],
      "metadata": {
        "id": "gXb7iQJzLv8T"
      },
      "execution_count": null,
      "outputs": []
    },
    {
      "cell_type": "code",
      "source": [
        "print(s2)"
      ],
      "metadata": {
        "colab": {
          "base_uri": "https://localhost:8080/"
        },
        "id": "UaCzLI7BNNYD",
        "outputId": "a9ccc071-4142-4820-ede4-65cbd7424934"
      },
      "execution_count": null,
      "outputs": [
        {
          "output_type": "stream",
          "name": "stdout",
          "text": [
            "{1, 2, 3, 5, 50}\n"
          ]
        }
      ]
    },
    {
      "cell_type": "code",
      "source": [
        "languages = {'Python', 'Java', 'C++','c','R'}\n",
        "print(languages)"
      ],
      "metadata": {
        "colab": {
          "base_uri": "https://localhost:8080/"
        },
        "id": "4EMAK-hvNPaB",
        "outputId": "81b3a97d-75ff-4646-c61f-1f76245f9d8a"
      },
      "execution_count": null,
      "outputs": [
        {
          "output_type": "stream",
          "name": "stdout",
          "text": [
            "{'Java', 'Python', 'c', 'R', 'C++'}\n"
          ]
        }
      ]
    },
    {
      "cell_type": "markdown",
      "source": [
        "- List pop() method remove last element and return it\n",
        "- Set pop() method remove first element and return it"
      ],
      "metadata": {
        "id": "9vYkJCR5RsM8"
      }
    },
    {
      "cell_type": "code",
      "source": [
        "RL = languages.pop()\n",
        "print(RL)"
      ],
      "metadata": {
        "colab": {
          "base_uri": "https://localhost:8080/"
        },
        "id": "K6K0Z5OCNix0",
        "outputId": "041ba35c-cbf3-4599-c494-76666bf46270"
      },
      "execution_count": null,
      "outputs": [
        {
          "output_type": "stream",
          "name": "stdout",
          "text": [
            "Java\n"
          ]
        }
      ]
    },
    {
      "cell_type": "code",
      "source": [
        "print(languages)"
      ],
      "metadata": {
        "colab": {
          "base_uri": "https://localhost:8080/"
        },
        "id": "i1jAwdZ_NxbU",
        "outputId": "91b6097c-8c87-48ea-8746-fd1b0ea45939"
      },
      "execution_count": null,
      "outputs": [
        {
          "output_type": "stream",
          "name": "stdout",
          "text": [
            "{'Python', 'c', 'R', 'C++'}\n"
          ]
        }
      ]
    },
    {
      "cell_type": "code",
      "source": [
        "rl1 = languages.discard('R')\n",
        "print(rl1)\n",
        "print(languages)"
      ],
      "metadata": {
        "colab": {
          "base_uri": "https://localhost:8080/"
        },
        "id": "GOvmLuTeN2NC",
        "outputId": "4ae46586-158d-41c5-ceae-536c1f0e12b9"
      },
      "execution_count": null,
      "outputs": [
        {
          "output_type": "stream",
          "name": "stdout",
          "text": [
            "None\n",
            "{'Python', 'c', 'C++'}\n"
          ]
        }
      ]
    },
    {
      "cell_type": "code",
      "source": [
        "print(languages)"
      ],
      "metadata": {
        "colab": {
          "base_uri": "https://localhost:8080/"
        },
        "id": "vUArEK7HOI_w",
        "outputId": "4ec10f59-a4b2-403b-c96b-c6cec50894d5"
      },
      "execution_count": null,
      "outputs": [
        {
          "output_type": "stream",
          "name": "stdout",
          "text": [
            "{'c', 'Java', 'Python'}\n"
          ]
        }
      ]
    },
    {
      "cell_type": "code",
      "source": [
        "set1 = {'intel','coep','TCS'}\n"
      ],
      "metadata": {
        "id": "QWrEDm_VOLF4"
      },
      "execution_count": null,
      "outputs": []
    },
    {
      "cell_type": "code",
      "source": [
        "L1 = ['Python','Machine Learning','Deep Learning']"
      ],
      "metadata": {
        "id": "Cg1yROJOOjeR"
      },
      "execution_count": null,
      "outputs": []
    },
    {
      "cell_type": "code",
      "source": [
        "set1.update(L1)"
      ],
      "metadata": {
        "id": "FznHcszaOq9-"
      },
      "execution_count": null,
      "outputs": []
    },
    {
      "cell_type": "code",
      "source": [
        "print(set1)"
      ],
      "metadata": {
        "colab": {
          "base_uri": "https://localhost:8080/"
        },
        "id": "QSRgBYNyOwrf",
        "outputId": "f8a3389c-1634-4b70-adc9-db1441fa3b45"
      },
      "execution_count": null,
      "outputs": [
        {
          "output_type": "stream",
          "name": "stdout",
          "text": [
            "{'Deep Learning', 'Machine Learning', 'coep', 'Python', 'TCS', 'intel'}\n"
          ]
        }
      ]
    },
    {
      "cell_type": "code",
      "source": [
        "s = {1,2,3,4,5}\n",
        "print(s)\n",
        "s.remove(4)  # If element is not present it will give error\n",
        "print(s)\n",
        "s.discard(5)  # If element is not present it will not give any error\n",
        "print(s)\n",
        "s.pop()\n",
        "print(s)\n",
        "s.clear()\n",
        "print(s)\n"
      ],
      "metadata": {
        "colab": {
          "base_uri": "https://localhost:8080/"
        },
        "id": "yovp2pPSTbzs",
        "outputId": "ed04470b-714f-4e0c-dd82-c2ce9d50f205"
      },
      "execution_count": null,
      "outputs": [
        {
          "output_type": "stream",
          "name": "stdout",
          "text": [
            "{1, 2, 3, 4, 5}\n",
            "{1, 2, 3, 5}\n",
            "{1, 2, 3}\n",
            "{2, 3}\n",
            "set()\n"
          ]
        }
      ]
    },
    {
      "cell_type": "code",
      "source": [
        "s1 = {1,2,3,4,5,6,18}\n",
        "print(s1)\n",
        "del s1\n",
        "print(s1)"
      ],
      "metadata": {
        "colab": {
          "base_uri": "https://localhost:8080/",
          "height": 193
        },
        "id": "PBSzRiYtUhDy",
        "outputId": "5ba9f52d-7612-4cac-beaf-7debe68ae9a8"
      },
      "execution_count": null,
      "outputs": [
        {
          "output_type": "stream",
          "name": "stdout",
          "text": [
            "{1, 2, 3, 4, 5, 6, 18}\n"
          ]
        },
        {
          "output_type": "error",
          "ename": "NameError",
          "evalue": "name 's1' is not defined",
          "traceback": [
            "\u001b[0;31m---------------------------------------------------------------------------\u001b[0m",
            "\u001b[0;31mNameError\u001b[0m                                 Traceback (most recent call last)",
            "\u001b[0;32m<ipython-input-8-1845f9ac5b86>\u001b[0m in \u001b[0;36m<cell line: 0>\u001b[0;34m()\u001b[0m\n\u001b[1;32m      2\u001b[0m \u001b[0mprint\u001b[0m\u001b[0;34m(\u001b[0m\u001b[0ms1\u001b[0m\u001b[0;34m)\u001b[0m\u001b[0;34m\u001b[0m\u001b[0;34m\u001b[0m\u001b[0m\n\u001b[1;32m      3\u001b[0m \u001b[0;32mdel\u001b[0m \u001b[0ms1\u001b[0m\u001b[0;34m\u001b[0m\u001b[0;34m\u001b[0m\u001b[0m\n\u001b[0;32m----> 4\u001b[0;31m \u001b[0mprint\u001b[0m\u001b[0;34m(\u001b[0m\u001b[0ms1\u001b[0m\u001b[0;34m)\u001b[0m\u001b[0;34m\u001b[0m\u001b[0;34m\u001b[0m\u001b[0m\n\u001b[0m",
            "\u001b[0;31mNameError\u001b[0m: name 's1' is not defined"
          ]
        }
      ]
    },
    {
      "cell_type": "markdown",
      "source": [
        "# What is the difference between set remove() and discard() method\n",
        "- If specific element is not present, remove() method will give error\n",
        "- If specific element in not present, discard() method will not give any error\n",
        "\n",
        "# What is the difference between set del and clear() method\n",
        "- clear() method remove all the element in the set and return empty set\n",
        "- del, completly remove specific set, i.e. After performing del operation on set and try to print original set, it will give error, means set is not define"
      ],
      "metadata": {
        "id": "ILwHJCcqU2ER"
      }
    },
    {
      "cell_type": "markdown",
      "source": [
        "# Set operation"
      ],
      "metadata": {
        "id": "t2hyPzBuPIWz"
      }
    },
    {
      "cell_type": "code",
      "source": [
        "A = {1,3,7,5}\n",
        "B = {0,2,3,4,5,6}\n"
      ],
      "metadata": {
        "id": "9IESeJrCOzR-"
      },
      "execution_count": null,
      "outputs": []
    },
    {
      "cell_type": "code",
      "source": [
        "# Union operation\n",
        "\n",
        "print(\"Union using |: \",A|B)\n"
      ],
      "metadata": {
        "colab": {
          "base_uri": "https://localhost:8080/"
        },
        "id": "1mlN7w7-PS_I",
        "outputId": "b96a0b3f-9798-4eb2-cbc2-13b54c5de990"
      },
      "execution_count": null,
      "outputs": [
        {
          "output_type": "stream",
          "name": "stdout",
          "text": [
            "Union using |:  {0, 1, 2, 3, 4, 5, 6, 7}\n"
          ]
        }
      ]
    },
    {
      "cell_type": "code",
      "source": [
        "print(\"Union using union function: \", A.union(B))"
      ],
      "metadata": {
        "colab": {
          "base_uri": "https://localhost:8080/"
        },
        "id": "MlDh3vzSPlA-",
        "outputId": "f1d272f8-5d48-42af-8a83-cd8b26c3c207"
      },
      "execution_count": null,
      "outputs": [
        {
          "output_type": "stream",
          "name": "stdout",
          "text": [
            "Union using union function:  {0, 1, 2, 3, 4, 5, 6, 7}\n"
          ]
        }
      ]
    },
    {
      "cell_type": "code",
      "source": [
        "print(A)"
      ],
      "metadata": {
        "colab": {
          "base_uri": "https://localhost:8080/"
        },
        "id": "vJRKMrrpPvXG",
        "outputId": "4164e731-543c-4c39-e4aa-4ff278faa0ee"
      },
      "execution_count": null,
      "outputs": [
        {
          "output_type": "stream",
          "name": "stdout",
          "text": [
            "{1, 3, 5, 7}\n"
          ]
        }
      ]
    },
    {
      "cell_type": "code",
      "source": [
        "# Intersection\n",
        "\n",
        "print(\"Intersection using &: \",A&B)"
      ],
      "metadata": {
        "colab": {
          "base_uri": "https://localhost:8080/"
        },
        "id": "NT5abBhPP7qy",
        "outputId": "164af150-2a9a-4751-842b-e4ea6ed8d6d8"
      },
      "execution_count": null,
      "outputs": [
        {
          "output_type": "stream",
          "name": "stdout",
          "text": [
            "Intersection using &:  {3, 5}\n"
          ]
        }
      ]
    },
    {
      "cell_type": "code",
      "source": [
        "print(\"Intersection using intersection function: \", A.intersection(B))"
      ],
      "metadata": {
        "colab": {
          "base_uri": "https://localhost:8080/"
        },
        "id": "in6rPlErQRuv",
        "outputId": "745bd125-94fe-4d2b-fdd0-306ca0cfd813"
      },
      "execution_count": null,
      "outputs": [
        {
          "output_type": "stream",
          "name": "stdout",
          "text": [
            "Intersection using intersection function:  {3, 5}\n"
          ]
        }
      ]
    },
    {
      "cell_type": "code",
      "source": [
        "# Difference\n",
        "\n",
        "print(A)\n",
        "print(B)\n",
        "print(\"Difference using -: \", A-B)\n",
        "print(\"Difference using -: \", B-A)"
      ],
      "metadata": {
        "colab": {
          "base_uri": "https://localhost:8080/"
        },
        "id": "krYDb1ghQ2hx",
        "outputId": "b6633b04-e69a-46b4-e000-e0602311bae9"
      },
      "execution_count": null,
      "outputs": [
        {
          "output_type": "stream",
          "name": "stdout",
          "text": [
            "{1, 3, 5, 7}\n",
            "{0, 2, 3, 4, 5, 6}\n",
            "Difference using -:  {1, 7}\n",
            "Difference using -:  {0, 2, 4, 6}\n"
          ]
        }
      ]
    },
    {
      "cell_type": "code",
      "source": [
        "print(\"Difference using difference function: \", A.difference(B))"
      ],
      "metadata": {
        "colab": {
          "base_uri": "https://localhost:8080/"
        },
        "id": "FVxJq3r2RYl5",
        "outputId": "ad55d050-c047-41a8-eb60-5c083092e86a"
      },
      "execution_count": null,
      "outputs": [
        {
          "output_type": "stream",
          "name": "stdout",
          "text": [
            "Difference using difference function:  {1, 7}\n"
          ]
        }
      ]
    },
    {
      "cell_type": "code",
      "source": [
        "# Symmetric Difference\n",
        "\n",
        "print(\"Symmetric difference using ^: \",A^B)"
      ],
      "metadata": {
        "colab": {
          "base_uri": "https://localhost:8080/"
        },
        "id": "0KYxKETIRmvJ",
        "outputId": "bbc6ea75-416e-4def-f4d2-bad4d3739665"
      },
      "execution_count": null,
      "outputs": [
        {
          "output_type": "stream",
          "name": "stdout",
          "text": [
            "Symmetric difference using ^:  {0, 1, 2, 4, 6, 7}\n"
          ]
        }
      ]
    },
    {
      "cell_type": "code",
      "source": [
        "print(\"Symmetric difference using ^: \",B^A)"
      ],
      "metadata": {
        "colab": {
          "base_uri": "https://localhost:8080/"
        },
        "id": "mjvc1crxSEXJ",
        "outputId": "a519b48f-9215-4868-d316-241a1e4931cf"
      },
      "execution_count": null,
      "outputs": [
        {
          "output_type": "stream",
          "name": "stdout",
          "text": [
            "Symmetric difference using ^:  {0, 1, 2, 4, 6, 7}\n"
          ]
        }
      ]
    },
    {
      "cell_type": "code",
      "source": [
        "print(\"Symmetric difference using symmetric_difference function: \", A.symmetric_difference(B))"
      ],
      "metadata": {
        "colab": {
          "base_uri": "https://localhost:8080/"
        },
        "id": "X9tFCdYYSHse",
        "outputId": "7856f978-b2f2-4ecf-cd2f-a3f7fa534160"
      },
      "execution_count": null,
      "outputs": [
        {
          "output_type": "stream",
          "name": "stdout",
          "text": [
            "Symmetric difference using symmetric_difference function:  {0, 1, 2, 4, 6, 7}\n"
          ]
        }
      ]
    },
    {
      "cell_type": "markdown",
      "source": [
        "# Note:\n",
        "- Indexing and slicing is not possible in set because set is unordered data structure"
      ],
      "metadata": {
        "id": "3YOVUcmCeWSK"
      }
    },
    {
      "cell_type": "markdown",
      "source": [
        "# Dictionary:\n",
        "- Before Dictionary is unorder, After 3.7 version dictionary is order.\n",
        "- Each item of dictionary is key-value pair.\n",
        "- Optimise to retrive when key is known.\n",
        "- Values and key in dictionary are any datatype\n",
        "- Value can be duplicated, when keys can not be repeated and must be immutable.\n",
        "- Dictionary is order and mutable.\n"
      ],
      "metadata": {
        "id": "6ycFN0fgSboB"
      }
    },
    {
      "cell_type": "code",
      "source": [
        "d1 = {1:'Python',2:'Java',3:'C++', 'chhaya':'R', 'Kavita':[1,2,3], (4,9):'Surat'}\n",
        "print(d1)\n",
        "print(type(d1))\n",
        "d1['Shital']=(1,2,3)\n",
        "print(d1)"
      ],
      "metadata": {
        "colab": {
          "base_uri": "https://localhost:8080/"
        },
        "id": "2jg2KA-RfaAX",
        "outputId": "5e867292-7549-41a7-b10d-4c760e0f6820"
      },
      "execution_count": null,
      "outputs": [
        {
          "output_type": "stream",
          "name": "stdout",
          "text": [
            "{1: 'Python', 2: 'Java', 3: 'C++', 'chhaya': 'R', 'Kavita': [1, 2, 3], (4, 9): 'Surat'}\n",
            "<class 'dict'>\n",
            "{1: 'Python', 2: 'Java', 3: 'C++', 'chhaya': 'R', 'Kavita': [1, 2, 3], (4, 9): 'Surat', 'Shital': (1, 2, 3)}\n"
          ]
        }
      ]
    },
    {
      "cell_type": "code",
      "source": [
        "D = dict()\n",
        "print(D)\n",
        "print(type(D))"
      ],
      "metadata": {
        "colab": {
          "base_uri": "https://localhost:8080/"
        },
        "id": "xRsMnxXaSLAb",
        "outputId": "f5dabcd9-1a02-4c49-e6cc-ae066fe9b0ee"
      },
      "execution_count": null,
      "outputs": [
        {
          "output_type": "stream",
          "name": "stdout",
          "text": [
            "{}\n",
            "<class 'dict'>\n"
          ]
        }
      ]
    },
    {
      "cell_type": "code",
      "source": [
        "D1 = {1:'Python',3:'C++',2:'Java'}\n",
        "print(D1)\n",
        "print(type(D1))"
      ],
      "metadata": {
        "colab": {
          "base_uri": "https://localhost:8080/"
        },
        "id": "Te9KaLHPTfXG",
        "outputId": "c61c1186-d96a-4777-ad89-bc0f9db57573"
      },
      "execution_count": null,
      "outputs": [
        {
          "output_type": "stream",
          "name": "stdout",
          "text": [
            "{1: 'Python', 3: 'C++', 2: 'Java'}\n",
            "<class 'dict'>\n"
          ]
        }
      ]
    },
    {
      "cell_type": "code",
      "source": [
        "print(D1[2])"
      ],
      "metadata": {
        "colab": {
          "base_uri": "https://localhost:8080/"
        },
        "id": "7thg7Fz6Txpu",
        "outputId": "06e06b85-73f0-4b8a-f983-8eece1f9fe42"
      },
      "execution_count": null,
      "outputs": [
        {
          "output_type": "stream",
          "name": "stdout",
          "text": [
            "Java\n"
          ]
        }
      ]
    },
    {
      "cell_type": "code",
      "source": [
        "D1[4]='R'\n",
        "print(D1)"
      ],
      "metadata": {
        "colab": {
          "base_uri": "https://localhost:8080/"
        },
        "id": "wIpUW2PEUFjG",
        "outputId": "836b2203-537b-47a8-92cf-aea4302a61bc"
      },
      "execution_count": null,
      "outputs": [
        {
          "output_type": "stream",
          "name": "stdout",
          "text": [
            "{1: 'Python', 3: 'C++', 2: 'Java', 4: 'R'}\n"
          ]
        }
      ]
    },
    {
      "cell_type": "code",
      "source": [
        "# Delete operation\n",
        "# Here 3 is key\n",
        "del D1[3]"
      ],
      "metadata": {
        "id": "AJow29SRUVom"
      },
      "execution_count": null,
      "outputs": []
    },
    {
      "cell_type": "code",
      "source": [
        "print(D1)"
      ],
      "metadata": {
        "colab": {
          "base_uri": "https://localhost:8080/"
        },
        "id": "9WnTmj7xU4Od",
        "outputId": "fdd5bbcf-4eff-417c-e922-031d65be904f"
      },
      "execution_count": null,
      "outputs": [
        {
          "output_type": "stream",
          "name": "stdout",
          "text": [
            "{1: 'Python', 2: 'Java', 4: 'R'}\n"
          ]
        }
      ]
    },
    {
      "cell_type": "code",
      "source": [
        "print(D1.get(1))"
      ],
      "metadata": {
        "colab": {
          "base_uri": "https://localhost:8080/"
        },
        "id": "F_cuxEFhU5bs",
        "outputId": "7a29199c-f448-471c-b1c9-c5b94a247ac2"
      },
      "execution_count": null,
      "outputs": [
        {
          "output_type": "stream",
          "name": "stdout",
          "text": [
            "Python\n"
          ]
        }
      ]
    },
    {
      "cell_type": "code",
      "source": [
        "my_dict = {\"name\": \"Alice\", \"age\": 30}\n",
        "\n",
        "name = my_dict.get(\"name\")  # Returns \"Alice\"\n",
        "city = my_dict.get(\"city\")  # Returns None\n",
        "city_default = my_dict.get(\"city\", \"Unknown\")  # Returns \"Unknown\"\n",
        "\n",
        "print(name)\n",
        "print(city)\n",
        "print(city_default)"
      ],
      "metadata": {
        "colab": {
          "base_uri": "https://localhost:8080/"
        },
        "id": "hi7SgP_gijwV",
        "outputId": "e4126423-035e-4b0a-e936-ffbf38f8045c"
      },
      "execution_count": null,
      "outputs": [
        {
          "output_type": "stream",
          "name": "stdout",
          "text": [
            "Alice\n",
            "None\n",
            "Unknown\n"
          ]
        }
      ]
    },
    {
      "cell_type": "code",
      "source": [
        "D1[1]='Java Script'"
      ],
      "metadata": {
        "id": "Re2O5OloVMWy"
      },
      "execution_count": null,
      "outputs": []
    },
    {
      "cell_type": "code",
      "source": [
        "print(D1)"
      ],
      "metadata": {
        "colab": {
          "base_uri": "https://localhost:8080/"
        },
        "id": "5QzTGdaHVYa1",
        "outputId": "04307a15-11e2-458a-ec32-336deed762de"
      },
      "execution_count": null,
      "outputs": [
        {
          "output_type": "stream",
          "name": "stdout",
          "text": [
            "{1: 'Java Script', 2: 'Java', 4: 'R'}\n"
          ]
        }
      ]
    },
    {
      "cell_type": "code",
      "source": [
        "D1.pop()\n",
        "print(D1)"
      ],
      "metadata": {
        "colab": {
          "base_uri": "https://localhost:8080/",
          "height": 158
        },
        "id": "JjEL3EoPVZ16",
        "outputId": "a80fa780-0175-4976-b927-b2ea29772007"
      },
      "execution_count": null,
      "outputs": [
        {
          "output_type": "error",
          "ename": "TypeError",
          "evalue": "pop expected at least 1 argument, got 0",
          "traceback": [
            "\u001b[0;31m---------------------------------------------------------------------------\u001b[0m",
            "\u001b[0;31mTypeError\u001b[0m                                 Traceback (most recent call last)",
            "\u001b[0;32m<ipython-input-55-07ab2a10d29d>\u001b[0m in \u001b[0;36m<cell line: 0>\u001b[0;34m()\u001b[0m\n\u001b[0;32m----> 1\u001b[0;31m \u001b[0mD1\u001b[0m\u001b[0;34m.\u001b[0m\u001b[0mpop\u001b[0m\u001b[0;34m(\u001b[0m\u001b[0;34m)\u001b[0m\u001b[0;34m\u001b[0m\u001b[0;34m\u001b[0m\u001b[0m\n\u001b[0m\u001b[1;32m      2\u001b[0m \u001b[0mprint\u001b[0m\u001b[0;34m(\u001b[0m\u001b[0mD1\u001b[0m\u001b[0;34m)\u001b[0m\u001b[0;34m\u001b[0m\u001b[0;34m\u001b[0m\u001b[0m\n",
            "\u001b[0;31mTypeError\u001b[0m: pop expected at least 1 argument, got 0"
          ]
        }
      ]
    },
    {
      "cell_type": "code",
      "source": [
        "# In set pop() we doesn't pass any argument but in dict pop() we have to give 1 argument.\n",
        "D1.pop(1)\n",
        "print(D1)"
      ],
      "metadata": {
        "colab": {
          "base_uri": "https://localhost:8080/"
        },
        "id": "6pr6pdKdVh57",
        "outputId": "8102ac1e-a60c-498d-a327-3a7f0d42674f"
      },
      "execution_count": null,
      "outputs": [
        {
          "output_type": "stream",
          "name": "stdout",
          "text": [
            "{2: 'Java', 4: 'R'}\n"
          ]
        }
      ]
    },
    {
      "cell_type": "code",
      "source": [
        "# In popitem() Remove and return last inserted key value pair\n",
        "D1.popitem()\n",
        "print(D1)"
      ],
      "metadata": {
        "colab": {
          "base_uri": "https://localhost:8080/"
        },
        "id": "MJx4gCXnV6au",
        "outputId": "4a269785-4d7b-4464-cce5-4a2182b0852f"
      },
      "execution_count": null,
      "outputs": [
        {
          "output_type": "stream",
          "name": "stdout",
          "text": [
            "{2: 'Java'}\n"
          ]
        }
      ]
    },
    {
      "cell_type": "code",
      "source": [
        "d = {1:'Python',2:'Java',3:'C++',4:'R',5:'HTML'}\n",
        "print(d)\n",
        "d.pop(1)\n",
        "print(d)\n",
        "print(d.pop(2))\n",
        "print(d)\n",
        "print(d.popitem())\n",
        "print(d)\n",
        "print(d.pop(10))"
      ],
      "metadata": {
        "colab": {
          "base_uri": "https://localhost:8080/",
          "height": 280
        },
        "id": "NCoKYuZ_kLA8",
        "outputId": "f8994e5f-48a7-43ce-c615-4f126f5b213c"
      },
      "execution_count": null,
      "outputs": [
        {
          "output_type": "stream",
          "name": "stdout",
          "text": [
            "{1: 'Python', 2: 'Java', 3: 'C++', 4: 'R', 5: 'HTML'}\n",
            "{2: 'Java', 3: 'C++', 4: 'R', 5: 'HTML'}\n",
            "Java\n",
            "{3: 'C++', 4: 'R', 5: 'HTML'}\n",
            "(5, 'HTML')\n",
            "{3: 'C++', 4: 'R'}\n"
          ]
        },
        {
          "output_type": "error",
          "ename": "KeyError",
          "evalue": "10",
          "traceback": [
            "\u001b[0;31m---------------------------------------------------------------------------\u001b[0m",
            "\u001b[0;31mKeyError\u001b[0m                                  Traceback (most recent call last)",
            "\u001b[0;32m<ipython-input-20-f530e36c9c90>\u001b[0m in \u001b[0;36m<cell line: 0>\u001b[0;34m()\u001b[0m\n\u001b[1;32m      7\u001b[0m \u001b[0mprint\u001b[0m\u001b[0;34m(\u001b[0m\u001b[0md\u001b[0m\u001b[0;34m.\u001b[0m\u001b[0mpopitem\u001b[0m\u001b[0;34m(\u001b[0m\u001b[0;34m)\u001b[0m\u001b[0;34m)\u001b[0m\u001b[0;34m\u001b[0m\u001b[0;34m\u001b[0m\u001b[0m\n\u001b[1;32m      8\u001b[0m \u001b[0mprint\u001b[0m\u001b[0;34m(\u001b[0m\u001b[0md\u001b[0m\u001b[0;34m)\u001b[0m\u001b[0;34m\u001b[0m\u001b[0;34m\u001b[0m\u001b[0m\n\u001b[0;32m----> 9\u001b[0;31m \u001b[0mprint\u001b[0m\u001b[0;34m(\u001b[0m\u001b[0md\u001b[0m\u001b[0;34m.\u001b[0m\u001b[0mpop\u001b[0m\u001b[0;34m(\u001b[0m\u001b[0;36m10\u001b[0m\u001b[0;34m)\u001b[0m\u001b[0;34m)\u001b[0m\u001b[0;34m\u001b[0m\u001b[0;34m\u001b[0m\u001b[0m\n\u001b[0m",
            "\u001b[0;31mKeyError\u001b[0m: 10"
          ]
        }
      ]
    },
    {
      "cell_type": "code",
      "source": [
        "D1.clear() # Remove all the items\n",
        "print(D1)"
      ],
      "metadata": {
        "colab": {
          "base_uri": "https://localhost:8080/"
        },
        "id": "J5CUY8-JWE-T",
        "outputId": "d937a0b1-2f16-463d-fcce-ede8fd1dbb42"
      },
      "execution_count": null,
      "outputs": [
        {
          "output_type": "stream",
          "name": "stdout",
          "text": [
            "{}\n"
          ]
        }
      ]
    },
    {
      "cell_type": "code",
      "source": [
        "D2 = {1:100, 2:200, 3:300}\n",
        "print(D2)"
      ],
      "metadata": {
        "colab": {
          "base_uri": "https://localhost:8080/"
        },
        "id": "0jkiUTi9WgY5",
        "outputId": "12c0b1ed-9ee9-48a2-eec6-1742118c7c28"
      },
      "execution_count": null,
      "outputs": [
        {
          "output_type": "stream",
          "name": "stdout",
          "text": [
            "{1: 100, 2: 200, 3: 300}\n"
          ]
        }
      ]
    },
    {
      "cell_type": "code",
      "source": [
        "D3 = {4:400, 5:500, 6:600}\n",
        "print(D3)"
      ],
      "metadata": {
        "colab": {
          "base_uri": "https://localhost:8080/"
        },
        "id": "_VqfPFJzWq5e",
        "outputId": "cd47cbad-bbd9-4ea2-ea0b-4004a7f98641"
      },
      "execution_count": null,
      "outputs": [
        {
          "output_type": "stream",
          "name": "stdout",
          "text": [
            "{4: 400, 5: 500, 6: 600}\n"
          ]
        }
      ]
    },
    {
      "cell_type": "code",
      "source": [
        "print(D2.keys())"
      ],
      "metadata": {
        "colab": {
          "base_uri": "https://localhost:8080/"
        },
        "id": "Vhmjq0tuWxnI",
        "outputId": "bd4e808c-6b57-45a4-f9d1-602d152ddc76"
      },
      "execution_count": null,
      "outputs": [
        {
          "output_type": "stream",
          "name": "stdout",
          "text": [
            "dict_keys([1, 2, 3])\n"
          ]
        }
      ]
    },
    {
      "cell_type": "code",
      "source": [
        "print(D2.values())"
      ],
      "metadata": {
        "colab": {
          "base_uri": "https://localhost:8080/"
        },
        "id": "eRGoIdUkW1RF",
        "outputId": "9ce233a5-96bd-40cb-cafe-5195312b6a19"
      },
      "execution_count": null,
      "outputs": [
        {
          "output_type": "stream",
          "name": "stdout",
          "text": [
            "dict_values([100, 200, 300])\n"
          ]
        }
      ]
    },
    {
      "cell_type": "code",
      "source": [
        "print(D2.values)"
      ],
      "metadata": {
        "colab": {
          "base_uri": "https://localhost:8080/"
        },
        "id": "ppZGvYC6W68v",
        "outputId": "a95c7c3e-f76e-4790-d34e-901b17c3996d"
      },
      "execution_count": null,
      "outputs": [
        {
          "output_type": "stream",
          "name": "stdout",
          "text": [
            "<built-in method values of dict object at 0x78ae2d4c9a00>\n"
          ]
        }
      ]
    },
    {
      "cell_type": "code",
      "source": [
        "print(D2.items()) # Return list of element"
      ],
      "metadata": {
        "colab": {
          "base_uri": "https://localhost:8080/"
        },
        "id": "Tn3RqqBNXCwF",
        "outputId": "6b39c9f4-f70b-475b-93f3-e74d4d8d47e4"
      },
      "execution_count": null,
      "outputs": [
        {
          "output_type": "stream",
          "name": "stdout",
          "text": [
            "dict_items([(1, 100), (2, 200), (3, 300)])\n"
          ]
        }
      ]
    },
    {
      "cell_type": "code",
      "source": [
        "A = D2.items()\n",
        "print(A)\n",
        "print(type(A))"
      ],
      "metadata": {
        "colab": {
          "base_uri": "https://localhost:8080/"
        },
        "id": "7sO7Ti7VXQSh",
        "outputId": "56b0c251-ca9b-4606-9400-cb96bd449881"
      },
      "execution_count": null,
      "outputs": [
        {
          "output_type": "stream",
          "name": "stdout",
          "text": [
            "dict_items([(1, 100), (2, 200), (3, 300)])\n",
            "<class 'dict_items'>\n"
          ]
        }
      ]
    },
    {
      "cell_type": "code",
      "source": [
        "print(type(A))"
      ],
      "metadata": {
        "colab": {
          "base_uri": "https://localhost:8080/"
        },
        "id": "Cxn3Fm3JXhL1",
        "outputId": "9c5a4c92-4e3e-4211-ae03-1b95c612951b"
      },
      "execution_count": null,
      "outputs": [
        {
          "output_type": "stream",
          "name": "stdout",
          "text": [
            "<class 'dict_items'>\n"
          ]
        }
      ]
    },
    {
      "cell_type": "code",
      "source": [
        "# Merge dictionary\n",
        "\n",
        "D2.update(D3)"
      ],
      "metadata": {
        "id": "Vz9psmzHXkMN"
      },
      "execution_count": null,
      "outputs": []
    },
    {
      "cell_type": "code",
      "source": [
        "print(D2)"
      ],
      "metadata": {
        "colab": {
          "base_uri": "https://localhost:8080/"
        },
        "id": "YOK0djGyXtXx",
        "outputId": "ca272aff-d5ff-4468-f595-59b275f2a1d9"
      },
      "execution_count": null,
      "outputs": [
        {
          "output_type": "stream",
          "name": "stdout",
          "text": [
            "{1: 100, 2: 200, 3: 300, 4: 400, 5: 500, 6: 600}\n"
          ]
        }
      ]
    },
    {
      "cell_type": "code",
      "source": [
        "Z = {} # This give a dict not set.\n",
        "print(Z)\n",
        "print(type(Z))"
      ],
      "metadata": {
        "colab": {
          "base_uri": "https://localhost:8080/"
        },
        "id": "EB3VWAHUXvna",
        "outputId": "f9340142-972b-42b4-be46-6905e9b4cbf1"
      },
      "execution_count": null,
      "outputs": [
        {
          "output_type": "stream",
          "name": "stdout",
          "text": [
            "{}\n",
            "<class 'dict'>\n"
          ]
        }
      ]
    },
    {
      "cell_type": "code",
      "source": [
        "# How to add element in dictionary\n",
        "D = {1:100, 2:200, 3:300, 4:400, 5:500}\n",
        "print(D)\n",
        "D[9]=900   # First method\n",
        "print(D)\n",
        "D.update({6:600, 7:700})  # Second method\n",
        "print(D)\n",
        "D.update([(8,800),(10,1000)])  # Third method\n",
        "print(D)\n",
        "\n"
      ],
      "metadata": {
        "colab": {
          "base_uri": "https://localhost:8080/"
        },
        "id": "uLJDbQk3prLQ",
        "outputId": "e19f55d1-fd55-4245-e967-89d6fccb6e15"
      },
      "execution_count": null,
      "outputs": [
        {
          "output_type": "stream",
          "name": "stdout",
          "text": [
            "{1: 100, 2: 200, 3: 300, 4: 400, 5: 500}\n",
            "{1: 100, 2: 200, 3: 300, 4: 400, 5: 500, 9: 900}\n",
            "{1: 100, 2: 200, 3: 300, 4: 400, 5: 500, 9: 900, 6: 600, 7: 700}\n",
            "{1: 100, 2: 200, 3: 300, 4: 400, 5: 500, 9: 900, 6: 600, 7: 700, 8: 800, 10: 1000}\n"
          ]
        }
      ]
    },
    {
      "cell_type": "code",
      "source": [
        "# add element using | but it will return new dict\n",
        "my_dict = {\"a\": 1, \"b\": 2}\n",
        "new_dict = my_dict | {\"c\": 3, \"d\": 4}\n",
        "print(new_dict)  # Output: {'a': 1, 'b': 2, 'c': 3, 'd': 4}"
      ],
      "metadata": {
        "colab": {
          "base_uri": "https://localhost:8080/"
        },
        "id": "L3ygjyZSqzUl",
        "outputId": "a1b064f0-82a2-41d4-9294-62c0e1fad370"
      },
      "execution_count": null,
      "outputs": [
        {
          "output_type": "stream",
          "name": "stdout",
          "text": [
            "{'a': 1, 'b': 2, 'c': 3, 'd': 4}\n"
          ]
        }
      ]
    },
    {
      "cell_type": "code",
      "source": [
        "my_dict = {\"a\": 1, \"b\": 2}\n",
        "new_dict = dict(my_dict, c=3, d=4)\n",
        "print(new_dict)  # Output: {'a': 1, 'b': 2, 'c': 3, 'd': 4}"
      ],
      "metadata": {
        "colab": {
          "base_uri": "https://localhost:8080/"
        },
        "id": "BKh190eMrEYs",
        "outputId": "721bce6c-016b-4707-a1fc-cfcb7a74e7c3"
      },
      "execution_count": null,
      "outputs": [
        {
          "output_type": "stream",
          "name": "stdout",
          "text": [
            "{'a': 1, 'b': 2, 'c': 3, 'd': 4}\n"
          ]
        }
      ]
    },
    {
      "cell_type": "markdown",
      "source": [
        "# Notes:\n",
        "\n",
        "- Dictionaries in Python are not directly indexable or sliceable using numerical indices like lists or strings. They are accessed using their keys."
      ],
      "metadata": {
        "id": "rlg_LWFMjOUW"
      }
    },
    {
      "cell_type": "markdown",
      "source": [
        "# Extra For learning"
      ],
      "metadata": {
        "id": "c6ta35OCEBD3"
      }
    },
    {
      "cell_type": "code",
      "source": [
        "A = {'Amee':25.59,'Sonal':75.91,'Jeel':25.59,'Bansi':45.02,'Komal':55.09}\n",
        "n_d  = {key:value for key,value in sorted(A.keys())}\n",
        "print(n_d)"
      ],
      "metadata": {
        "colab": {
          "base_uri": "https://localhost:8080/",
          "height": 263
        },
        "id": "Dhlkgnuecj5s",
        "outputId": "69b6da01-2a2a-49be-90e4-ee92a1d86c6c"
      },
      "execution_count": 1,
      "outputs": [
        {
          "output_type": "error",
          "ename": "ValueError",
          "evalue": "too many values to unpack (expected 2)",
          "traceback": [
            "\u001b[0;31m---------------------------------------------------------------------------\u001b[0m",
            "\u001b[0;31mValueError\u001b[0m                                Traceback (most recent call last)",
            "\u001b[0;32m/tmp/ipython-input-1-1442062341.py\u001b[0m in \u001b[0;36m<cell line: 0>\u001b[0;34m()\u001b[0m\n\u001b[1;32m      1\u001b[0m \u001b[0mA\u001b[0m \u001b[0;34m=\u001b[0m \u001b[0;34m{\u001b[0m\u001b[0;34m'Amee'\u001b[0m\u001b[0;34m:\u001b[0m\u001b[0;36m25.59\u001b[0m\u001b[0;34m,\u001b[0m\u001b[0;34m'Sonal'\u001b[0m\u001b[0;34m:\u001b[0m\u001b[0;36m75.91\u001b[0m\u001b[0;34m,\u001b[0m\u001b[0;34m'Jeel'\u001b[0m\u001b[0;34m:\u001b[0m\u001b[0;36m25.59\u001b[0m\u001b[0;34m,\u001b[0m\u001b[0;34m'Bansi'\u001b[0m\u001b[0;34m:\u001b[0m\u001b[0;36m45.02\u001b[0m\u001b[0;34m,\u001b[0m\u001b[0;34m'Komal'\u001b[0m\u001b[0;34m:\u001b[0m\u001b[0;36m55.09\u001b[0m\u001b[0;34m}\u001b[0m\u001b[0;34m\u001b[0m\u001b[0;34m\u001b[0m\u001b[0m\n\u001b[0;32m----> 2\u001b[0;31m \u001b[0mn_d\u001b[0m  \u001b[0;34m=\u001b[0m \u001b[0;34m{\u001b[0m\u001b[0mkey\u001b[0m\u001b[0;34m:\u001b[0m\u001b[0mvalue\u001b[0m \u001b[0;32mfor\u001b[0m \u001b[0mkey\u001b[0m\u001b[0;34m,\u001b[0m\u001b[0mvalue\u001b[0m \u001b[0;32min\u001b[0m \u001b[0msorted\u001b[0m\u001b[0;34m(\u001b[0m\u001b[0mA\u001b[0m\u001b[0;34m.\u001b[0m\u001b[0mkeys\u001b[0m\u001b[0;34m(\u001b[0m\u001b[0;34m)\u001b[0m\u001b[0;34m)\u001b[0m\u001b[0;34m}\u001b[0m\u001b[0;34m\u001b[0m\u001b[0;34m\u001b[0m\u001b[0m\n\u001b[0m\u001b[1;32m      3\u001b[0m \u001b[0mprint\u001b[0m\u001b[0;34m(\u001b[0m\u001b[0mn_d\u001b[0m\u001b[0;34m)\u001b[0m\u001b[0;34m\u001b[0m\u001b[0;34m\u001b[0m\u001b[0m\n",
            "\u001b[0;32m/tmp/ipython-input-1-1442062341.py\u001b[0m in \u001b[0;36m<dictcomp>\u001b[0;34m(.0)\u001b[0m\n\u001b[1;32m      1\u001b[0m \u001b[0mA\u001b[0m \u001b[0;34m=\u001b[0m \u001b[0;34m{\u001b[0m\u001b[0;34m'Amee'\u001b[0m\u001b[0;34m:\u001b[0m\u001b[0;36m25.59\u001b[0m\u001b[0;34m,\u001b[0m\u001b[0;34m'Sonal'\u001b[0m\u001b[0;34m:\u001b[0m\u001b[0;36m75.91\u001b[0m\u001b[0;34m,\u001b[0m\u001b[0;34m'Jeel'\u001b[0m\u001b[0;34m:\u001b[0m\u001b[0;36m25.59\u001b[0m\u001b[0;34m,\u001b[0m\u001b[0;34m'Bansi'\u001b[0m\u001b[0;34m:\u001b[0m\u001b[0;36m45.02\u001b[0m\u001b[0;34m,\u001b[0m\u001b[0;34m'Komal'\u001b[0m\u001b[0;34m:\u001b[0m\u001b[0;36m55.09\u001b[0m\u001b[0;34m}\u001b[0m\u001b[0;34m\u001b[0m\u001b[0;34m\u001b[0m\u001b[0m\n\u001b[0;32m----> 2\u001b[0;31m \u001b[0mn_d\u001b[0m  \u001b[0;34m=\u001b[0m \u001b[0;34m{\u001b[0m\u001b[0mkey\u001b[0m\u001b[0;34m:\u001b[0m\u001b[0mvalue\u001b[0m \u001b[0;32mfor\u001b[0m \u001b[0mkey\u001b[0m\u001b[0;34m,\u001b[0m\u001b[0mvalue\u001b[0m \u001b[0;32min\u001b[0m \u001b[0msorted\u001b[0m\u001b[0;34m(\u001b[0m\u001b[0mA\u001b[0m\u001b[0;34m.\u001b[0m\u001b[0mkeys\u001b[0m\u001b[0;34m(\u001b[0m\u001b[0;34m)\u001b[0m\u001b[0;34m)\u001b[0m\u001b[0;34m}\u001b[0m\u001b[0;34m\u001b[0m\u001b[0;34m\u001b[0m\u001b[0m\n\u001b[0m\u001b[1;32m      3\u001b[0m \u001b[0mprint\u001b[0m\u001b[0;34m(\u001b[0m\u001b[0mn_d\u001b[0m\u001b[0;34m)\u001b[0m\u001b[0;34m\u001b[0m\u001b[0;34m\u001b[0m\u001b[0m\n",
            "\u001b[0;31mValueError\u001b[0m: too many values to unpack (expected 2)"
          ]
        }
      ]
    },
    {
      "cell_type": "code",
      "source": [
        "# How to perform sorting in dictionary\n",
        "D = {'Amee':25.59,'Sonal':75.91,'Jeel':25.59,'Bansi':45.02,'Komal':55.09}\n",
        "\n",
        "# Dictionary sort by key\n",
        "new_dict = {key:value for key,value in sorted(D.items())}\n",
        "print(new_dict)\n",
        "\n",
        "# Dictionary sort by value\n",
        "new_dict1 = {key:value for key,value in sorted(D.items(),key=lambda x:x[1])}\n",
        "print(new_dict1)\n",
        "\n",
        "# How to get first key of dictionary\n",
        "print(list(D.keys())[0]) ## First way\n",
        "print(list(D)[0]) ## Second way\n",
        "First_key = next(iter(D))\n",
        "print(First_key) ## Third way\n",
        "\n",
        "# How to get first value of dictionary\n",
        "print(list(D.values())[0]) ## First way\n",
        "First_value = next(iter(D.values()))\n",
        "print(First_value) ## Second way"
      ],
      "metadata": {
        "id": "SGrLMCt2Yb8t",
        "colab": {
          "base_uri": "https://localhost:8080/"
        },
        "outputId": "e096119c-bf14-4b29-916f-b44639218f6c"
      },
      "execution_count": null,
      "outputs": [
        {
          "output_type": "stream",
          "name": "stdout",
          "text": [
            "{'Amee': 25.59, 'Bansi': 45.02, 'Jeel': 25.59, 'Komal': 55.09, 'Sonal': 75.91}\n",
            "{'Amee': 25.59, 'Jeel': 25.59, 'Bansi': 45.02, 'Komal': 55.09, 'Sonal': 75.91}\n",
            "Amee\n",
            "Amee\n",
            "Amee\n",
            "25.59\n",
            "25.59\n"
          ]
        }
      ]
    },
    {
      "cell_type": "code",
      "source": [
        "DD = {'Amee':25.59,'Sonal':75.91,'Jeel':25.59,'Bansi':45.02,'Komal':55.09}\n",
        "print(list(DD))\n",
        "print(list(DD)[0])"
      ],
      "metadata": {
        "colab": {
          "base_uri": "https://localhost:8080/"
        },
        "id": "pF-AWUnIef9A",
        "outputId": "0b572eb0-1d32-4fbc-9c1f-0324514dbb3d"
      },
      "execution_count": 2,
      "outputs": [
        {
          "output_type": "stream",
          "name": "stdout",
          "text": [
            "['Amee', 'Sonal', 'Jeel', 'Bansi', 'Komal']\n",
            "Amee\n"
          ]
        }
      ]
    },
    {
      "cell_type": "code",
      "source": [
        "# How you get average marks of specific person with two or three decimal place\n",
        "DDD = {\"MAYA\":[1,5,89],\"KAVITA\":[56,45,68],\"RIMA\":[89,56,79]}\n",
        "\n",
        "# Now we find average marks of kavita with two decimal place\n",
        "query_name = \"KAVITA\"\n",
        "print(f\"{sum(DDD[query_name])/3:.2f}\")"
      ],
      "metadata": {
        "colab": {
          "base_uri": "https://localhost:8080/"
        },
        "id": "NYSSjAbJgraR",
        "outputId": "7c87b54d-fa51-40a4-81b1-00d26070498d"
      },
      "execution_count": null,
      "outputs": [
        {
          "output_type": "stream",
          "name": "stdout",
          "text": [
            "56.33\n"
          ]
        }
      ]
    },
    {
      "cell_type": "markdown",
      "source": [
        "# Notes:\n",
        "\n",
        "## STRING:\n",
        "  - order: not applicable,\n",
        "  - immutable'\n",
        "  - String is iterable\n",
        "  - How to create string: not applicable,\n",
        "  - indexing and slicing is possible\n",
        "  - How to add element: Not possible\n",
        "  - How to delete element: Not possible\n",
        "  - Type of element: Not applicable\n",
        "  - pop(): Not applicable\n",
        "\n",
        "## LIST:  \n",
        "  - ordered,\n",
        "  - mutable(unhashable)\n",
        "  - List is iterable\n",
        "  - how to create:[], list(),\n",
        "  - indexing and slicing is possible,\n",
        "  - How to add element: append(), extend(), insert()\n",
        "  - How to delete element: del a[index], a.remove(element), clear(), using list comprehension\n",
        "  - Duplicate element: Not applicable\n",
        "  - Type of element: Homogeneous, Heterogeneous\n",
        "  - pop(): list pop() method remove last element of list and return it.\n",
        "\n",
        "## TUPLE:\n",
        "  - ordered,\n",
        "  - immutable\n",
        "  - Tuple is iterable\n",
        "  - How to create: (), tuple(),\n",
        "  - indexing and slicing is possible\n",
        "  - How to add element: Not possible\n",
        "  - How to delete element: Not possible\n",
        "  - Duplicate element: Not applicable\n",
        "  - Type of element: Homogeneous, Heterogeneous\n",
        "\n",
        "## SET:\n",
        "  - Unordered,\n",
        "  - mutable(unhashable)\n",
        "  - How to create: set()\n",
        "  - Indexing and slicing: Not possible(Because set is unordered data structure)\n",
        "  - How to add element: add(element), update(iterable_object)\n",
        "  - How to delete element: discard(element), remove(element), clear(), del\n",
        "  - Duplicate Element: No duplicate element\n",
        "  - Type of element: Homogeneous, Heterogeneous\n",
        "  - pop(): set pop() method remove first element of set and return it.\n",
        "\n",
        "## DICTIONARY:(Key-Value)\n",
        "  - Ordered,\n",
        "  - mutable(unhashable)\n",
        "  - How to create: dict(), {}\n",
        "  - Indexing and slicing: Not Possible\n",
        "  - How to add element: D[key]=value, update()\n",
        "  - How to delete element: del d[key]\n",
        "  - Duplicate element: duplicate key is not possible but value may or may not be duplicate.\n",
        "  - Type of element: any datatype can be added in place of key and value, but key should be unique\n",
        "  - pop(): pop() without argument not possible in dictionary, we have to give at least one argument in pop(). that means pop(key) will return value and if specific key is not present it will give error. Also popitem() is one of the method in dictionary who remove last element from dictionary. And return last element of dictionary, i.e last key-value\n",
        "  - get(): get(key) is only use in dictionary for retriving value. If specific key is not present it will give None\n",
        "\n"
      ],
      "metadata": {
        "id": "VglVAZALuCic"
      }
    },
    {
      "cell_type": "code",
      "source": [],
      "metadata": {
        "id": "KDIuIUbQFRid"
      },
      "execution_count": null,
      "outputs": []
    }
  ]
}