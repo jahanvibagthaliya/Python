{
 "cells": [
  {
   "cell_type": "markdown",
   "id": "4998cecc-3293-45b2-809d-79b3557192c2",
   "metadata": {},
   "source": [
    "# Write a program for prime number"
   ]
  },
  {
   "cell_type": "code",
   "execution_count": 11,
   "id": "8416fe45-23b4-4ff2-ad95-33364c1963f4",
   "metadata": {},
   "outputs": [
    {
     "name": "stdin",
     "output_type": "stream",
     "text": [
      "Enter a number:  37\n"
     ]
    },
    {
     "name": "stdout",
     "output_type": "stream",
     "text": [
      "Given number 37 is prime\n"
     ]
    }
   ],
   "source": [
    "# Prime number:\n",
    "\n",
    "no = int(input(\"Enter a number: \"))\n",
    "for i in range(2,no):\n",
    "    if no%i == 0:\n",
    "        print(\"Given number\",no, \"is not prime\")\n",
    "        break\n",
    "else:\n",
    "    print(\"Given number\",no,\"is prime\")"
   ]
  },
  {
   "cell_type": "markdown",
   "id": "484036c6-f213-44ce-8205-386b2acc37d4",
   "metadata": {},
   "source": [
    "# Write program for factorial"
   ]
  },
  {
   "cell_type": "code",
   "execution_count": 14,
   "id": "4af77712-5854-41ab-b709-5909cef5dc8a",
   "metadata": {},
   "outputs": [
    {
     "name": "stdin",
     "output_type": "stream",
     "text": [
      "Enter your number:  6\n"
     ]
    },
    {
     "data": {
      "text/plain": [
       "720"
      ]
     },
     "execution_count": 14,
     "metadata": {},
     "output_type": "execute_result"
    }
   ],
   "source": [
    "# Factorial:\n",
    "\n",
    "def factorial(no):\n",
    "    a = 1\n",
    "    for i in range(1,no+1):\n",
    "        a *= i\n",
    "    return a\n",
    "\n",
    "no = int(input(\"Enter your number: \"))\n",
    "factorial(no)"
   ]
  },
  {
   "cell_type": "markdown",
   "id": "b1da8fd7-14c3-4999-bdf2-93dd09dc5db1",
   "metadata": {},
   "source": [
    "# Write program for Pyramid"
   ]
  },
  {
   "cell_type": "code",
   "execution_count": 22,
   "id": "4fa3f1f9-c0c7-482d-bddc-fcfe2af316f3",
   "metadata": {},
   "outputs": [
    {
     "name": "stdin",
     "output_type": "stream",
     "text": [
      "Enter a size of Pyramid:  5\n"
     ]
    },
    {
     "name": "stdout",
     "output_type": "stream",
     "text": [
      "    *\n",
      "   ***\n",
      "  *****\n",
      " *******\n",
      "*********\n"
     ]
    }
   ],
   "source": [
    "# Pyramid\n",
    "\n",
    "def print_pyramid(n):\n",
    "    for i in range(1,n+1):\n",
    "        print(\" \"*(n-i),end=\"\")\n",
    "        print(\"*\"*(2*i-1))\n",
    "\n",
    "no = int(input(\"Enter a size of Pyramid: \"))\n",
    "print_pyramid(no)"
   ]
  },
  {
   "cell_type": "markdown",
   "id": "35b30620-050b-4d07-ba5c-caeac6425f3f",
   "metadata": {},
   "source": [
    "# Importance of * in python:"
   ]
  },
  {
   "cell_type": "markdown",
   "id": "5afa2957-d975-439d-b982-a7295a96c091",
   "metadata": {},
   "source": [
    "- With the use of *args you can pass any no of arguments to your function"
   ]
  },
  {
   "cell_type": "code",
   "execution_count": 2,
   "id": "462e44e4-fd91-4e56-a518-e5ae955f021d",
   "metadata": {},
   "outputs": [
    {
     "name": "stdout",
     "output_type": "stream",
     "text": [
      "Hi! I am Jahanvi\n",
      "Hi! I am Tejashree\n",
      "Hi! I am Rohan\n",
      "Hi! I am Susmita\n"
     ]
    }
   ],
   "source": [
    "def student_intro(*args):\n",
    "    for name in args:\n",
    "        print(\"Hi! I am\",name)\n",
    "\n",
    "student_intro(\"Jahanvi\",\"Tejashree\",\"Rohan\",\"Susmita\")"
   ]
  },
  {
   "cell_type": "code",
   "execution_count": 3,
   "id": "764ff5f3-61bf-406b-8eec-2fb3186496df",
   "metadata": {},
   "outputs": [
    {
     "name": "stdout",
     "output_type": "stream",
     "text": [
      "99\n",
      "57\n"
     ]
    }
   ],
   "source": [
    "def max_all(*args):\n",
    "    return max(args)\n",
    "\n",
    "print(max_all(1,5,10,99,45,97,96))\n",
    "print(max_all(55,57,56,53,51,55,54))"
   ]
  },
  {
   "cell_type": "markdown",
   "id": "fc413281-0bea-4d9a-a46d-4354083d17a1",
   "metadata": {},
   "source": [
    "# Importance of ** in python:\n",
    "- In Python, ** is used to unpack a dictionary into keyword arguments when calling a function, or to define functions that accept any number of keyword arguments.\n",
    "\n"
   ]
  },
  {
   "cell_type": "code",
   "execution_count": 33,
   "id": "d554716f-9be0-4d59-8962-3d06ad4a8479",
   "metadata": {},
   "outputs": [
    {
     "name": "stdout",
     "output_type": "stream",
     "text": [
      "Details received:\n",
      "name : Jahanvi\n",
      "age : 27\n",
      "city : Pune\n",
      "course : PGDDSAI\n",
      "MIS : 752562001\n"
     ]
    }
   ],
   "source": [
    "# Arbitrary Keyword Arguments in Function Definitions \n",
    "\n",
    "def student_info(**details):\n",
    "   print(\"Details received:\")\n",
    "   for key, value in details.items():\n",
    "        print(key,\":\", value)\n",
    "\n",
    "student_info(name=\"Jahanvi\", age=27, city=\"Pune\", course=\"PGDDSAI\", MIS=752562001)\n"
   ]
  },
  {
   "cell_type": "code",
   "execution_count": 31,
   "id": "ac067f28-8e1a-4772-9321-dbcc11601346",
   "metadata": {},
   "outputs": [
    {
     "name": "stdout",
     "output_type": "stream",
     "text": [
      "Hello my name is Jahanvi I am 27 years old I am from Pune\n"
     ]
    }
   ],
   "source": [
    "# Unpacking Dictionaries as Keyword Arguments in Function Calls:\n",
    "\n",
    "def intro(name,age,city):\n",
    "    print(\"Hello my name is\",name,\"I am\",age,\"years old\",\"I am from\",city)\n",
    "\n",
    "data={\"name\":\"Jahanvi\",\"age\":27,\"city\":\"Pune\"}\n",
    "intro(**data)\n",
    "   "
   ]
  },
  {
   "cell_type": "code",
   "execution_count": 34,
   "id": "88740ff5-03ca-423e-a4e0-35c50d536237",
   "metadata": {},
   "outputs": [
    {
     "name": "stdout",
     "output_type": "stream",
     "text": [
      "Positional arguments: (1, 2, 3)\n",
      "Keyword arguments: {'name': 'Jahanvi', 'city': 'Pune', 'age': 27, 'course': 'PGDDSAL', 'MIS': 752562001}\n"
     ]
    }
   ],
   "source": [
    "# Mix use of * and **\n",
    "\n",
    "def summary(*args, **kwargs):\n",
    "    print(\"Positional arguments:\", args)\n",
    "    print(\"Keyword arguments:\", kwargs)\n",
    "\n",
    "summary(1, 2, 3, name=\"Jahanvi\", city=\"Pune\", age=27, course=\"PGDDSAL\", MIS=752562001)\n"
   ]
  },
  {
   "cell_type": "markdown",
   "id": "3fb9123c-d25a-4d7b-bb77-df5c81daab9f",
   "metadata": {},
   "source": [
    "# Importance of seek() and tell() in file handling\n",
    "- In python, the seek() and tell() functions are used to work with file objects and their positions within a file.\n",
    "## seek():\n",
    "- The seek() function allows you to move the current position within a file to a specific point. The position is specified in bytes, and you can move either forward or backward from the current position."
   ]
  },
  {
   "cell_type": "code",
   "execution_count": 35,
   "id": "37ade6e2-2e95-48e4-8c61-2ee1f356cc53",
   "metadata": {},
   "outputs": [
    {
     "name": "stdout",
     "output_type": "stream",
     "text": [
      "24\n",
      "10\n",
      "ame i\n"
     ]
    }
   ],
   "source": [
    "# seek() example:\n",
    "\n",
    "f1 = open(\"file.txt\",'w+')\n",
    "print(f1.write(\"Hello my name is Jahanvi\"))\n",
    "# move to 10th byte in the file\n",
    "print(f1.seek(10))\n",
    "# Read next 5 bytes\n",
    "data = f1.read(5)\n",
    "print(data)\n",
    "f1.close()"
   ]
  },
  {
   "cell_type": "markdown",
   "id": "5612a84e-6849-4285-8229-523d6a86942d",
   "metadata": {},
   "source": [
    " ## tell():\n",
    "- The tell() function returns the current position within the file, in bytes. This can be useful for keeping track of your location within the file or for seeking to a specific position relative to the current position."
   ]
  },
  {
   "cell_type": "code",
   "execution_count": 36,
   "id": "4ba2f186-37d4-43d9-bfc3-f345e14c8a1a",
   "metadata": {},
   "outputs": [
    {
     "name": "stdout",
     "output_type": "stream",
     "text": [
      "Hello my n\n",
      "10\n"
     ]
    }
   ],
   "source": [
    "# tell() example\n",
    "\n",
    "f2 = open(\"file.txt\",'r')\n",
    "# read the first 10 bytes\n",
    "print(f2.read(10))\n",
    "# save the current position\n",
    "current_position = f2.tell()\n",
    "# seek to the saved position\n",
    "print(f2.seek(current_position))"
   ]
  },
  {
   "cell_type": "code",
   "execution_count": 9,
   "id": "f96f6ec3-2746-427c-9013-0073c6fcc0a3",
   "metadata": {},
   "outputs": [
    {
     "name": "stdout",
     "output_type": "stream",
     "text": [
      "\n",
      "I worked as Test Engineer \n",
      "\n"
     ]
    }
   ],
   "source": [
    "# How to read second last line\n",
    "f3 = open(\"fill.txt\",\"w+\")\n",
    "lines = [\"Good Morning! \\n\",\"I am Jahanvi \\n\",\"I am from Gujarat \\n\",\"I worked as Test Engineer \\n\",\"Thank you \\n\"]\n",
    "f3.writelines(lines)\n",
    "if len(lines) >= 2:\n",
    "    print(lines[-2])\n",
    "else:\n",
    "    print(\"File doesn't have enough lines\")\n",
    "f3.close()"
   ]
  },
  {
   "cell_type": "markdown",
   "id": "3a8841d0-8ca0-49aa-b59c-dbdb99bff205",
   "metadata": {},
   "source": [
    "# Use lambda Function and display Fibonnaci series"
   ]
  },
  {
   "cell_type": "code",
   "execution_count": 1,
   "id": "ba5363f7-a01e-4abb-ba60-b8a7586a461a",
   "metadata": {},
   "outputs": [
    {
     "name": "stdin",
     "output_type": "stream",
     "text": [
      "Enter a number:  5\n"
     ]
    },
    {
     "name": "stdout",
     "output_type": "stream",
     "text": [
      "[0, 1, 1, 2, 3]\n"
     ]
    }
   ],
   "source": [
    "num = int(input(\"Enter a number: \"))\n",
    "fibonacci = lambda number : number if number <= 1 else fibonacci(number-1) + fibonacci(number-2)\n",
    "list_of_fibonacci_number = list(map(fibonacci, range(0,num,1)))\n",
    "print(list_of_fibonacci_number)"
   ]
  },
  {
   "cell_type": "markdown",
   "id": "269af4c7-985a-4769-8222-45013f24d39e",
   "metadata": {},
   "source": [
    "# Type of Inheritance:\n",
    "- There are total 5 type of inheritance\n",
    "    1. Single Inheritance\n",
    "    2. Multiple Inheritance\n",
    "    3. Multilevel Inheritance\n",
    "    4. Hierarchical Inheritance\n",
    "    5. Hybrid Inheritance"
   ]
  },
  {
   "cell_type": "code",
   "execution_count": 2,
   "id": "311521b4-5b92-4fa5-be05-18b373971e20",
   "metadata": {},
   "outputs": [
    {
     "name": "stdout",
     "output_type": "stream",
     "text": [
      "Sardar Patel University Student\n",
      "Probability is one of the subjects that is taught in the Maths Department\n"
     ]
    }
   ],
   "source": [
    "# Single Inheritance\n",
    "class SPU:\n",
    "    def student(self):\n",
    "        print(\"Sardar Patel University Student\")\n",
    "\n",
    "class MathsDepartment(SPU):\n",
    "    def subject(self):\n",
    "        print(\"Probability is one of the subjects that is taught in the Maths Department\")\n",
    "\n",
    "maths=MathsDepartment()\n",
    "maths.student()\n",
    "maths.subject()"
   ]
  },
  {
   "cell_type": "code",
   "execution_count": 4,
   "id": "4368e3e2-e51a-489e-98e9-c432f5dcc404",
   "metadata": {},
   "outputs": [
    {
     "name": "stdout",
     "output_type": "stream",
     "text": [
      "Sardar Patel University Student\n",
      "Probability is one of the subjects that is taught in the Maths Department\n",
      "I am a student of maths department from SPU\n"
     ]
    }
   ],
   "source": [
    "# Multiple Inheritance\n",
    "class SPU:\n",
    "    def student(self):\n",
    "        print(\"Sardar Patel University Student\")\n",
    "\n",
    "class MathsDepartment:\n",
    "    def subject(self):\n",
    "        print(\"Probability is one of the subjects that is taught in the Maths Department\")\n",
    "\n",
    "class Student(SPU,MathsDepartment):\n",
    "    def study(self):\n",
    "        print(\"I am a student of maths department from SPU\")\n",
    "\n",
    "stu=Student()\n",
    "stu.student()\n",
    "stu.subject()\n",
    "stu.study()"
   ]
  },
  {
   "cell_type": "code",
   "execution_count": 5,
   "id": "bd1d007c-6556-473b-973e-f8f3ddb30dfd",
   "metadata": {},
   "outputs": [
    {
     "name": "stdout",
     "output_type": "stream",
     "text": [
      "Sardar Patel University Student\n",
      "Probability is one of the subjects that is taught in the Maths Department\n",
      "I am a student of maths department from SPU\n"
     ]
    }
   ],
   "source": [
    "# Multilevel Inheritance\n",
    "class SPU:\n",
    "    def student(self):\n",
    "        print(\"Sardar Patel University Student\")\n",
    "\n",
    "class MathsDepartment(SPU):\n",
    "    def subject(self):\n",
    "        print(\"Probability is one of the subjects that is taught in the Maths Department\")\n",
    "\n",
    "class Student(MathsDepartment):\n",
    "    def study(self):\n",
    "        print(\"I am a student of maths department from SPU\")\n",
    "\n",
    "stu=Student()\n",
    "stu.student()\n",
    "stu.subject()\n",
    "stu.study()"
   ]
  },
  {
   "cell_type": "code",
   "execution_count": 7,
   "id": "c820006f-5fb3-45d9-bd7b-dddb10ac6623",
   "metadata": {},
   "outputs": [
    {
     "name": "stdout",
     "output_type": "stream",
     "text": [
      "Sardar Patel University\n",
      "Mathematics Department is one of the department in Sardar Patel University\n",
      "\n",
      "Sardar Patel University\n",
      "I am a student of Sardar Patel University\n"
     ]
    }
   ],
   "source": [
    "# Hierarchical Inheritance\n",
    "class SPU:\n",
    "    def university(self):\n",
    "        print(\"Sardar Patel University\")\n",
    "\n",
    "class MathsDepartment(SPU):\n",
    "    def subject(self):\n",
    "        print(\"Mathematics Department is one of the department in Sardar Patel University\")\n",
    "\n",
    "class Student(SPU):\n",
    "    def study(self):\n",
    "        print(\"I am a student of Sardar Patel University\")\n",
    "\n",
    "m1 = MathsDepartment()\n",
    "m1.university()\n",
    "m1.subject()\n",
    "print()\n",
    "s1 = Student()\n",
    "s1.university()\n",
    "s1.study()"
   ]
  },
  {
   "cell_type": "code",
   "execution_count": 8,
   "id": "e78171c0-269b-4173-93d1-5526bd049d98",
   "metadata": {},
   "outputs": [
    {
     "name": "stdout",
     "output_type": "stream",
     "text": [
      "Sardar Patel University\n",
      "Mathematics Department is one of the department in Sardar Patel University\n",
      "I am a student of Sardar Patel University\n",
      "Graph Coloring is one of the topic in Graph Theory\n"
     ]
    }
   ],
   "source": [
    "# Hybrid Inheritance\n",
    "class SPU:\n",
    "    def university(self):\n",
    "        print(\"Sardar Patel University\")\n",
    "\n",
    "class MathsDepartment(SPU):\n",
    "    def subject(self):\n",
    "        print(\"Mathematics Department is one of the department in Sardar Patel University\")\n",
    "\n",
    "class Student(SPU):\n",
    "    def study(self):\n",
    "        print(\"I am a student of Sardar Patel University\")\n",
    "\n",
    "class Graphtheory(MathsDepartment,Student):\n",
    "    def unit(self):\n",
    "        print(\"Graph Coloring is one of the topic in Graph Theory\")\n",
    "\n",
    "g = Graphtheory()\n",
    "g.university()\n",
    "g.subject()\n",
    "g.study()\n",
    "g.unit()"
   ]
  },
  {
   "cell_type": "code",
   "execution_count": null,
   "id": "60d3cea3-3a38-468c-b66c-68001b4ba0d5",
   "metadata": {},
   "outputs": [],
   "source": []
  }
 ],
 "metadata": {
  "kernelspec": {
   "display_name": "Python 3 (ipykernel)",
   "language": "python",
   "name": "python3"
  },
  "language_info": {
   "codemirror_mode": {
    "name": "ipython",
    "version": 3
   },
   "file_extension": ".py",
   "mimetype": "text/x-python",
   "name": "python",
   "nbconvert_exporter": "python",
   "pygments_lexer": "ipython3",
   "version": "3.12.7"
  }
 },
 "nbformat": 4,
 "nbformat_minor": 5
}
