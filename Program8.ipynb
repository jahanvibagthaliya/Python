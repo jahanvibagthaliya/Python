{
  "nbformat": 4,
  "nbformat_minor": 0,
  "metadata": {
    "colab": {
      "provenance": []
    },
    "kernelspec": {
      "name": "python3",
      "display_name": "Python 3"
    },
    "language_info": {
      "name": "python"
    }
  },
  "cells": [
    {
      "cell_type": "markdown",
      "source": [
        "# Function:\n",
        "- Function is subset of program. It is a sub-program\n",
        "- Function is a group or block of statement that togather perform single, specific and well define task.\n",
        "- It is writen only once and resued whenever required, as many time as required.\n",
        "- The function will carry out intended action whenever it is called or invoked.\n",
        "\n",
        "# Modularity:\n",
        "- Break big problem into smaller once\n",
        "\n",
        "# Resued:\n",
        "- Build using what others have already built.\n",
        "\n",
        "# Abstrection:\n",
        "- we know its operation but we don't know its implementation.\n"
      ],
      "metadata": {
        "id": "zYU90vxPwZZe"
      }
    },
    {
      "cell_type": "markdown",
      "source": [
        "# Three type of function:\n",
        "1. Built in function or Predefine function:(print,input, count, len)\n",
        "2. User define function:\n",
        "   - This function are defined by the user at the time of writing the program according to requirement\n",
        "3. Anonymous Function:\n",
        "   - This function are also called lambda function because they are not declared with standard def keyword.\n",
        "4. Recursion function:\n",
        "   - The function called itself in its body."
      ],
      "metadata": {
        "id": "Z55UU4Z_ynSq"
      }
    },
    {
      "cell_type": "markdown",
      "source": [
        "# User define function:\n",
        "- To define python function we use the def keyword before it's name to be followed by paranthesis, before a colon\n",
        "\n",
        "- Systex:\n",
        "   - def function name():\n",
        "   -     body of a function\n",
        "   -     return(expression)"
      ],
      "metadata": {
        "id": "4tvUeCRF0-y_"
      }
    },
    {
      "cell_type": "code",
      "execution_count": null,
      "metadata": {
        "id": "ZC21sPg8v4qR"
      },
      "outputs": [],
      "source": [
        "# Function define\n",
        "def Addition():\n",
        "  num1 = int(input(\"Enter a number 1: \"))\n",
        "  num2 = int(input(\"Enter a number 2: \"))\n",
        "  print(num1+num2)"
      ]
    },
    {
      "cell_type": "code",
      "source": [
        "# Function called\n",
        "Addition()"
      ],
      "metadata": {
        "colab": {
          "base_uri": "https://localhost:8080/"
        },
        "id": "f_xvULIZ2wvF",
        "outputId": "0e52d4bf-3cef-49f8-e9f8-f7169234dc3a"
      },
      "execution_count": null,
      "outputs": [
        {
          "output_type": "stream",
          "name": "stdout",
          "text": [
            "Enter a number 1: 5\n",
            "Enter a number 2: 3\n",
            "8\n"
          ]
        }
      ]
    },
    {
      "cell_type": "code",
      "source": [
        "# We can't call function directly before define\n",
        "sum()\n",
        "def sum():\n",
        "  num1 = int(input(\"Enter a number 1: \"))\n",
        "  num2 = int(input(\"Enter a number 2: \"))\n",
        "  print(num1+num2)"
      ],
      "metadata": {
        "colab": {
          "base_uri": "https://localhost:8080/",
          "height": 211
        },
        "id": "OgnybUGS2_ES",
        "outputId": "7721533f-659e-43fd-ea86-bc522527436c"
      },
      "execution_count": null,
      "outputs": [
        {
          "output_type": "error",
          "ename": "TypeError",
          "evalue": "sum() takes at least 1 positional argument (0 given)",
          "traceback": [
            "\u001b[0;31m---------------------------------------------------------------------------\u001b[0m",
            "\u001b[0;31mTypeError\u001b[0m                                 Traceback (most recent call last)",
            "\u001b[0;32m/tmp/ipython-input-3-2606588058.py\u001b[0m in \u001b[0;36m<cell line: 0>\u001b[0;34m()\u001b[0m\n\u001b[0;32m----> 1\u001b[0;31m \u001b[0msum\u001b[0m\u001b[0;34m(\u001b[0m\u001b[0;34m)\u001b[0m\u001b[0;34m\u001b[0m\u001b[0;34m\u001b[0m\u001b[0m\n\u001b[0m\u001b[1;32m      2\u001b[0m \u001b[0;32mdef\u001b[0m \u001b[0msum\u001b[0m\u001b[0;34m(\u001b[0m\u001b[0;34m)\u001b[0m\u001b[0;34m:\u001b[0m\u001b[0;34m\u001b[0m\u001b[0;34m\u001b[0m\u001b[0m\n\u001b[1;32m      3\u001b[0m   \u001b[0mnum1\u001b[0m \u001b[0;34m=\u001b[0m \u001b[0mint\u001b[0m\u001b[0;34m(\u001b[0m\u001b[0minput\u001b[0m\u001b[0;34m(\u001b[0m\u001b[0;34m\"Enter a number 1: \"\u001b[0m\u001b[0;34m)\u001b[0m\u001b[0;34m)\u001b[0m\u001b[0;34m\u001b[0m\u001b[0;34m\u001b[0m\u001b[0m\n\u001b[1;32m      4\u001b[0m   \u001b[0mnum2\u001b[0m \u001b[0;34m=\u001b[0m \u001b[0mint\u001b[0m\u001b[0;34m(\u001b[0m\u001b[0minput\u001b[0m\u001b[0;34m(\u001b[0m\u001b[0;34m\"Enter a number 2: \"\u001b[0m\u001b[0;34m)\u001b[0m\u001b[0;34m)\u001b[0m\u001b[0;34m\u001b[0m\u001b[0;34m\u001b[0m\u001b[0m\n\u001b[1;32m      5\u001b[0m   \u001b[0mprint\u001b[0m\u001b[0;34m(\u001b[0m\u001b[0mnum1\u001b[0m\u001b[0;34m+\u001b[0m\u001b[0mnum2\u001b[0m\u001b[0;34m)\u001b[0m\u001b[0;34m\u001b[0m\u001b[0;34m\u001b[0m\u001b[0m\n",
            "\u001b[0;31mTypeError\u001b[0m: sum() takes at least 1 positional argument (0 given)"
          ]
        }
      ]
    },
    {
      "cell_type": "code",
      "source": [
        "# First we have to define the function than after we call it\n",
        "def sum():\n",
        "  num1 = int(input(\"Enter a number 1: \"))\n",
        "  num2 = int(input(\"Enter a number 2: \"))\n",
        "  print(num1+num2)\n",
        "sum()"
      ],
      "metadata": {
        "colab": {
          "base_uri": "https://localhost:8080/"
        },
        "id": "Gi65MMqG3tHN",
        "outputId": "87add484-c410-4346-c1ba-1670514585b3"
      },
      "execution_count": null,
      "outputs": [
        {
          "output_type": "stream",
          "name": "stdout",
          "text": [
            "Enter a number 1: 5\n",
            "Enter a number 2: 5\n",
            "10\n"
          ]
        }
      ]
    },
    {
      "cell_type": "markdown",
      "source": [
        "# Function\n",
        "- Two type of arguments\n",
        "1. Formal parameter\n",
        "2. Actual parameter\n"
      ],
      "metadata": {
        "id": "XrOfolcDNa2n"
      }
    },
    {
      "cell_type": "code",
      "source": [
        "no1 = int(input(\"Enter any number: \"))\n",
        "no2 = int(input(\"Enter any number: \"))\n",
        "def sum(no1,no2):     # Formal Parameter\n",
        "  print(no1+no2)\n",
        "sum(no1,no2)          # Actual Parameter"
      ],
      "metadata": {
        "id": "8O1MiE_Z4Kpo",
        "colab": {
          "base_uri": "https://localhost:8080/"
        },
        "outputId": "15979153-97b9-4b95-b81f-d3699390a6af"
      },
      "execution_count": null,
      "outputs": [
        {
          "output_type": "stream",
          "name": "stdout",
          "text": [
            "Enter any number: 2\n",
            "Enter any number: 5\n",
            "7\n"
          ]
        }
      ]
    },
    {
      "cell_type": "code",
      "source": [
        "no1 = int(input(\"Enter any number: \"))\n",
        "no2 = int(input(\"Enter any number: \"))\n",
        "def sum(no1,no2):\n",
        "  print(no1+no2)\n",
        "sum(9,10)   # Function call always take actual parameter"
      ],
      "metadata": {
        "colab": {
          "base_uri": "https://localhost:8080/"
        },
        "id": "mWzhkpWUObkv",
        "outputId": "0b072feb-883b-4f03-99a2-788b1a7d1ebd"
      },
      "execution_count": null,
      "outputs": [
        {
          "output_type": "stream",
          "name": "stdout",
          "text": [
            "Enter any number: 5\n",
            "Enter any number: 2\n",
            "19\n"
          ]
        }
      ]
    },
    {
      "cell_type": "markdown",
      "source": [
        "# Function with default arguments:\n",
        "- A function have assign to it's parameter if no argement is provided when calling the function. It takes the default value.\n"
      ],
      "metadata": {
        "id": "lyY_1VbtPBV0"
      }
    },
    {
      "cell_type": "code",
      "source": [
        "def sum(no1=0,no2=0):\n",
        "  print(no1+no2)\n",
        "sum()"
      ],
      "metadata": {
        "colab": {
          "base_uri": "https://localhost:8080/"
        },
        "id": "Invfo6B1OnjK",
        "outputId": "510dc49d-994a-44d9-fe6f-61df9b3181f8"
      },
      "execution_count": null,
      "outputs": [
        {
          "output_type": "stream",
          "name": "stdout",
          "text": [
            "0\n"
          ]
        }
      ]
    },
    {
      "cell_type": "code",
      "source": [
        "def sum(no1=5,no2=0):\n",
        "  print(no1+no2)\n",
        "sum()"
      ],
      "metadata": {
        "colab": {
          "base_uri": "https://localhost:8080/"
        },
        "id": "zTptzm-dPlK1",
        "outputId": "51ca21c2-18f2-49e9-adac-fb1892487223"
      },
      "execution_count": null,
      "outputs": [
        {
          "output_type": "stream",
          "name": "stdout",
          "text": [
            "5\n"
          ]
        }
      ]
    },
    {
      "cell_type": "code",
      "source": [
        "def sum(no1,no2=0):\n",
        "  print(no1+no2)\n",
        "sum()"
      ],
      "metadata": {
        "colab": {
          "base_uri": "https://localhost:8080/",
          "height": 176
        },
        "id": "9DaL6Uy9P917",
        "outputId": "f090896a-9097-43c2-e639-e8a93cee19c8"
      },
      "execution_count": null,
      "outputs": [
        {
          "output_type": "error",
          "ename": "TypeError",
          "evalue": "sum() missing 1 required positional argument: 'no1'",
          "traceback": [
            "\u001b[0;31m---------------------------------------------------------------------------\u001b[0m",
            "\u001b[0;31mTypeError\u001b[0m                                 Traceback (most recent call last)",
            "\u001b[0;32m/tmp/ipython-input-6-3420304968.py\u001b[0m in \u001b[0;36m<cell line: 0>\u001b[0;34m()\u001b[0m\n\u001b[1;32m      1\u001b[0m \u001b[0;32mdef\u001b[0m \u001b[0msum\u001b[0m\u001b[0;34m(\u001b[0m\u001b[0mno1\u001b[0m\u001b[0;34m,\u001b[0m\u001b[0mno2\u001b[0m\u001b[0;34m=\u001b[0m\u001b[0;36m0\u001b[0m\u001b[0;34m)\u001b[0m\u001b[0;34m:\u001b[0m\u001b[0;34m\u001b[0m\u001b[0;34m\u001b[0m\u001b[0m\n\u001b[1;32m      2\u001b[0m   \u001b[0mprint\u001b[0m\u001b[0;34m(\u001b[0m\u001b[0mno1\u001b[0m\u001b[0;34m+\u001b[0m\u001b[0mno2\u001b[0m\u001b[0;34m)\u001b[0m\u001b[0;34m\u001b[0m\u001b[0;34m\u001b[0m\u001b[0m\n\u001b[0;32m----> 3\u001b[0;31m \u001b[0msum\u001b[0m\u001b[0;34m(\u001b[0m\u001b[0;34m)\u001b[0m\u001b[0;34m\u001b[0m\u001b[0;34m\u001b[0m\u001b[0m\n\u001b[0m",
            "\u001b[0;31mTypeError\u001b[0m: sum() missing 1 required positional argument: 'no1'"
          ]
        }
      ]
    },
    {
      "cell_type": "code",
      "source": [
        "def sum(no1,no2=0):\n",
        "  print(no1+no2)\n",
        "sum(10)"
      ],
      "metadata": {
        "colab": {
          "base_uri": "https://localhost:8080/"
        },
        "id": "EnCk9QQQQJgz",
        "outputId": "9085416b-752b-4d22-bba9-93c35816da4c"
      },
      "execution_count": null,
      "outputs": [
        {
          "output_type": "stream",
          "name": "stdout",
          "text": [
            "10\n"
          ]
        }
      ]
    },
    {
      "cell_type": "code",
      "source": [
        "def sum(no1,no2=5):\n",
        "  print(no1+no2)\n",
        "sum(10,6)"
      ],
      "metadata": {
        "colab": {
          "base_uri": "https://localhost:8080/"
        },
        "id": "IwDHCxmCQTGj",
        "outputId": "ef19e82f-3cbd-4907-fc73-1cf55e0305c7"
      },
      "execution_count": null,
      "outputs": [
        {
          "output_type": "stream",
          "name": "stdout",
          "text": [
            "16\n"
          ]
        }
      ]
    },
    {
      "cell_type": "code",
      "source": [
        "def sum(no1=7,no2):\n",
        "  print(no1+no2)\n",
        "sum(10,6)"
      ],
      "metadata": {
        "colab": {
          "base_uri": "https://localhost:8080/",
          "height": 106
        },
        "id": "-08wlSpJQe-i",
        "outputId": "de0ab35a-4f5a-451e-8393-c88cf08017c6"
      },
      "execution_count": null,
      "outputs": [
        {
          "output_type": "error",
          "ename": "SyntaxError",
          "evalue": "non-default argument follows default argument (ipython-input-9-2180811588.py, line 1)",
          "traceback": [
            "\u001b[0;36m  File \u001b[0;32m\"/tmp/ipython-input-9-2180811588.py\"\u001b[0;36m, line \u001b[0;32m1\u001b[0m\n\u001b[0;31m    def sum(no1=7,no2):\u001b[0m\n\u001b[0m                  ^\u001b[0m\n\u001b[0;31mSyntaxError\u001b[0m\u001b[0;31m:\u001b[0m non-default argument follows default argument\n"
          ]
        }
      ]
    },
    {
      "cell_type": "code",
      "source": [
        "def sum(no1=7,no2,no3=2):\n",
        "  print(no1+no2)\n",
        "sum(10,6)"
      ],
      "metadata": {
        "colab": {
          "base_uri": "https://localhost:8080/",
          "height": 106
        },
        "id": "FKzV1oHqQumI",
        "outputId": "9364eeab-29a1-4ca6-dc3c-d5aa446656f4"
      },
      "execution_count": null,
      "outputs": [
        {
          "output_type": "error",
          "ename": "SyntaxError",
          "evalue": "non-default argument follows default argument (ipython-input-10-222346440.py, line 1)",
          "traceback": [
            "\u001b[0;36m  File \u001b[0;32m\"/tmp/ipython-input-10-222346440.py\"\u001b[0;36m, line \u001b[0;32m1\u001b[0m\n\u001b[0;31m    def sum(no1=7,no2,no3=2):\u001b[0m\n\u001b[0m                  ^\u001b[0m\n\u001b[0;31mSyntaxError\u001b[0m\u001b[0;31m:\u001b[0m non-default argument follows default argument\n"
          ]
        }
      ]
    },
    {
      "cell_type": "code",
      "source": [
        "def sum(no1,no2,no3=2):\n",
        "  print(no1+no2)\n",
        "sum(10,6)"
      ],
      "metadata": {
        "colab": {
          "base_uri": "https://localhost:8080/"
        },
        "id": "FhJh4IGhQ_a-",
        "outputId": "0c6b2f55-c363-4b5c-c1b3-315c34421157"
      },
      "execution_count": null,
      "outputs": [
        {
          "output_type": "stream",
          "name": "stdout",
          "text": [
            "16\n"
          ]
        }
      ]
    },
    {
      "cell_type": "code",
      "source": [
        "def sum(no1,no2,no3=2):\n",
        "  print(no1+no2+no3)\n",
        "sum(10,6)"
      ],
      "metadata": {
        "colab": {
          "base_uri": "https://localhost:8080/"
        },
        "id": "by8eA7H_RGW-",
        "outputId": "37c820f4-29db-4c27-9091-59c6d0508c85"
      },
      "execution_count": null,
      "outputs": [
        {
          "output_type": "stream",
          "name": "stdout",
          "text": [
            "18\n"
          ]
        }
      ]
    },
    {
      "cell_type": "code",
      "source": [
        "def sum(no1,no2,no3):\n",
        "  print(no1+no2+no3)\n",
        "sum(10,6)"
      ],
      "metadata": {
        "colab": {
          "base_uri": "https://localhost:8080/",
          "height": 176
        },
        "id": "pUDm-J8rRPbJ",
        "outputId": "7bc31c6c-8c8a-4deb-830b-59b132a32731"
      },
      "execution_count": null,
      "outputs": [
        {
          "output_type": "error",
          "ename": "TypeError",
          "evalue": "sum() missing 1 required positional argument: 'no3'",
          "traceback": [
            "\u001b[0;31m---------------------------------------------------------------------------\u001b[0m",
            "\u001b[0;31mTypeError\u001b[0m                                 Traceback (most recent call last)",
            "\u001b[0;32m/tmp/ipython-input-13-2362984390.py\u001b[0m in \u001b[0;36m<cell line: 0>\u001b[0;34m()\u001b[0m\n\u001b[1;32m      1\u001b[0m \u001b[0;32mdef\u001b[0m \u001b[0msum\u001b[0m\u001b[0;34m(\u001b[0m\u001b[0mno1\u001b[0m\u001b[0;34m,\u001b[0m\u001b[0mno2\u001b[0m\u001b[0;34m,\u001b[0m\u001b[0mno3\u001b[0m\u001b[0;34m)\u001b[0m\u001b[0;34m:\u001b[0m\u001b[0;34m\u001b[0m\u001b[0;34m\u001b[0m\u001b[0m\n\u001b[1;32m      2\u001b[0m   \u001b[0mprint\u001b[0m\u001b[0;34m(\u001b[0m\u001b[0mno1\u001b[0m\u001b[0;34m+\u001b[0m\u001b[0mno2\u001b[0m\u001b[0;34m+\u001b[0m\u001b[0mno3\u001b[0m\u001b[0;34m)\u001b[0m\u001b[0;34m\u001b[0m\u001b[0;34m\u001b[0m\u001b[0m\n\u001b[0;32m----> 3\u001b[0;31m \u001b[0msum\u001b[0m\u001b[0;34m(\u001b[0m\u001b[0;36m10\u001b[0m\u001b[0;34m,\u001b[0m\u001b[0;36m6\u001b[0m\u001b[0;34m)\u001b[0m\u001b[0;34m\u001b[0m\u001b[0;34m\u001b[0m\u001b[0m\n\u001b[0m",
            "\u001b[0;31mTypeError\u001b[0m: sum() missing 1 required positional argument: 'no3'"
          ]
        }
      ]
    },
    {
      "cell_type": "markdown",
      "source": [
        "# Variable length and argument function\n"
      ],
      "metadata": {
        "id": "6e8ZtVvlRmkL"
      }
    },
    {
      "cell_type": "code",
      "source": [
        "def fun(args):\n",
        "  for i in args:\n",
        "    print(i)\n",
        "\n",
        "fun(\"Java\",\"C++\",\"Python\",\"C\")"
      ],
      "metadata": {
        "colab": {
          "base_uri": "https://localhost:8080/",
          "height": 176
        },
        "id": "Hi1t-wj9RZh4",
        "outputId": "54858129-8e0d-415c-b77a-ebb460cba9fe"
      },
      "execution_count": null,
      "outputs": [
        {
          "output_type": "error",
          "ename": "TypeError",
          "evalue": "fun() takes 1 positional argument but 4 were given",
          "traceback": [
            "\u001b[0;31m---------------------------------------------------------------------------\u001b[0m",
            "\u001b[0;31mTypeError\u001b[0m                                 Traceback (most recent call last)",
            "\u001b[0;32m/tmp/ipython-input-14-467249160.py\u001b[0m in \u001b[0;36m<cell line: 0>\u001b[0;34m()\u001b[0m\n\u001b[1;32m      3\u001b[0m     \u001b[0mprint\u001b[0m\u001b[0;34m(\u001b[0m\u001b[0mi\u001b[0m\u001b[0;34m)\u001b[0m\u001b[0;34m\u001b[0m\u001b[0;34m\u001b[0m\u001b[0m\n\u001b[1;32m      4\u001b[0m \u001b[0;34m\u001b[0m\u001b[0m\n\u001b[0;32m----> 5\u001b[0;31m \u001b[0mfun\u001b[0m\u001b[0;34m(\u001b[0m\u001b[0;34m\"Java\"\u001b[0m\u001b[0;34m,\u001b[0m\u001b[0;34m\"C++\"\u001b[0m\u001b[0;34m,\u001b[0m\u001b[0;34m\"Python\"\u001b[0m\u001b[0;34m,\u001b[0m\u001b[0;34m\"C\"\u001b[0m\u001b[0;34m)\u001b[0m\u001b[0;34m\u001b[0m\u001b[0;34m\u001b[0m\u001b[0m\n\u001b[0m",
            "\u001b[0;31mTypeError\u001b[0m: fun() takes 1 positional argument but 4 were given"
          ]
        }
      ]
    },
    {
      "cell_type": "code",
      "source": [
        "def fun(args):\n",
        "  for i in args:\n",
        "    print(i)\n",
        "\n",
        "fun(\"Java\")"
      ],
      "metadata": {
        "colab": {
          "base_uri": "https://localhost:8080/"
        },
        "id": "PeiuuY1HSDf5",
        "outputId": "47660298-d447-4e5e-c9ae-ac0076f0c716"
      },
      "execution_count": null,
      "outputs": [
        {
          "output_type": "stream",
          "name": "stdout",
          "text": [
            "J\n",
            "a\n",
            "v\n",
            "a\n"
          ]
        }
      ]
    },
    {
      "cell_type": "code",
      "source": [
        "def fun(*args):\n",
        "  for i in args:\n",
        "    print(i)\n",
        "\n",
        "fun(\"Java\",\"C++\",\"Python\",\"C\")"
      ],
      "metadata": {
        "colab": {
          "base_uri": "https://localhost:8080/"
        },
        "id": "_KT3vR2TSOxo",
        "outputId": "f7793a69-1c02-448c-f353-313079ccac1d"
      },
      "execution_count": null,
      "outputs": [
        {
          "output_type": "stream",
          "name": "stdout",
          "text": [
            "Java\n",
            "C++\n",
            "Python\n",
            "C\n"
          ]
        }
      ]
    },
    {
      "cell_type": "code",
      "source": [
        "# Use of **: keyword argument"
      ],
      "metadata": {
        "id": "V2orRbpSSnHY"
      },
      "execution_count": null,
      "outputs": []
    },
    {
      "cell_type": "markdown",
      "source": [
        "# Local variable and Global variable\n"
      ],
      "metadata": {
        "id": "c-zU547-TJdo"
      }
    },
    {
      "cell_type": "code",
      "source": [
        "def fun1():\n",
        "  a = 10   # Local scope: can't access outside the function\n",
        "  print(a)\n",
        "fun1()\n",
        "print(a)"
      ],
      "metadata": {
        "colab": {
          "base_uri": "https://localhost:8080/",
          "height": 193
        },
        "id": "wim0V4OTTBpL",
        "outputId": "37625bf7-0829-4602-8536-45d0474394ba"
      },
      "execution_count": null,
      "outputs": [
        {
          "output_type": "stream",
          "name": "stdout",
          "text": [
            "10\n"
          ]
        },
        {
          "output_type": "error",
          "ename": "NameError",
          "evalue": "name 'a' is not defined",
          "traceback": [
            "\u001b[0;31m---------------------------------------------------------------------------\u001b[0m",
            "\u001b[0;31mNameError\u001b[0m                                 Traceback (most recent call last)",
            "\u001b[0;32m/tmp/ipython-input-19-2721510062.py\u001b[0m in \u001b[0;36m<cell line: 0>\u001b[0;34m()\u001b[0m\n\u001b[1;32m      3\u001b[0m   \u001b[0mprint\u001b[0m\u001b[0;34m(\u001b[0m\u001b[0ma\u001b[0m\u001b[0;34m)\u001b[0m\u001b[0;34m\u001b[0m\u001b[0;34m\u001b[0m\u001b[0m\n\u001b[1;32m      4\u001b[0m \u001b[0mfun1\u001b[0m\u001b[0;34m(\u001b[0m\u001b[0;34m)\u001b[0m\u001b[0;34m\u001b[0m\u001b[0;34m\u001b[0m\u001b[0m\n\u001b[0;32m----> 5\u001b[0;31m \u001b[0mprint\u001b[0m\u001b[0;34m(\u001b[0m\u001b[0ma\u001b[0m\u001b[0;34m)\u001b[0m\u001b[0;34m\u001b[0m\u001b[0;34m\u001b[0m\u001b[0m\n\u001b[0m",
            "\u001b[0;31mNameError\u001b[0m: name 'a' is not defined"
          ]
        }
      ]
    },
    {
      "cell_type": "code",
      "source": [
        "a = 9  # Global Variable\n",
        "def fun1():\n",
        "  a = 10   # Local Variable\n",
        "  print(a)\n",
        "fun1()\n",
        "print(a)"
      ],
      "metadata": {
        "colab": {
          "base_uri": "https://localhost:8080/"
        },
        "id": "1NaIednvTnIV",
        "outputId": "0c9f9409-faec-4c7c-b355-3e1063e5ed97"
      },
      "execution_count": null,
      "outputs": [
        {
          "output_type": "stream",
          "name": "stdout",
          "text": [
            "10\n",
            "9\n"
          ]
        }
      ]
    },
    {
      "cell_type": "code",
      "source": [
        "a = 9  # Global Variable:Publically available\n",
        "def fun1():\n",
        "\n",
        "  print(a)\n",
        "fun1()\n",
        "print(a)"
      ],
      "metadata": {
        "colab": {
          "base_uri": "https://localhost:8080/"
        },
        "id": "8rsyRBVtUOAj",
        "outputId": "913b8ceb-4ab1-4a5b-9219-72300be0cc79"
      },
      "execution_count": null,
      "outputs": [
        {
          "output_type": "stream",
          "name": "stdout",
          "text": [
            "9\n",
            "9\n"
          ]
        }
      ]
    },
    {
      "cell_type": "code",
      "source": [
        "a = 9\n",
        "def fun1():\n",
        "  a = a+1\n",
        "  print(a)\n",
        "\n",
        "fun1()\n",
        "print(a)"
      ],
      "metadata": {
        "colab": {
          "base_uri": "https://localhost:8080/",
          "height": 315
        },
        "id": "awPPsNclUj0Z",
        "outputId": "a47a5759-dfca-4d49-8a61-63f356836bbb"
      },
      "execution_count": null,
      "outputs": [
        {
          "output_type": "error",
          "ename": "UnboundLocalError",
          "evalue": "cannot access local variable 'a' where it is not associated with a value",
          "traceback": [
            "\u001b[0;31m---------------------------------------------------------------------------\u001b[0m",
            "\u001b[0;31mUnboundLocalError\u001b[0m                         Traceback (most recent call last)",
            "\u001b[0;32m/tmp/ipython-input-22-394559010.py\u001b[0m in \u001b[0;36m<cell line: 0>\u001b[0;34m()\u001b[0m\n\u001b[1;32m      4\u001b[0m   \u001b[0mprint\u001b[0m\u001b[0;34m(\u001b[0m\u001b[0ma\u001b[0m\u001b[0;34m)\u001b[0m\u001b[0;34m\u001b[0m\u001b[0;34m\u001b[0m\u001b[0m\n\u001b[1;32m      5\u001b[0m \u001b[0;34m\u001b[0m\u001b[0m\n\u001b[0;32m----> 6\u001b[0;31m \u001b[0mfun1\u001b[0m\u001b[0;34m(\u001b[0m\u001b[0;34m)\u001b[0m\u001b[0;34m\u001b[0m\u001b[0;34m\u001b[0m\u001b[0m\n\u001b[0m\u001b[1;32m      7\u001b[0m \u001b[0mprint\u001b[0m\u001b[0;34m(\u001b[0m\u001b[0ma\u001b[0m\u001b[0;34m)\u001b[0m\u001b[0;34m\u001b[0m\u001b[0;34m\u001b[0m\u001b[0m\n",
            "\u001b[0;32m/tmp/ipython-input-22-394559010.py\u001b[0m in \u001b[0;36mfun1\u001b[0;34m()\u001b[0m\n\u001b[1;32m      1\u001b[0m \u001b[0ma\u001b[0m \u001b[0;34m=\u001b[0m \u001b[0;36m9\u001b[0m\u001b[0;34m\u001b[0m\u001b[0;34m\u001b[0m\u001b[0m\n\u001b[1;32m      2\u001b[0m \u001b[0;32mdef\u001b[0m \u001b[0mfun1\u001b[0m\u001b[0;34m(\u001b[0m\u001b[0;34m)\u001b[0m\u001b[0;34m:\u001b[0m\u001b[0;34m\u001b[0m\u001b[0;34m\u001b[0m\u001b[0m\n\u001b[0;32m----> 3\u001b[0;31m   \u001b[0ma\u001b[0m \u001b[0;34m=\u001b[0m \u001b[0ma\u001b[0m\u001b[0;34m+\u001b[0m\u001b[0;36m1\u001b[0m\u001b[0;34m\u001b[0m\u001b[0;34m\u001b[0m\u001b[0m\n\u001b[0m\u001b[1;32m      4\u001b[0m   \u001b[0mprint\u001b[0m\u001b[0;34m(\u001b[0m\u001b[0ma\u001b[0m\u001b[0;34m)\u001b[0m\u001b[0;34m\u001b[0m\u001b[0;34m\u001b[0m\u001b[0m\n\u001b[1;32m      5\u001b[0m \u001b[0;34m\u001b[0m\u001b[0m\n",
            "\u001b[0;31mUnboundLocalError\u001b[0m: cannot access local variable 'a' where it is not associated with a value"
          ]
        }
      ]
    },
    {
      "cell_type": "code",
      "source": [
        "a = 9\n",
        "def fun1():\n",
        "  global a\n",
        "  a = a+1\n",
        "  print(a)\n",
        "\n",
        "fun1()\n",
        "print(a)"
      ],
      "metadata": {
        "colab": {
          "base_uri": "https://localhost:8080/"
        },
        "id": "QPVCWNiVVCZX",
        "outputId": "eb88b1ee-285f-4088-9e58-67af704dc8cb"
      },
      "execution_count": null,
      "outputs": [
        {
          "output_type": "stream",
          "name": "stdout",
          "text": [
            "10\n",
            "10\n"
          ]
        }
      ]
    },
    {
      "cell_type": "markdown",
      "source": [
        "# return statement:\n",
        "- Every function return something.\n",
        "- If the return statement is without any expression so null is return."
      ],
      "metadata": {
        "id": "aKSNGhxuVpu0"
      }
    },
    {
      "cell_type": "code",
      "source": [
        "def add(a,b):\n",
        "  return a+b\n",
        "\n",
        "add(5,2)"
      ],
      "metadata": {
        "colab": {
          "base_uri": "https://localhost:8080/"
        },
        "id": "3fJut7P0ViHS",
        "outputId": "512b6549-888e-45da-8808-bc339d228d04"
      },
      "execution_count": null,
      "outputs": [
        {
          "output_type": "execute_result",
          "data": {
            "text/plain": [
              "7"
            ]
          },
          "metadata": {},
          "execution_count": 25
        }
      ]
    },
    {
      "cell_type": "code",
      "source": [
        "def add(a,b):\n",
        "  return a+b\n",
        "\n",
        "result = add(5,2)\n",
        "print(result)"
      ],
      "metadata": {
        "colab": {
          "base_uri": "https://localhost:8080/"
        },
        "id": "fgEbexbSWQeg",
        "outputId": "f2397477-9aaf-4c99-b39d-8b917a735074"
      },
      "execution_count": null,
      "outputs": [
        {
          "output_type": "stream",
          "name": "stdout",
          "text": [
            "7\n"
          ]
        }
      ]
    },
    {
      "cell_type": "code",
      "source": [
        "def add(a,b):\n",
        "  return a+b\n",
        "\n",
        "def is_true(a):\n",
        "  return bool(a)\n",
        "\n",
        "result = add(5,2)\n",
        "print(is_true(result))\n",
        "print(result)"
      ],
      "metadata": {
        "colab": {
          "base_uri": "https://localhost:8080/"
        },
        "id": "RKIsyCJkWkNL",
        "outputId": "5fa9a384-7bc3-4576-d5b8-80849677c2d9"
      },
      "execution_count": null,
      "outputs": [
        {
          "output_type": "stream",
          "name": "stdout",
          "text": [
            "True\n",
            "7\n"
          ]
        }
      ]
    },
    {
      "cell_type": "code",
      "source": [
        "def add(a,b):\n",
        "  return a\n",
        "  return b\n",
        "\n",
        "result = add(5,2)\n",
        "print(result)\n"
      ],
      "metadata": {
        "colab": {
          "base_uri": "https://localhost:8080/"
        },
        "id": "stq_9NhxW-HN",
        "outputId": "e9e4c604-6bfa-4838-e6d4-ec59fc6cbfb3"
      },
      "execution_count": null,
      "outputs": [
        {
          "output_type": "stream",
          "name": "stdout",
          "text": [
            "5\n"
          ]
        }
      ]
    },
    {
      "cell_type": "code",
      "source": [
        "def add(a,b):\n",
        "  return a, b\n",
        "\n",
        "\n",
        "result = add(5,2)\n",
        "print(result)"
      ],
      "metadata": {
        "colab": {
          "base_uri": "https://localhost:8080/"
        },
        "id": "lqv1lD9zXQ6A",
        "outputId": "d626ae29-42bb-4b3d-c951-58c71781fa31"
      },
      "execution_count": null,
      "outputs": [
        {
          "output_type": "stream",
          "name": "stdout",
          "text": [
            "(5, 2)\n"
          ]
        }
      ]
    },
    {
      "cell_type": "code",
      "source": [
        "print(type(result))"
      ],
      "metadata": {
        "colab": {
          "base_uri": "https://localhost:8080/"
        },
        "id": "d_uufY3nXmiu",
        "outputId": "37670c42-1223-4f32-cf07-37604b1d4562"
      },
      "execution_count": null,
      "outputs": [
        {
          "output_type": "stream",
          "name": "stdout",
          "text": [
            "<class 'tuple'>\n"
          ]
        }
      ]
    },
    {
      "cell_type": "markdown",
      "source": [
        "# Anonymous Function:\n",
        "- lembda is a small anom function because they are not used like other user defined functions or built in function.\n",
        "- lembda is not define with def keyword\n",
        "- Every anonymous is divide into 3 essential parts:\n",
        "  1. lambda keyword\n",
        "  2. parameters\n",
        "  3. Function wording\n",
        "- lambda function can have any number of parameter. But function body cantain only one expression"
      ],
      "metadata": {
        "id": "058EMK0C0JCL"
      }
    },
    {
      "cell_type": "code",
      "source": [
        "# Syntex: lambda parameter: function wording\n",
        "\n",
        "p = lambda a,b : a+b\n",
        "print(p(10,20))"
      ],
      "metadata": {
        "id": "4C2oPm4QXsBM",
        "colab": {
          "base_uri": "https://localhost:8080/"
        },
        "outputId": "f3ad43e4-19a7-4a17-8192-d90cc075c067"
      },
      "execution_count": null,
      "outputs": [
        {
          "output_type": "stream",
          "name": "stdout",
          "text": [
            "30\n"
          ]
        }
      ]
    },
    {
      "cell_type": "markdown",
      "source": [
        "# Why?\n",
        "- start, quick\n",
        "- it's a sort function, it contains only one expression\n",
        "- concise\n",
        "- unnamed / anom"
      ],
      "metadata": {
        "id": "61v0P_Sn2ahm"
      }
    },
    {
      "cell_type": "code",
      "source": [
        "list1 = [1,2,3,4]\n",
        "squares = list(map(lambda x: x**2, list1))\n",
        "print(squares)"
      ],
      "metadata": {
        "colab": {
          "base_uri": "https://localhost:8080/"
        },
        "id": "3wVWowXf2PKU",
        "outputId": "b795f620-4744-4f04-d36a-290d1d3cee9d"
      },
      "execution_count": null,
      "outputs": [
        {
          "output_type": "stream",
          "name": "stdout",
          "text": [
            "[1, 4, 9, 16]\n"
          ]
        }
      ]
    },
    {
      "cell_type": "markdown",
      "source": [
        "- We can use lembda for maping, filtering, sortion"
      ],
      "metadata": {
        "id": "5Mncl--03Axv"
      }
    },
    {
      "cell_type": "markdown",
      "source": [
        "# Recursion function:\n",
        "- Recursion function is a function define in terms of itself, via self referential expression.\n",
        "- OR\n",
        "- A recursive function is a function that calls itself. Function call is written the same function body."
      ],
      "metadata": {
        "id": "0kOO9NxU3RPn"
      }
    },
    {
      "cell_type": "code",
      "source": [
        "def fun(n):\n",
        "  if n == 0:\n",
        "    return\n",
        "  else:\n",
        "    print(n)\n",
        "    fun(n-1)\n",
        "\n",
        "fun(5)"
      ],
      "metadata": {
        "colab": {
          "base_uri": "https://localhost:8080/"
        },
        "id": "9lPvbt8m2-7W",
        "outputId": "25aa0a82-489d-475d-eb09-e3cb330649f3"
      },
      "execution_count": null,
      "outputs": [
        {
          "output_type": "stream",
          "name": "stdout",
          "text": [
            "5\n",
            "4\n",
            "3\n",
            "2\n",
            "1\n"
          ]
        }
      ]
    },
    {
      "cell_type": "code",
      "source": [
        "def fun(n):\n",
        "  if n == 0:\n",
        "    return\n",
        "  else:\n",
        "    fun(n-1)\n",
        "    print(n)\n",
        "\n",
        "fun(5)"
      ],
      "metadata": {
        "colab": {
          "base_uri": "https://localhost:8080/"
        },
        "id": "EySO_d0T4KX6",
        "outputId": "b515a59f-f396-4624-b040-551326c83174"
      },
      "execution_count": null,
      "outputs": [
        {
          "output_type": "stream",
          "name": "stdout",
          "text": [
            "1\n",
            "2\n",
            "3\n",
            "4\n",
            "5\n"
          ]
        }
      ]
    },
    {
      "cell_type": "code",
      "source": [],
      "metadata": {
        "id": "-8CIK2bK5IJb"
      },
      "execution_count": null,
      "outputs": []
    }
  ]
}