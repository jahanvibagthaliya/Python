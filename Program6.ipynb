{
  "nbformat": 4,
  "nbformat_minor": 0,
  "metadata": {
    "colab": {
      "provenance": []
    },
    "kernelspec": {
      "name": "python3",
      "display_name": "Python 3"
    },
    "language_info": {
      "name": "python"
    }
  },
  "cells": [
    {
      "cell_type": "markdown",
      "source": [
        "# Break Statement:\n",
        "- When we put break statement in a body of loop, the loop stop executing and control shift to the first statement outside it.\n",
        "- we can also use break in for and while loop also\n",
        "- when we wish to terminate current iteration or even the whole loop without checking text expression.\n",
        "- If condition became true write break\n",
        "- Break terminate current iteration"
      ],
      "metadata": {
        "id": "A_lUL5e3Ae1d"
      }
    },
    {
      "cell_type": "code",
      "execution_count": null,
      "metadata": {
        "colab": {
          "base_uri": "https://localhost:8080/"
        },
        "id": "iIlPX6bwAVV9",
        "outputId": "4ba00208-b31b-417c-bb80-25f851c1d425"
      },
      "outputs": [
        {
          "output_type": "stream",
          "name": "stdout",
          "text": [
            "0\n",
            "1\n",
            "2\n"
          ]
        }
      ],
      "source": [
        "for i in range(5):\n",
        "  if i == 3:\n",
        "    break\n",
        "  print(i)"
      ]
    },
    {
      "cell_type": "code",
      "source": [
        "for i in 'break':\n",
        "  print(i)\n",
        "  if i == 'a':\n",
        "    break"
      ],
      "metadata": {
        "colab": {
          "base_uri": "https://localhost:8080/"
        },
        "id": "iyAHDXuwB3vQ",
        "outputId": "52edf3e5-36af-4f47-9226-bb1201734002"
      },
      "execution_count": null,
      "outputs": [
        {
          "output_type": "stream",
          "name": "stdout",
          "text": [
            "b\n",
            "r\n",
            "e\n",
            "a\n"
          ]
        }
      ]
    },
    {
      "cell_type": "code",
      "source": [
        "for i in 'break':\n",
        "  print(i)\n",
        "  if i == 'a':\n",
        "    break\n",
        "else:\n",
        "  print(\"Reach else\")"
      ],
      "metadata": {
        "colab": {
          "base_uri": "https://localhost:8080/"
        },
        "id": "BBNDRfnjCVkk",
        "outputId": "0b58f8a8-cd81-4cf3-a0cd-9da672371148"
      },
      "execution_count": null,
      "outputs": [
        {
          "output_type": "stream",
          "name": "stdout",
          "text": [
            "b\n",
            "r\n",
            "e\n",
            "a\n"
          ]
        }
      ]
    },
    {
      "cell_type": "code",
      "source": [
        "n = 5\n",
        "while n>0:\n",
        "  n-=1\n",
        "  if n == 2:\n",
        "    break\n",
        "  print(n)\n",
        "else:\n",
        "  print(\"Reach else\")"
      ],
      "metadata": {
        "colab": {
          "base_uri": "https://localhost:8080/"
        },
        "id": "DNzcxXmYCo0u",
        "outputId": "32208c69-6499-4ed6-e670-d246993b1dce"
      },
      "execution_count": null,
      "outputs": [
        {
          "output_type": "stream",
          "name": "stdout",
          "text": [
            "4\n",
            "3\n"
          ]
        }
      ]
    },
    {
      "cell_type": "code",
      "source": [
        "n = 5\n",
        "while n>0:\n",
        "  n-=1\n",
        "  if n == 2:\n",
        "    break\n",
        "  print(n)\n",
        "print(\"Loop ended\")"
      ],
      "metadata": {
        "colab": {
          "base_uri": "https://localhost:8080/"
        },
        "id": "WoCaOzMPDM6L",
        "outputId": "4c168075-b02b-4668-b417-3b084ff11f4f"
      },
      "execution_count": null,
      "outputs": [
        {
          "output_type": "stream",
          "name": "stdout",
          "text": [
            "4\n",
            "3\n",
            "Loop ended\n"
          ]
        }
      ]
    },
    {
      "cell_type": "code",
      "source": [
        "# Find the prime no with break statement"
      ],
      "metadata": {
        "id": "hWrTnx4ADk8s"
      },
      "execution_count": null,
      "outputs": []
    },
    {
      "cell_type": "markdown",
      "source": [
        "# Continue Statement\n",
        "- When the program control reaches the continue statement skips statement after continue it then shift item to the next statement and then execute the block of code for it.\n",
        "- continue statement is used to skip rest of the code inside a loop for the current iteration only  "
      ],
      "metadata": {
        "id": "Weug5NHUN0qj"
      }
    },
    {
      "cell_type": "code",
      "source": [
        "i = 0\n",
        "while i < 8:\n",
        "  i += 1\n",
        "  if i == 6:\n",
        "    continue\n",
        "  print(i)"
      ],
      "metadata": {
        "colab": {
          "base_uri": "https://localhost:8080/"
        },
        "id": "-VgX38_OFJZA",
        "outputId": "2120fdf2-5c75-4314-d8f8-ba9b7cd6b329"
      },
      "execution_count": null,
      "outputs": [
        {
          "output_type": "stream",
          "name": "stdout",
          "text": [
            "1\n",
            "2\n",
            "3\n",
            "4\n",
            "5\n",
            "7\n",
            "8\n"
          ]
        }
      ]
    },
    {
      "cell_type": "code",
      "source": [
        "i = 0\n",
        "while i < 8:\n",
        "\n",
        "  if i == 6:\n",
        "    continue\n",
        "  print(i)\n",
        "  i += 1  #Infinite Loop"
      ],
      "metadata": {
        "colab": {
          "base_uri": "https://localhost:8080/",
          "height": 315
        },
        "id": "F60QfAInFU5C",
        "outputId": "a8ab3452-4e17-45ec-f59e-d329ea49cac6"
      },
      "execution_count": null,
      "outputs": [
        {
          "output_type": "stream",
          "name": "stdout",
          "text": [
            "0\n",
            "1\n",
            "2\n",
            "3\n",
            "4\n",
            "5\n"
          ]
        },
        {
          "output_type": "error",
          "ename": "KeyboardInterrupt",
          "evalue": "",
          "traceback": [
            "\u001b[0;31m---------------------------------------------------------------------------\u001b[0m",
            "\u001b[0;31mKeyboardInterrupt\u001b[0m                         Traceback (most recent call last)",
            "\u001b[0;32m<ipython-input-9-3356718734>\u001b[0m in \u001b[0;36m<cell line: 0>\u001b[0;34m()\u001b[0m\n\u001b[1;32m      3\u001b[0m \u001b[0;34m\u001b[0m\u001b[0m\n\u001b[1;32m      4\u001b[0m   \u001b[0;32mif\u001b[0m \u001b[0mi\u001b[0m \u001b[0;34m==\u001b[0m \u001b[0;36m6\u001b[0m\u001b[0;34m:\u001b[0m\u001b[0;34m\u001b[0m\u001b[0;34m\u001b[0m\u001b[0m\n\u001b[0;32m----> 5\u001b[0;31m     \u001b[0;32mcontinue\u001b[0m\u001b[0;34m\u001b[0m\u001b[0;34m\u001b[0m\u001b[0m\n\u001b[0m\u001b[1;32m      6\u001b[0m   \u001b[0mprint\u001b[0m\u001b[0;34m(\u001b[0m\u001b[0mi\u001b[0m\u001b[0;34m)\u001b[0m\u001b[0;34m\u001b[0m\u001b[0;34m\u001b[0m\u001b[0m\n\u001b[1;32m      7\u001b[0m   \u001b[0mi\u001b[0m \u001b[0;34m+=\u001b[0m \u001b[0;36m1\u001b[0m\u001b[0;34m\u001b[0m\u001b[0;34m\u001b[0m\u001b[0m\n",
            "\u001b[0;31mKeyboardInterrupt\u001b[0m: "
          ]
        }
      ]
    },
    {
      "cell_type": "markdown",
      "source": [
        "# Pass statement\n",
        "- pass is a null statement\n",
        "- difference between comment and pass:\n",
        "  - Interpriter ignore the comment completly\n",
        "  - Pass is not ignore, nothing happens when pass is executed, it results into no operation, suppose we have loop or function that is not implemented yet, but we want to implement it in the future. They can not have an empty body"
      ],
      "metadata": {
        "id": "jTDBe0scGZWD"
      }
    },
    {
      "cell_type": "code",
      "source": [
        "for i in range(1,6):\n",
        "  if i == 3:\n",
        "    pass\n",
        "  else:\n",
        "    print(i)"
      ],
      "metadata": {
        "colab": {
          "base_uri": "https://localhost:8080/"
        },
        "id": "7trEfslHGKZK",
        "outputId": "0125ea7c-d247-4615-95e5-5d35d87d04db"
      },
      "execution_count": null,
      "outputs": [
        {
          "output_type": "stream",
          "name": "stdout",
          "text": [
            "1\n",
            "2\n",
            "4\n",
            "5\n"
          ]
        }
      ]
    },
    {
      "cell_type": "markdown",
      "source": [],
      "metadata": {
        "id": "kWvlw7YVIFPB"
      }
    },
    {
      "cell_type": "code",
      "source": [],
      "metadata": {
        "id": "YwkaakodHtYn"
      },
      "execution_count": null,
      "outputs": []
    }
  ]
}