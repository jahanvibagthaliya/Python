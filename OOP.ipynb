{
  "nbformat": 4,
  "nbformat_minor": 0,
  "metadata": {
    "colab": {
      "provenance": []
    },
    "kernelspec": {
      "name": "python3",
      "display_name": "Python 3"
    },
    "language_info": {
      "name": "python"
    }
  },
  "cells": [
    {
      "cell_type": "code",
      "execution_count": null,
      "metadata": {
        "id": "13nnhaFKesH5"
      },
      "outputs": [],
      "source": []
    },
    {
      "cell_type": "markdown",
      "source": [
        "POP(procedure oriented or structure oreiented programming)        \n",
        "class - user defined data type,blueprint of an object,collection of objects     \n",
        "class holds data members and attributes or fields\n",
        "\n",
        "class Classname:\n",
        "  mis=101     # definition no memory allocated         \n",
        "  def func(self):       \n",
        "     print          \n",
        "     datamembers       \n",
        "\n",
        "object - instance of class           \n",
        "Obj= sy()  # memory allocated when object is created         \n",
        "Obj.func()  # it means Obj.mis            \n",
        "\n",
        "\n",
        "\"self\"(calling object) represents instance of the class-(attending class-currently present) we  can access the attributes and methods of class\n",
        "- user can use another parameter name in place of it\n",
        "\n",
        "\n",
        "Comstructor (__init__) used to initialize the object , initialize(assign values) to the data members\n",
        "\n",
        "defalut(no parameters)\n",
        "parameterized(pass parameters)\n",
        "\n",
        "class variables(assigned values at class declaration) /static variables/inside class/outside class method/shared to all objects/if changed will affect all instances           \n",
        "instance varables(assigned values inside methods)/non static/tied to particular instance of class\n",
        "\n"
      ],
      "metadata": {
        "id": "QWQ-ucyJg0yE"
      }
    },
    {
      "cell_type": "code",
      "source": [
        "#__dl__ -\n",
        "\n",
        "class Abc:\n",
        "  cls_var = 0 # class variable\n",
        "  def __init__(self,var):  # instance variable\n",
        "    Abc.cls_var +=1\n",
        "    self.var = var\n",
        "    print(\"object value is\", self.var)\n",
        "    print(\"class value is\", Abc.cls_var)\n",
        "  def __del__(self): # destructor\n",
        "    Abc.cls_var -=1\n",
        "    print(\"object %d out of scope\",self.var)\n",
        "\n",
        "obj1 = Abc(12)\n",
        "obj2 = Abc(24)\n",
        "obj3 = Abc(36)\n",
        "del obj1\n",
        "del obj3"
      ],
      "metadata": {
        "colab": {
          "base_uri": "https://localhost:8080/"
        },
        "id": "1qhTot4ajcq0",
        "outputId": "6052a363-9cee-4b58-ca2d-f7fa9e15f6de"
      },
      "execution_count": 2,
      "outputs": [
        {
          "output_type": "stream",
          "name": "stdout",
          "text": [
            "object value is 12\n",
            "class value is 1\n",
            "object value is 24\n",
            "class value is 2\n",
            "object value is 36\n",
            "class value is 3\n",
            "object %d out of scope 12\n",
            "object %d out of scope 36\n"
          ]
        }
      ]
    },
    {
      "cell_type": "code",
      "source": [
        "#__del__ -\n",
        "\n",
        "class Abc:\n",
        "  mis = 10 # public data member\n",
        "  __name=\"dia\" # starting with double underscore private data members\n",
        "  def get(self):\n",
        "    print(self.mis)\n",
        "    print(self.__name)\n",
        "\n",
        "\n",
        "obj = Abc()\n",
        "obj.get()\n",
        "print(\"mis = \",obj.mis)\n",
        "print(\"name = \",obj.__name) #\n",
        "\n",
        "# protected is declared using '_' single underscore"
      ],
      "metadata": {
        "colab": {
          "base_uri": "https://localhost:8080/",
          "height": 254
        },
        "id": "BQGE4_AjnkCn",
        "outputId": "988d7bf3-b0f3-4706-8016-39d6036312d9"
      },
      "execution_count": 3,
      "outputs": [
        {
          "output_type": "stream",
          "name": "stdout",
          "text": [
            "10\n",
            "dia\n",
            "mis =  10\n"
          ]
        },
        {
          "output_type": "error",
          "ename": "AttributeError",
          "evalue": "'Abc' object has no attribute '__name'",
          "traceback": [
            "\u001b[0;31m---------------------------------------------------------------------------\u001b[0m",
            "\u001b[0;31mAttributeError\u001b[0m                            Traceback (most recent call last)",
            "\u001b[0;32m/tmp/ipython-input-3-2529714910.py\u001b[0m in \u001b[0;36m<cell line: 0>\u001b[0;34m()\u001b[0m\n\u001b[1;32m     12\u001b[0m \u001b[0mobj\u001b[0m\u001b[0;34m.\u001b[0m\u001b[0mget\u001b[0m\u001b[0;34m(\u001b[0m\u001b[0;34m)\u001b[0m\u001b[0;34m\u001b[0m\u001b[0;34m\u001b[0m\u001b[0m\n\u001b[1;32m     13\u001b[0m \u001b[0mprint\u001b[0m\u001b[0;34m(\u001b[0m\u001b[0;34m\"mis = \"\u001b[0m\u001b[0;34m,\u001b[0m\u001b[0mobj\u001b[0m\u001b[0;34m.\u001b[0m\u001b[0mmis\u001b[0m\u001b[0;34m)\u001b[0m\u001b[0;34m\u001b[0m\u001b[0;34m\u001b[0m\u001b[0m\n\u001b[0;32m---> 14\u001b[0;31m \u001b[0mprint\u001b[0m\u001b[0;34m(\u001b[0m\u001b[0;34m\"name = \"\u001b[0m\u001b[0;34m,\u001b[0m\u001b[0mobj\u001b[0m\u001b[0;34m.\u001b[0m\u001b[0m__name\u001b[0m\u001b[0;34m)\u001b[0m\u001b[0;34m\u001b[0m\u001b[0;34m\u001b[0m\u001b[0m\n\u001b[0m\u001b[1;32m     15\u001b[0m \u001b[0;34m\u001b[0m\u001b[0m\n",
            "\u001b[0;31mAttributeError\u001b[0m: 'Abc' object has no attribute '__name'"
          ]
        }
      ]
    },
    {
      "cell_type": "code",
      "source": [],
      "metadata": {
        "id": "l9cDpq0VqUD7"
      },
      "execution_count": null,
      "outputs": []
    }
  ]
}