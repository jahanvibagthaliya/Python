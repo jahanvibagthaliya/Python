{
  "nbformat": 4,
  "nbformat_minor": 0,
  "metadata": {
    "colab": {
      "provenance": []
    },
    "kernelspec": {
      "name": "python3",
      "display_name": "Python 3"
    },
    "language_info": {
      "name": "python"
    }
  },
  "cells": [
    {
      "cell_type": "markdown",
      "source": [
        "# File handling oprationn:\n",
        "1. create\n",
        "2. open\n",
        "3. read\n",
        "4. write\n",
        "5. close\n",
        "\n",
        "# Type of file:\n",
        "1. Text file: python source code, html\n",
        "2. Binary file: mp3, can't be read directly\n",
        "\n",
        "#Syntex:\n",
        "- fileobject = open(filename.file_extension,access_mode,encoding)\n",
        "\n",
        "- access_mode = r-read, w-write, a-append, t-textmode, b-binary file, r+- read and write"
      ],
      "metadata": {
        "id": "RaroeSEf9uLY"
      }
    },
    {
      "cell_type": "code",
      "execution_count": null,
      "metadata": {
        "colab": {
          "base_uri": "https://localhost:8080/",
          "height": 141
        },
        "id": "JYk--pgh9FbC",
        "outputId": "d44e9ef2-b707-4607-bbfc-6095ccfbf2b4"
      },
      "outputs": [
        {
          "output_type": "error",
          "ename": "FileNotFoundError",
          "evalue": "[Errno 2] No such file or directory: 'abc.txt'",
          "traceback": [
            "\u001b[0;31m---------------------------------------------------------------------------\u001b[0m",
            "\u001b[0;31mFileNotFoundError\u001b[0m                         Traceback (most recent call last)",
            "\u001b[0;32m/tmp/ipython-input-1-3538986244.py\u001b[0m in \u001b[0;36m<cell line: 0>\u001b[0;34m()\u001b[0m\n\u001b[0;32m----> 1\u001b[0;31m \u001b[0mfobj\u001b[0m\u001b[0;34m=\u001b[0m\u001b[0mopen\u001b[0m\u001b[0;34m(\u001b[0m\u001b[0;34m\"abc.txt\"\u001b[0m\u001b[0;34m)\u001b[0m\u001b[0;34m\u001b[0m\u001b[0;34m\u001b[0m\u001b[0m\n\u001b[0m",
            "\u001b[0;31mFileNotFoundError\u001b[0m: [Errno 2] No such file or directory: 'abc.txt'"
          ]
        }
      ],
      "source": [
        "fobj=open(\"abc.txt\") # Here bidefault access_mode is \"r\""
      ]
    },
    {
      "cell_type": "code",
      "source": [
        "fobj1=open(\"pqr.txt\",\"w\")  # file is created with the help of open function"
      ],
      "metadata": {
        "id": "p3WbQWDa_kkq"
      },
      "execution_count": null,
      "outputs": []
    },
    {
      "cell_type": "code",
      "source": [
        "fobj2 = open(\"xyz.txt\",\"r\")  # First write then read"
      ],
      "metadata": {
        "colab": {
          "base_uri": "https://localhost:8080/",
          "height": 141
        },
        "id": "yvLk7cmT_xTb",
        "outputId": "b04b9bec-9a1d-4fab-d678-f66b50a8d276"
      },
      "execution_count": null,
      "outputs": [
        {
          "output_type": "error",
          "ename": "FileNotFoundError",
          "evalue": "[Errno 2] No such file or directory: 'xyz.txt'",
          "traceback": [
            "\u001b[0;31m---------------------------------------------------------------------------\u001b[0m",
            "\u001b[0;31mFileNotFoundError\u001b[0m                         Traceback (most recent call last)",
            "\u001b[0;32m/tmp/ipython-input-4-1430798940.py\u001b[0m in \u001b[0;36m<cell line: 0>\u001b[0;34m()\u001b[0m\n\u001b[0;32m----> 1\u001b[0;31m \u001b[0mfobj2\u001b[0m \u001b[0;34m=\u001b[0m \u001b[0mopen\u001b[0m\u001b[0;34m(\u001b[0m\u001b[0;34m\"xyz.txt\"\u001b[0m\u001b[0;34m,\u001b[0m\u001b[0;34m\"r\"\u001b[0m\u001b[0;34m)\u001b[0m\u001b[0;34m\u001b[0m\u001b[0;34m\u001b[0m\u001b[0m\n\u001b[0m",
            "\u001b[0;31mFileNotFoundError\u001b[0m: [Errno 2] No such file or directory: 'xyz.txt'"
          ]
        }
      ]
    },
    {
      "cell_type": "markdown",
      "source": [
        "# Attributes for file handling\n",
        "1. fileobject.close  - returns true if file is closed else returns false\n",
        "2. fileobject.mode - return access mode with which file has been created or opened for processing\n",
        "3. fileobject.name - returns name of file\n",
        "4. fileobject.encoding - returns encoding used for storing the data- converts text into bytes"
      ],
      "metadata": {
        "id": "gbMJnKj-XL9j"
      }
    },
    {
      "cell_type": "code",
      "source": [
        "file1 = open(\"abc.txt\",\"w\")\n",
        "print(\"name of file\",file1.name)\n",
        "print(\"mode of file\",file1.mode)\n",
        "print(\"encoding of file\",file1.encoding)\n",
        "print(\"file close\",file1.close)"
      ],
      "metadata": {
        "id": "yvgecBMhAChe",
        "colab": {
          "base_uri": "https://localhost:8080/"
        },
        "outputId": "450dca41-0032-42c9-dcb8-4f64fbb3ee1f"
      },
      "execution_count": null,
      "outputs": [
        {
          "output_type": "stream",
          "name": "stdout",
          "text": [
            "name of file abc.txt\n",
            "mode of file w\n",
            "encoding of file utf-8\n",
            "file close <built-in method close of _io.TextIOWrapper object at 0x791dd2b21150>\n"
          ]
        }
      ]
    },
    {
      "cell_type": "code",
      "source": [
        "# writing:  data within text file using write method\n",
        "# syntax - write(string) - write the string to the file and return the number characters writen\n",
        "# writelines(string) - write the lines to the file"
      ],
      "metadata": {
        "id": "iF7dPWQHXzTr"
      },
      "execution_count": null,
      "outputs": []
    },
    {
      "cell_type": "code",
      "source": [
        "object1 = open(\"file1.txt\",\"w+\")\n",
        "object1.write(\"hope you enjoy python programming\")\n",
        "object1.close()\n",
        "print(\"data is returned successfully file is closed\")"
      ],
      "metadata": {
        "colab": {
          "base_uri": "https://localhost:8080/"
        },
        "id": "qZqWfO87YLuo",
        "outputId": "b867faf1-be93-42d9-caec-fa3327b03164"
      },
      "execution_count": null,
      "outputs": [
        {
          "output_type": "stream",
          "name": "stdout",
          "text": [
            "data is returned successfully file is closed\n"
          ]
        }
      ]
    },
    {
      "cell_type": "code",
      "source": [
        "object2 = open(\"file1.txt\",\"w+\")\n",
        "print(object2.write(\"hope you enjoy MySQL programming\"))\n",
        "object2.close()\n",
        "print(\"data is returned successfully file is closed\")"
      ],
      "metadata": {
        "colab": {
          "base_uri": "https://localhost:8080/"
        },
        "id": "_vaqiq5sYmwo",
        "outputId": "98f7cde7-a9dd-48c5-a5d2-2f80244853c4"
      },
      "execution_count": null,
      "outputs": [
        {
          "output_type": "stream",
          "name": "stdout",
          "text": [
            "32\n",
            "data is returned successfully file is closed\n"
          ]
        }
      ]
    },
    {
      "cell_type": "code",
      "source": [
        "object1 = open(\"file1.txt\",\"w+\")\n",
        "print(object1.writelines(\"i am learning file handling in python\"))\n",
        "object1.close()\n",
        "print(\"data is returned successfully file is closed\")"
      ],
      "metadata": {
        "colab": {
          "base_uri": "https://localhost:8080/"
        },
        "id": "ffQP-M4NZLTA",
        "outputId": "ad04c6b7-0c28-4fe4-cd29-8455fed5b1a4"
      },
      "execution_count": null,
      "outputs": [
        {
          "output_type": "stream",
          "name": "stdout",
          "text": [
            "None\n",
            "data is returned successfully file is closed\n"
          ]
        }
      ]
    },
    {
      "cell_type": "code",
      "source": [
        "object1 = open(\"file1.txt\",\"w+\")\n",
        "lines = [\"good morning all \\n\",\"we have ppf lecture \\n\",\"at 4 PM\"]\n",
        "object1.writelines(lines) # list or tuples or iterables are passed\n",
        "object1.close()\n",
        "print(\"data is returned successfully file is closed\")"
      ],
      "metadata": {
        "colab": {
          "base_uri": "https://localhost:8080/"
        },
        "id": "KZ0BFKHYZgn4",
        "outputId": "627e2d2a-9e55-4d12-d190-bc4827ff940a"
      },
      "execution_count": null,
      "outputs": [
        {
          "output_type": "stream",
          "name": "stdout",
          "text": [
            "data is returned successfully file is closed\n"
          ]
        }
      ]
    },
    {
      "cell_type": "code",
      "source": [
        "object3 = open(\"file2.txt\",\"a\")\n",
        "print(object3.append(\"completed python programming\"))\n",
        "object3.close()"
      ],
      "metadata": {
        "colab": {
          "base_uri": "https://localhost:8080/",
          "height": 176
        },
        "id": "HW2EUwjcZ8RR",
        "outputId": "b17a62cd-5cbf-446a-c1af-cf262fd661b3"
      },
      "execution_count": null,
      "outputs": [
        {
          "output_type": "error",
          "ename": "AttributeError",
          "evalue": "'_io.TextIOWrapper' object has no attribute 'append'",
          "traceback": [
            "\u001b[0;31m---------------------------------------------------------------------------\u001b[0m",
            "\u001b[0;31mAttributeError\u001b[0m                            Traceback (most recent call last)",
            "\u001b[0;32m/tmp/ipython-input-7-1072077281.py\u001b[0m in \u001b[0;36m<cell line: 0>\u001b[0;34m()\u001b[0m\n\u001b[1;32m      1\u001b[0m \u001b[0mobject3\u001b[0m \u001b[0;34m=\u001b[0m \u001b[0mopen\u001b[0m\u001b[0;34m(\u001b[0m\u001b[0;34m\"file2.txt\"\u001b[0m\u001b[0;34m,\u001b[0m\u001b[0;34m\"a\"\u001b[0m\u001b[0;34m)\u001b[0m\u001b[0;34m\u001b[0m\u001b[0;34m\u001b[0m\u001b[0m\n\u001b[0;32m----> 2\u001b[0;31m \u001b[0mprint\u001b[0m\u001b[0;34m(\u001b[0m\u001b[0mobject3\u001b[0m\u001b[0;34m.\u001b[0m\u001b[0mappend\u001b[0m\u001b[0;34m(\u001b[0m\u001b[0;34m\"completed python programming\"\u001b[0m\u001b[0;34m)\u001b[0m\u001b[0;34m)\u001b[0m\u001b[0;34m\u001b[0m\u001b[0;34m\u001b[0m\u001b[0m\n\u001b[0m\u001b[1;32m      3\u001b[0m \u001b[0mobject3\u001b[0m\u001b[0;34m.\u001b[0m\u001b[0mclose\u001b[0m\u001b[0;34m(\u001b[0m\u001b[0;34m)\u001b[0m\u001b[0;34m\u001b[0m\u001b[0;34m\u001b[0m\u001b[0m\n",
            "\u001b[0;31mAttributeError\u001b[0m: '_io.TextIOWrapper' object has no attribute 'append'"
          ]
        }
      ]
    },
    {
      "cell_type": "code",
      "source": [
        "object1 = open(\"file1.txt\",\"a\")\n",
        "object1.write(\"completed python programming\")\n",
        "object1.close()"
      ],
      "metadata": {
        "id": "I1t4kndraPU3"
      },
      "execution_count": null,
      "outputs": []
    },
    {
      "cell_type": "markdown",
      "source": [
        "# Reading from file\n",
        "- 3 methods\n",
        "   1. read(count/size/integer) - read the number of characters from the string, if no arguments is passed, or none or -1 is passed then the entire file is read\n",
        "   2. readline()- used to read single line from file\n",
        "   3. readlines() - used to read all lines from files and return as a list\n",
        "\n",
        "  "
      ],
      "metadata": {
        "id": "XHNrZSFSbSje"
      }
    },
    {
      "cell_type": "code",
      "source": [
        "f1 = open(\"file1.txt\",'r')\n",
        "print(f1.read(5)) # return first 5 characters\n",
        "f1.close()"
      ],
      "metadata": {
        "colab": {
          "base_uri": "https://localhost:8080/"
        },
        "id": "UsY5iTpbaYOc",
        "outputId": "c85f7fa2-7e84-416e-fbfb-3e83993ae044"
      },
      "execution_count": null,
      "outputs": [
        {
          "output_type": "stream",
          "name": "stdout",
          "text": [
            "good \n"
          ]
        }
      ]
    },
    {
      "cell_type": "code",
      "source": [
        "f11 = open(\"file2.txt\",'r')\n",
        "print(f1.read(5)) # return first 5 characters\n",
        "f1.close()"
      ],
      "metadata": {
        "colab": {
          "base_uri": "https://localhost:8080/",
          "height": 176
        },
        "id": "6qItWN5Rb9Je",
        "outputId": "69633727-3e7c-4618-96b0-0b57c218d913"
      },
      "execution_count": null,
      "outputs": [
        {
          "output_type": "error",
          "ename": "ValueError",
          "evalue": "I/O operation on closed file.",
          "traceback": [
            "\u001b[0;31m---------------------------------------------------------------------------\u001b[0m",
            "\u001b[0;31mValueError\u001b[0m                                Traceback (most recent call last)",
            "\u001b[0;32m/tmp/ipython-input-11-2195982944.py\u001b[0m in \u001b[0;36m<cell line: 0>\u001b[0;34m()\u001b[0m\n\u001b[1;32m      1\u001b[0m \u001b[0mf11\u001b[0m \u001b[0;34m=\u001b[0m \u001b[0mopen\u001b[0m\u001b[0;34m(\u001b[0m\u001b[0;34m\"file2.txt\"\u001b[0m\u001b[0;34m,\u001b[0m\u001b[0;34m'r'\u001b[0m\u001b[0;34m)\u001b[0m\u001b[0;34m\u001b[0m\u001b[0;34m\u001b[0m\u001b[0m\n\u001b[0;32m----> 2\u001b[0;31m \u001b[0mprint\u001b[0m\u001b[0;34m(\u001b[0m\u001b[0mf1\u001b[0m\u001b[0;34m.\u001b[0m\u001b[0mread\u001b[0m\u001b[0;34m(\u001b[0m\u001b[0;36m5\u001b[0m\u001b[0;34m)\u001b[0m\u001b[0;34m)\u001b[0m \u001b[0;31m# return first 5 characters\u001b[0m\u001b[0;34m\u001b[0m\u001b[0;34m\u001b[0m\u001b[0m\n\u001b[0m\u001b[1;32m      3\u001b[0m \u001b[0mf1\u001b[0m\u001b[0;34m.\u001b[0m\u001b[0mclose\u001b[0m\u001b[0;34m(\u001b[0m\u001b[0;34m)\u001b[0m\u001b[0;34m\u001b[0m\u001b[0;34m\u001b[0m\u001b[0m\n",
            "\u001b[0;31mValueError\u001b[0m: I/O operation on closed file."
          ]
        }
      ]
    },
    {
      "cell_type": "code",
      "source": [
        "f1 = open(\"file1.txt\",'r')\n",
        "print(f1.read(10)) # return first 10 characters , counts space also\n",
        "f1.close()"
      ],
      "metadata": {
        "colab": {
          "base_uri": "https://localhost:8080/"
        },
        "id": "7k8Le5n1cJpZ",
        "outputId": "542b9dfd-0357-438b-c618-fe174e02c292"
      },
      "execution_count": null,
      "outputs": [
        {
          "output_type": "stream",
          "name": "stdout",
          "text": [
            "good morni\n"
          ]
        }
      ]
    },
    {
      "cell_type": "code",
      "source": [
        "f1 = open(\"file1.txt\",'r')\n",
        "print(f1.readline()) # returns first line\n",
        "f1.close()"
      ],
      "metadata": {
        "colab": {
          "base_uri": "https://localhost:8080/"
        },
        "id": "WAcOcZXdcrhQ",
        "outputId": "be0ca449-c797-4251-bc88-5a891c9045a5"
      },
      "execution_count": null,
      "outputs": [
        {
          "output_type": "stream",
          "name": "stdout",
          "text": [
            "good morning all \n",
            "\n"
          ]
        }
      ]
    },
    {
      "cell_type": "code",
      "source": [
        "f1 = open(\"file1.txt\",'r')\n",
        "print(f1.readlines()) #  space is return as \\n, also return list\n",
        "f1.close()"
      ],
      "metadata": {
        "colab": {
          "base_uri": "https://localhost:8080/"
        },
        "id": "wR-OFOWDcvas",
        "outputId": "b6a72cf7-5c3a-46f9-a5b2-127b06a160b8"
      },
      "execution_count": null,
      "outputs": [
        {
          "output_type": "stream",
          "name": "stdout",
          "text": [
            "['good morning all \\n', 'we have ppf lecture \\n', 'at 4 PMcompleted python programmingcompleted python programming']\n"
          ]
        }
      ]
    },
    {
      "cell_type": "code",
      "source": [
        "f1 = open(\"file1.txt\",'r')\n",
        "print(f1.read())\n",
        "f1.close()"
      ],
      "metadata": {
        "colab": {
          "base_uri": "https://localhost:8080/"
        },
        "id": "4IM0CZiaczNf",
        "outputId": "d1b69b82-57db-44c5-e9fc-fa432d097bb8"
      },
      "execution_count": null,
      "outputs": [
        {
          "output_type": "stream",
          "name": "stdout",
          "text": [
            "good morning all \n",
            "we have ppf lecture \n",
            "at 4 PMcompleted python programmingcompleted python programming\n"
          ]
        }
      ]
    },
    {
      "cell_type": "markdown",
      "source": [
        "# assignment\n",
        "- use with keyword ,tell,seek\n",
        "- display second last line"
      ],
      "metadata": {
        "id": "-_Gjn_QRdMhj"
      }
    },
    {
      "cell_type": "markdown",
      "source": [
        "# Extra for reading:\n",
        "- In python, the seek() and tell() functions are used to work with file objects and their positions within a file. These function are part of the built-in io module, which provides a consistent interface for reading and writing to various filelike objects, such as files, pipes, and in-memory buffers.\n",
        "- seek():\n",
        "   - The seek() function allows you to move the current position within a file to a specific point. The position is specified in bytes, and you can move either forward or backward from the current position.\n",
        "\n",
        "- tell():\n",
        "   - The tell() function returns the current position within the file, in bytes. This can be useful for keeping track of your location within the file or for seeking to a specific position relative to the current position.\n",
        "\n",
        "- truncate():\n",
        "   - When you open a file in python using the open function, you can specify the mode in which you want to open the file. If you specify the mode as 'w' or 'a' the file is opened in write mode and you can write to the file. However, if you want to truncate the file to a specific size, you can use the truncate function."
      ],
      "metadata": {
        "id": "7Wm1v6UdmEgB"
      }
    },
    {
      "cell_type": "code",
      "source": [
        "# seek() Example\n",
        "\n",
        "f1 = open(\"file.txt\",'w+')\n",
        "print(f1.write(\"Hello my name is Jahanvi\"))\n",
        "# move to 10th byte in the file\n",
        "print(f1.seek(10))\n",
        "# Read next 5 bytes\n",
        "data = f1.read(5)\n",
        "print(data)\n",
        "f1.close()"
      ],
      "metadata": {
        "colab": {
          "base_uri": "https://localhost:8080/"
        },
        "id": "aPYTwIYIc6Sh",
        "outputId": "a77865f2-08b8-4418-a9ff-89f18ef5c019"
      },
      "execution_count": null,
      "outputs": [
        {
          "output_type": "stream",
          "name": "stdout",
          "text": [
            "24\n",
            "10\n",
            "ame i\n"
          ]
        }
      ]
    },
    {
      "cell_type": "code",
      "source": [
        "#tell() Example\n",
        "\n",
        "f2 = open(\"file.txt\",'r')\n",
        "# read the first 10 bytes\n",
        "print(f2.read(10))\n",
        "# save the current position\n",
        "current_position = f2.tell()\n",
        "# seek to the saved position\n",
        "print(f2.seek(current_position))"
      ],
      "metadata": {
        "colab": {
          "base_uri": "https://localhost:8080/"
        },
        "id": "L__Bbzg-tM6-",
        "outputId": "06aa58a5-978b-4697-a8b7-8c2b56331c09"
      },
      "execution_count": null,
      "outputs": [
        {
          "output_type": "stream",
          "name": "stdout",
          "text": [
            "Hello my n\n",
            "10\n"
          ]
        }
      ]
    },
    {
      "cell_type": "code",
      "source": [
        "# truncate() example\n",
        "\n",
        "f3 = open(\"file.txt\",'w')\n",
        "print(f3.write(\"Hello, Word\"))\n",
        "print(f3.truncate(5))\n",
        "f3.close()\n"
      ],
      "metadata": {
        "colab": {
          "base_uri": "https://localhost:8080/"
        },
        "id": "Z0D6IMK3vi9A",
        "outputId": "f31ec3bd-b9d5-46e4-f834-4f1ae3d88192"
      },
      "execution_count": null,
      "outputs": [
        {
          "output_type": "stream",
          "name": "stdout",
          "text": [
            "11\n",
            "5\n"
          ]
        }
      ]
    },
    {
      "cell_type": "code",
      "source": [],
      "metadata": {
        "id": "WLlDhtaEwnVm"
      },
      "execution_count": null,
      "outputs": []
    }
  ]
}